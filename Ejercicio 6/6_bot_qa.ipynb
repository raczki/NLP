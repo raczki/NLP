{
  "cells": [
    {
      "cell_type": "markdown",
      "metadata": {
        "id": "pfa39F4lsLf3"
      },
      "source": [
        "<img src=\"https://github.com/hernancontigiani/ceia_memorias_especializacion/raw/master/Figures/logoFIUBA.jpg\" width=\"500\" align=\"center\">\n",
        "\n",
        "\n",
        "# Procesamiento de lenguaje natural\n",
        "## LSTM Bot QA"
      ]
    },
    {
      "cell_type": "markdown",
      "metadata": {
        "id": "ZqO0PRcFsPTe"
      },
      "source": [
        "### Datos\n",
        "El objecto es utilizar datos disponibles del challenge ConvAI2 (Conversational Intelligence Challenge 2) de conversaciones en inglés. Se construirá un BOT para responder a preguntas del usuario (QA).\\\n",
        "[LINK](http://convai.io/data/)"
      ]
    },
    {
      "cell_type": "code",
      "execution_count": 1,
      "metadata": {
        "id": "bDFC0I3j9oFD"
      },
      "outputs": [],
      "source": [
        "!pip install --upgrade --no-cache-dir gdown --quiet"
      ]
    },
    {
      "cell_type": "code",
      "execution_count": 2,
      "metadata": {
        "id": "cq3YXak9sGHd"
      },
      "outputs": [],
      "source": [
        "import re\n",
        "\n",
        "import numpy as np\n",
        "import pandas as pd\n",
        "\n",
        "import tensorflow as tf\n",
        "from keras.preprocessing.text import one_hot\n",
        "from tensorflow.keras.utils import pad_sequences\n",
        "from keras.models import Sequential\n",
        "from keras.layers import Activation, Dropout, Dense\n",
        "from keras.layers import Flatten, LSTM, SimpleRNN\n",
        "from keras.models import Model\n",
        "from tensorflow.keras.layers import Embedding\n",
        "from sklearn.model_selection import train_test_split\n",
        "from keras.preprocessing.text import Tokenizer\n",
        "from keras.layers import Input"
      ]
    },
    {
      "cell_type": "code",
      "execution_count": 3,
      "metadata": {
        "id": "RHNkUaPp6aYq",
        "colab": {
          "base_uri": "https://localhost:8080/"
        },
        "outputId": "b6c55ed7-3eb2-4071-a5ec-95423b996b69"
      },
      "outputs": [
        {
          "output_type": "stream",
          "name": "stderr",
          "text": [
            "Downloading...\n",
            "From: https://drive.google.com/uc?id=1awUxYwImF84MIT5-jCaYAPe2QwSgS1hN&export=download\n",
            "To: /content/data_volunteers.json\n",
            "100%|██████████| 2.58M/2.58M [00:00<00:00, 17.3MB/s]\n"
          ]
        }
      ],
      "source": [
        "# Descargar la carpeta de dataset\n",
        "import os\n",
        "import gdown\n",
        "if os.access('data_volunteers.json', os.F_OK) is False:\n",
        "    url = 'https://drive.google.com/uc?id=1awUxYwImF84MIT5-jCaYAPe2QwSgS1hN&export=download'\n",
        "    output = 'data_volunteers.json'\n",
        "    gdown.download(url, output, quiet=False)\n",
        "else:\n",
        "    print(\"El dataset ya se encuentra descargado\")"
      ]
    },
    {
      "cell_type": "code",
      "execution_count": 4,
      "metadata": {
        "id": "WZy1-wgG-Rp7"
      },
      "outputs": [],
      "source": [
        "# dataset_file\n",
        "import json\n",
        "\n",
        "text_file = \"data_volunteers.json\"\n",
        "with open(text_file) as f:\n",
        "    data = json.load(f) # la variable data será un diccionario"
      ]
    },
    {
      "cell_type": "code",
      "execution_count": 5,
      "metadata": {
        "id": "ue5qd54S-eew",
        "colab": {
          "base_uri": "https://localhost:8080/"
        },
        "outputId": "de7cc712-0621-43f2-ce1f-70766347f993"
      },
      "outputs": [
        {
          "output_type": "execute_result",
          "data": {
            "text/plain": [
              "dict_keys(['dialog', 'start_time', 'end_time', 'bot_profile', 'user_profile', 'eval_score', 'profile_match', 'participant1_id', 'participant2_id'])"
            ]
          },
          "metadata": {},
          "execution_count": 5
        }
      ],
      "source": [
        "# Observar los campos disponibles en cada linea del dataset\n",
        "data[0].keys()"
      ]
    },
    {
      "cell_type": "code",
      "execution_count": 6,
      "metadata": {
        "id": "jHBRAXPl-3dz",
        "colab": {
          "base_uri": "https://localhost:8080/"
        },
        "outputId": "b95fdbaf-95c4-478c-9acf-7d03df3b3499"
      },
      "outputs": [
        {
          "output_type": "stream",
          "name": "stdout",
          "text": [
            "Cantidad de rows utilizadas: 6033\n"
          ]
        }
      ],
      "source": [
        "chat_in = []\n",
        "chat_out = []\n",
        "\n",
        "input_sentences = []\n",
        "output_sentences = []\n",
        "output_sentences_inputs = []\n",
        "max_len = 30\n",
        "\n",
        "def clean_text(txt):\n",
        "    txt = txt.lower()\n",
        "    txt.replace(\"\\'d\", \" had\")\n",
        "    txt.replace(\"\\'s\", \" is\")\n",
        "    txt.replace(\"\\'m\", \" am\")\n",
        "    txt.replace(\"don't\", \"do not\")\n",
        "    txt = re.sub(r'\\W+', ' ', txt)\n",
        "\n",
        "    return txt\n",
        "\n",
        "for line in data:\n",
        "    for i in range(len(line['dialog'])-1):\n",
        "        # vamos separando el texto en \"preguntas\" (chat_in)\n",
        "        # y \"respuestas\" (chat_out)\n",
        "        chat_in = clean_text(line['dialog'][i]['text'])\n",
        "        chat_out = clean_text(line['dialog'][i+1]['text'])\n",
        "\n",
        "        if len(chat_in) >= max_len or len(chat_out) >= max_len:\n",
        "            continue\n",
        "\n",
        "        input_sentence, output = chat_in, chat_out\n",
        "\n",
        "        # output sentence (decoder_output) tiene <eos>\n",
        "        output_sentence = output + ' <eos>'\n",
        "        # output sentence input (decoder_input) tiene <sos>\n",
        "        output_sentence_input = '<sos> ' + output\n",
        "\n",
        "        input_sentences.append(input_sentence)\n",
        "        output_sentences.append(output_sentence)\n",
        "        output_sentences_inputs.append(output_sentence_input)\n",
        "\n",
        "print(\"Cantidad de rows utilizadas:\", len(input_sentences))"
      ]
    },
    {
      "cell_type": "code",
      "execution_count": 7,
      "metadata": {
        "id": "07L1qj8pC_l6",
        "colab": {
          "base_uri": "https://localhost:8080/"
        },
        "outputId": "81a12f4d-18e8-4cc1-8994-ea96233df2e2"
      },
      "outputs": [
        {
          "output_type": "execute_result",
          "data": {
            "text/plain": [
              "('hi how are you ', 'not bad and you  <eos>', '<sos> not bad and you ')"
            ]
          },
          "metadata": {},
          "execution_count": 7
        }
      ],
      "source": [
        "input_sentences[1], output_sentences[1], output_sentences_inputs[1]"
      ]
    },
    {
      "cell_type": "code",
      "source": [
        "for i in range(5):\n",
        " print(f'input: \"{input_sentences[i]}\"- output: \"{output_sentences[i]}\"- output_inputs: \"{output_sentences_inputs[i]}\"')"
      ],
      "metadata": {
        "colab": {
          "base_uri": "https://localhost:8080/"
        },
        "id": "eHAMWgh5WVw9",
        "outputId": "b7cd3e90-6d6d-43ab-95e4-7b6f13494139"
      },
      "execution_count": 8,
      "outputs": [
        {
          "output_type": "stream",
          "name": "stdout",
          "text": [
            "input: \"hello \"- output: \"hi how are you  <eos>\"- output_inputs: \"<sos> hi how are you \"\n",
            "input: \"hi how are you \"- output: \"not bad and you  <eos>\"- output_inputs: \"<sos> not bad and you \"\n",
            "input: \"hi \"- output: \"hello  <eos>\"- output_inputs: \"<sos> hello \"\n",
            "input: \"hi \"- output: \"hello  <eos>\"- output_inputs: \"<sos> hello \"\n",
            "input: \"hi \"- output: \"hello how are you today  <eos>\"- output_inputs: \"<sos> hello how are you today \"\n"
          ]
        }
      ]
    },
    {
      "cell_type": "markdown",
      "metadata": {
        "id": "8P-ynUNP5xp6"
      },
      "source": [
        "### 2 - Preprocesamiento\n",
        "Realizar el preprocesamiento necesario para obtener:\n",
        "- word2idx_inputs, max_input_len\n",
        "- word2idx_outputs, max_out_len, num_words_output\n",
        "- encoder_input_sequences, decoder_output_sequences, decoder_targets"
      ]
    },
    {
      "cell_type": "code",
      "execution_count": 9,
      "metadata": {
        "id": "RyxC5P8V1pk1"
      },
      "outputs": [],
      "source": [
        "# Establecer el límite máximo de palabras únicas en el vocabulario.\n",
        "# Un vocabulario más grande puede abarcar más palabras, pero aumenta la complejidad.\n",
        "MAX_VOCAB_SIZE = 8000"
      ]
    },
    {
      "cell_type": "code",
      "execution_count": 10,
      "metadata": {
        "colab": {
          "base_uri": "https://localhost:8080/"
        },
        "id": "n6JFYLdo1pk1",
        "outputId": "14482279-e7de-4e27-c4df-93122e19e0c8"
      },
      "outputs": [
        {
          "output_type": "stream",
          "name": "stdout",
          "text": [
            "Palabras en el vocabulario: 1799\n",
            "Sentencia de entrada más larga: 9\n"
          ]
        }
      ],
      "source": [
        "from keras.preprocessing.text import Tokenizer\n",
        "\n",
        "# Inicializar el tokenizer de Keras para procesar el texto de entrada\n",
        "# num_words especifica el número máximo de palabras más frecuentes a considerar\n",
        "input_tokenizer = Tokenizer(num_words=MAX_VOCAB_SIZE)\n",
        "\n",
        "# Ajustar el tokenizer a las sentencias de entrada y convertirlas a secuencias de enteros\n",
        "input_tokenizer.fit_on_texts(input_sentences)\n",
        "input_integer_seq = input_tokenizer.texts_to_sequences(input_sentences)\n",
        "\n",
        "# Crear un mapeo de palabra a índice para el vocabulario\n",
        "word2idx_inputs = input_tokenizer.word_index\n",
        "print(\"Palabras en el vocabulario:\", len(word2idx_inputs))\n",
        "\n",
        "# Determinar la longitud de la sentencia más larga en las secuencias de entrada\n",
        "max_input_len = max(len(sen) for sen in input_integer_seq)\n",
        "print(\"Sentencia de entrada más larga:\", max_input_len)"
      ]
    },
    {
      "cell_type": "code",
      "execution_count": 11,
      "metadata": {
        "colab": {
          "base_uri": "https://localhost:8080/"
        },
        "id": "bi3qLRXh1pk1",
        "outputId": "3c11fb85-f619-4909-d0f6-372e558f7e4c"
      },
      "outputs": [
        {
          "output_type": "stream",
          "name": "stdout",
          "text": [
            "Palabras en el vocabulario: 1806\n",
            "Sentencia de salida más larga: 10\n"
          ]
        }
      ],
      "source": [
        "# Inicializar el tokenizer para procesar las sentencias de salida\n",
        "# Se excluyen '\\t' y '\\n' como filtros para mantenerlos en las secuencias\n",
        "output_tokenizer = Tokenizer(num_words=MAX_VOCAB_SIZE, filters='\\t\\n')\n",
        "\n",
        "# Ajustar el tokenizer a las sentencias de salida\n",
        "output_tokenizer.fit_on_texts(output_sentences + output_sentences_inputs)\n",
        "output_integer_seq = output_tokenizer.texts_to_sequences(output_sentences)\n",
        "output_input_integer_seq = output_tokenizer.texts_to_sequences(output_sentences_inputs)\n",
        "\n",
        "# Crear un mapeo de palabra a índice para el vocabulario de salida\n",
        "word2idx_outputs = output_tokenizer.word_index\n",
        "print(\"Palabras en el vocabulario:\", len(word2idx_outputs))\n",
        "\n",
        "# Determinar el número de palabras en el vocabulario de salida, considerando un token adicional para palabras desconocidas\n",
        "num_words_output = min(len(word2idx_outputs) + 1, MAX_VOCAB_SIZE)\n",
        "\n",
        "# Calcular la longitud de la sentencia de salida más larga\n",
        "max_out_len = max(len(sen) for sen in output_integer_seq)\n",
        "print(\"Sentencia de salida más larga:\", max_out_len)"
      ]
    },
    {
      "cell_type": "code",
      "execution_count": 12,
      "metadata": {
        "id": "gAdJrZDX1pk1"
      },
      "outputs": [],
      "source": [
        "# Establecer la longitud máxima para las secuencias de entrada.\n",
        "# Esto define el número máximo de palabras que se considerarán en cada secuencia de entrada.\n",
        "max_input_len = 10"
      ]
    },
    {
      "cell_type": "code",
      "execution_count": 13,
      "metadata": {
        "colab": {
          "base_uri": "https://localhost:8080/"
        },
        "id": "4C3X0YNP1pk1",
        "outputId": "ce3a71be-d1ce-44db-dad9-3a8f67a83fec"
      },
      "outputs": [
        {
          "output_type": "stream",
          "name": "stdout",
          "text": [
            "Cantidad de rows del dataset: 6033\n",
            "encoder_input_sequences shape: (6033, 10)\n",
            "decoder_input_sequences shape: (6033, 10)\n"
          ]
        }
      ],
      "source": [
        "# Imprimir la cantidad total de filas (secuencias) en el dataset\n",
        "print(\"Cantidad de rows del dataset:\", len(input_integer_seq))\n",
        "\n",
        "# Crear secuencias de entrada para el codificador, con un relleno para alcanzar la longitud máxima definida\n",
        "# Esto asegura que todas las secuencias tengan la misma longitud para el modelo\n",
        "encoder_input_sequences = pad_sequences(input_integer_seq, maxlen=max_input_len)\n",
        "print(\"encoder_input_sequences shape:\", encoder_input_sequences.shape)\n",
        "\n",
        "# Preparar las secuencias de entrada para el decodificador, con relleno al final para igualar la longitud máxima\n",
        "# Se busca uniformidad en la longitud de las secuencias para el procesamiento del modelo\n",
        "decoder_input_sequences = pad_sequences(output_input_integer_seq, maxlen=max_out_len, padding='post')\n",
        "print(\"decoder_input_sequences shape:\", decoder_input_sequences.shape)"
      ]
    },
    {
      "cell_type": "code",
      "execution_count": 14,
      "metadata": {
        "colab": {
          "base_uri": "https://localhost:8080/"
        },
        "id": "Q-nbmtcf1pk2",
        "outputId": "c9c6da41-29bd-44a6-a289-b369a9186752"
      },
      "outputs": [
        {
          "output_type": "stream",
          "name": "stdout",
          "text": [
            "Forma de los objetivos del decodificador (decoder_targets): (6033, 10, 1807)\n"
          ]
        }
      ],
      "source": [
        "from keras.utils import to_categorical\n",
        "\n",
        "# Preparar las secuencias de salida del decodificador, aplicando relleno al final para uniformidad de longitud\n",
        "decoder_output_sequences = pad_sequences(output_integer_seq, maxlen=max_out_len, padding='post')\n",
        "\n",
        "# Convertir las secuencias de salida a representaciones categóricas (one-hot encoding)\n",
        "# Esto es útil para la clasificación multiclase en el modelo de aprendizaje profundo\n",
        "decoder_targets = to_categorical(decoder_output_sequences, num_classes=num_words_output)\n",
        "\n",
        "# Imprimir la forma del tensor de objetivos del decodificador para verificar su estructura\n",
        "print(\"Forma de los objetivos del decodificador (decoder_targets):\", decoder_targets.shape)"
      ]
    },
    {
      "cell_type": "markdown",
      "metadata": {
        "id": "_CJIsLBbj6rg"
      },
      "source": [
        "### 3 - Preparar los embeddings\n",
        "Utilizar los embeddings de Glove o FastText para transformar los tokens de entrada en vectores"
      ]
    },
    {
      "cell_type": "code",
      "execution_count": 15,
      "metadata": {
        "colab": {
          "base_uri": "https://localhost:8080/"
        },
        "id": "t5qBcnZC1pk2",
        "outputId": "2aa97d77-c6d2-4b40-cdc9-118a31452d68"
      },
      "outputs": [
        {
          "output_type": "stream",
          "name": "stderr",
          "text": [
            "Downloading...\n",
            "From: https://drive.google.com/u/0/uc?id=1Qi1r-u5lsEsNqRSxLrpNOqQ3B_ufltCa&export=download&confirm=t\n",
            "To: /content/fasttext.pkl\n",
            "100%|██████████| 2.88G/2.88G [00:43<00:00, 65.6MB/s]\n"
          ]
        }
      ],
      "source": [
        "import os\n",
        "import gdown\n",
        "\n",
        "# Verificar si el archivo de embeddings 'fasttext.pkl' ya existe en el directorio actual\n",
        "# Si no existe, se descargará desde un enlace de Google Drive\n",
        "if os.access('fasttext.pkl', os.F_OK) is False:\n",
        "    # URL de descarga para el archivo de embeddings desde Google Drive\n",
        "    url = 'https://drive.google.com/u/0/uc?id=1Qi1r-u5lsEsNqRSxLrpNOqQ3B_ufltCa&export=download&confirm=t'\n",
        "    output = 'fasttext.pkl'\n",
        "\n",
        "    # Descargar el archivo utilizando la biblioteca gdown\n",
        "    gdown.download(url, output, quiet=False)\n",
        "else:\n",
        "    # Imprimir un mensaje si el archivo de embeddings ya está presente\n",
        "    print(\"Los embeddings fasttext.pkl ya están descargados\")"
      ]
    },
    {
      "cell_type": "code",
      "execution_count": 16,
      "metadata": {
        "id": "58RPpNoJ1pk2"
      },
      "outputs": [],
      "source": [
        "import logging\n",
        "import os\n",
        "from pathlib import Path\n",
        "from io import StringIO\n",
        "import pickle\n",
        "import numpy as np\n",
        "\n",
        "# Definición de la clase WordsEmbeddings para manejar embeddings de palabras\n",
        "class WordsEmbeddings(object):\n",
        "    logger = logging.getLogger(__name__)\n",
        "\n",
        "    def __init__(self):\n",
        "        # Cargar los embeddings desde un archivo pickle o convertirlos desde un archivo de texto\n",
        "        words_embedding_pkl = Path(self.PKL_PATH)\n",
        "        if not words_embedding_pkl.is_file():\n",
        "            words_embedding_txt = Path(self.WORD_TO_VEC_MODEL_TXT_PATH)\n",
        "            assert words_embedding_txt.is_file(), 'Words embedding not available'\n",
        "            embeddings = self.convert_model_to_pickle()\n",
        "        else:\n",
        "            embeddings = self.load_model_from_pickle()\n",
        "        self.embeddings = embeddings\n",
        "\n",
        "        # Construir los diccionarios para mapear palabras a índices y viceversa\n",
        "        index = np.arange(self.embeddings.shape[0])\n",
        "        self.word2idx = dict(zip(self.embeddings['word'], index))\n",
        "        self.idx2word = dict(zip(index, self.embeddings['word']))\n",
        "\n",
        "    def get_words_embeddings(self, words):\n",
        "        \"\"\"Obtiene los embeddings para una lista de palabras.\"\"\"\n",
        "        words_idxs = self.words2idxs(words)\n",
        "        return self.embeddings[words_idxs]['embedding']\n",
        "\n",
        "    def words2idxs(self, words):\n",
        "        \"\"\"Convierte palabras en sus índices correspondientes en el vocabulario.\"\"\"\n",
        "        return np.array([self.word2idx.get(word, -1) for word in words])\n",
        "\n",
        "    def idxs2words(self, idxs):\n",
        "        \"\"\"Convierte índices en palabras correspondientes.\"\"\"\n",
        "        return np.array([self.idx2word.get(idx, 'UNK') for idx in idxs])\n",
        "\n",
        "    def load_model_from_pickle(self):\n",
        "        \"\"\"Carga el modelo de embeddings desde un archivo pickle.\"\"\"\n",
        "        self.logger.debug('Cargando embeddings desde el pickle {}'.format(self.PKL_PATH))\n",
        "        max_bytes = 2**28 - 1 # 256MB\n",
        "        bytes_in = bytearray(0)\n",
        "        input_size = os.path.getsize(self.PKL_PATH)\n",
        "        with open(self.PKL_PATH, 'rb') as f_in:\n",
        "            for _ in range(0, input_size, max_bytes):\n",
        "                bytes_in += f_in.read(max_bytes)\n",
        "        embeddings = pickle.loads(bytes_in)\n",
        "        self.logger.debug('Embeddings cargados')\n",
        "        return embeddings\n",
        "\n",
        "    def convert_model_to_pickle(self):\n",
        "        \"\"\"Convierte y carga los embeddings desde un archivo de texto a pickle.\"\"\"\n",
        "        self.logger.debug('Convirtiendo y cargando los embeddings desde el archivo {}'.format(self.WORD_TO_VEC_MODEL_TXT_PATH))\n",
        "        structure = [('word', np.dtype('U' + str(self.WORD_MAX_SIZE))),\n",
        "                     ('embedding', np.float32, (self.N_FEATURES,))]\n",
        "        structure = np.dtype(structure)\n",
        "\n",
        "        with open(self.WORD_TO_VEC_MODEL_TXT_PATH, encoding=\"utf8\") as words_embeddings_txt:\n",
        "            embeddings_gen = (\n",
        "                (line.split()[0], line.split()[1:]) for line in words_embeddings_txt\n",
        "                if len(line.split()[1:]) == self.N_FEATURES)\n",
        "            embeddings = np.fromiter(embeddings_gen, structure)\n",
        "\n",
        "        null_embedding = np.array(\n",
        "            [('null_embedding', np.zeros((self.N_FEATURES,), dtype=np.float32))],\n",
        "            dtype=structure)\n",
        "\n",
        "        embeddings = np.concatenate([embeddings, null_embedding])\n",
        "\n",
        "        max_bytes = 2**28 - 1 # # 256MB\n",
        "        bytes_out = pickle.dumps(embeddings, protocol=pickle.HIGHEST_PROTOCOL)\n",
        "        with open(self.PKL_PATH, 'wb') as f_out:\n",
        "            for idx in range(0, len(bytes_out), max_bytes):\n",
        "                f_out.write(bytes_out[idx:idx+max_bytes])\n",
        "        self.logger.debug('Embeddings cargados')\n",
        "        return embeddings\n",
        "\n",
        "# Subclases para diferentes tipos de embeddings como Glove y Fasttext\n",
        "class GloveEmbeddings(WordsEmbeddings):\n",
        "    WORD_TO_VEC_MODEL_TXT_PATH = 'glove.twitter.27B.50d.txt'\n",
        "    PKL_PATH = 'gloveembedding.pkl'\n",
        "    N_FEATURES = 50\n",
        "    WORD_MAX_SIZE = 60\n",
        "\n",
        "class FasttextEmbeddings(WordsEmbeddings):\n",
        "    WORD_TO_VEC_MODEL_TXT_PATH = 'cc.en.300.vec'\n",
        "    PKL_PATH = 'fasttext.pkl'\n",
        "    N_FEATURES = 300\n",
        "    WORD_MAX_SIZE = 60"
      ]
    },
    {
      "cell_type": "code",
      "execution_count": 17,
      "metadata": {
        "id": "pFRJI9FU1pk2"
      },
      "outputs": [],
      "source": [
        "# Inicializar la instancia de FasttextEmbeddings.\n",
        "# Se configura para utilizar embeddings Fasttext de 300 dimensiones.\n",
        "model_embeddings = FasttextEmbeddings()"
      ]
    },
    {
      "cell_type": "code",
      "execution_count": 18,
      "metadata": {
        "id": "YU_jS2Qu1pk3",
        "colab": {
          "base_uri": "https://localhost:8080/"
        },
        "outputId": "a89f197f-cf3a-4f1f-d42a-953c3067ef4d"
      },
      "outputs": [
        {
          "output_type": "stream",
          "name": "stdout",
          "text": [
            "Cantidad de palabras cuyos embeddings no se encontraron: 1\n"
          ]
        }
      ],
      "source": [
        "# Crear la matriz de embeddings para las secuencias en inglés\n",
        "\n",
        "embed_dim = model_embeddings.N_FEATURES  # Dimensiones de los embeddings\n",
        "words_not_found = []  # Lista para almacenar palabras no encontradas en los embeddings\n",
        "\n",
        "# word_index proviene del tokenizer\n",
        "# nb_words es el tamaño más pequeño entre el tamaño máximo del vocabulario y el número de palabras únicas\n",
        "nb_words = min(MAX_VOCAB_SIZE, len(word2idx_inputs))\n",
        "\n",
        "# Inicializar la matriz de embeddings con ceros\n",
        "embedding_matrix = np.zeros((nb_words, embed_dim))\n",
        "\n",
        "# Llenar la matriz de embeddings con los vectores correspondientes de cada palabra\n",
        "for word, i in word2idx_inputs.items():\n",
        "    if i >= nb_words:\n",
        "        continue  # Ignorar palabras que exceden el tamaño del vocabulario\n",
        "    embedding_vector = model_embeddings.get_words_embeddings(word)[0]\n",
        "    if (embedding_vector is not None) and len(embedding_vector) > 0:\n",
        "        # Asignar el vector de embedding a la matriz\n",
        "        embedding_matrix[i] = embedding_vector\n",
        "    else:\n",
        "        # Las palabras no encontradas en los embeddings se mantienen como vectores de cero\n",
        "        words_not_found.append(word)\n",
        "\n",
        "# Imprimir la cantidad de palabras cuyos embeddings no se encontraron (vectores de cero)\n",
        "print('Cantidad de palabras cuyos embeddings no se encontraron:', np.sum(np.sum(embedding_matrix**2, axis=1) == 0))"
      ]
    },
    {
      "cell_type": "code",
      "execution_count": 19,
      "metadata": {
        "id": "5FA__zE81pk3",
        "colab": {
          "base_uri": "https://localhost:8080/"
        },
        "outputId": "96c03bbe-2155-47aa-8d40-c7e2422eae4a"
      },
      "outputs": [
        {
          "output_type": "execute_result",
          "data": {
            "text/plain": [
              "(1799, 300)"
            ]
          },
          "metadata": {},
          "execution_count": 19
        }
      ],
      "source": [
        "# Dimensión de los embeddings de la secuencia en inglés\n",
        "embedding_matrix.shape"
      ]
    },
    {
      "cell_type": "markdown",
      "metadata": {
        "id": "3vKbhjtIwPgM"
      },
      "source": [
        "### 4 - Entrenar el modelo\n",
        "Entrenar un modelo basado en el esquema encoder-decoder utilizando los datos generados en los puntos anteriores. Utilce como referencias los ejemplos vistos en clase."
      ]
    },
    {
      "cell_type": "code",
      "execution_count": 20,
      "metadata": {
        "id": "TN8dXzg01pk3",
        "colab": {
          "base_uri": "https://localhost:8080/"
        },
        "outputId": "c1771013-c7d7-4596-9812-a9c03bdb4b93"
      },
      "outputs": [
        {
          "output_type": "stream",
          "name": "stdout",
          "text": [
            "Model: \"model\"\n",
            "__________________________________________________________________________________________________\n",
            " Layer (type)                Output Shape                 Param #   Connected to                  \n",
            "==================================================================================================\n",
            " input_1 (InputLayer)        [(None, 10)]                 0         []                            \n",
            "                                                                                                  \n",
            " input_2 (InputLayer)        [(None, 10)]                 0         []                            \n",
            "                                                                                                  \n",
            " embedding (Embedding)       (None, 10, 300)              539700    ['input_1[0][0]']             \n",
            "                                                                                                  \n",
            " embedding_1 (Embedding)     (None, 10, 300)              539700    ['input_2[0][0]']             \n",
            "                                                                                                  \n",
            " lstm (LSTM)                 [(None, 1024),               5427200   ['embedding[0][0]']           \n",
            "                              (None, 1024),                                                       \n",
            "                              (None, 1024)]                                                       \n",
            "                                                                                                  \n",
            " lstm_1 (LSTM)               [(None, 10, 1024),           5427200   ['embedding_1[0][0]',         \n",
            "                              (None, 1024),                          'lstm[0][1]',                \n",
            "                              (None, 1024)]                          'lstm[0][2]']                \n",
            "                                                                                                  \n",
            " dense (Dense)               (None, 10, 1807)             1852175   ['lstm_1[0][0]']              \n",
            "                                                                                                  \n",
            "==================================================================================================\n",
            "Total params: 13785975 (52.59 MB)\n",
            "Trainable params: 12706575 (48.47 MB)\n",
            "Non-trainable params: 1079400 (4.12 MB)\n",
            "__________________________________________________________________________________________________\n"
          ]
        }
      ],
      "source": [
        "from keras.models import Model\n",
        "from keras.layers import Input, LSTM, Dense, Embedding\n",
        "\n",
        "# Definir el número de unidades para las capas LSTM\n",
        "n_units = 1024\n",
        "\n",
        "# Definir el codificador (encoder) para el entrenamiento\n",
        "encoder_inputs = Input(shape=(max_input_len))\n",
        "\n",
        "# Capa de embedding para el codificador\n",
        "# Utiliza la matriz de embeddings previamente creada y es marcada como no entrenable\n",
        "encoder_embedding_layer = Embedding(\n",
        "          input_dim=nb_words,           # Número de palabras definidas en el Tokenizador\n",
        "          output_dim=embed_dim,         # Dimensión de los embeddings utilizados\n",
        "          input_length=max_input_len,   # Tamaño máximo de la secuencia de entrada\n",
        "          weights=[embedding_matrix],   # Matriz de embeddings\n",
        "          trainable=False)              # Marcar como capa no entrenable\n",
        "\n",
        "encoder_inputs_x = encoder_embedding_layer(encoder_inputs)\n",
        "\n",
        "# Definir la capa LSTM del codificador\n",
        "encoder = LSTM(n_units, return_state=True)\n",
        "encoder_outputs, state_h, state_c = encoder(encoder_inputs_x)\n",
        "encoder_states = [state_h, state_c]\n",
        "\n",
        "# Definir el decodificador (decoder) para el entrenamiento\n",
        "decoder_inputs = Input(shape=(max_out_len))\n",
        "\n",
        "# Capa de embedding para el decodificador\n",
        "# Similar a la del codificador, pero ajustada para las secuencias de salida\n",
        "decoder_embedding_layer = Embedding(\n",
        "          input_dim=nb_words,           # Número de palabras definidas en el Tokenizador\n",
        "          output_dim=embed_dim,         # Dimensión de los embeddings utilizados\n",
        "          input_length=max_out_len,     # Tamaño máximo de la secuencia de salida\n",
        "          weights=[embedding_matrix],   # Matriz de embeddings\n",
        "          trainable=False)              # Marcar como capa no entrenable\n",
        "\n",
        "decoder_inputs_x = decoder_embedding_layer(decoder_inputs)\n",
        "\n",
        "# Definir la capa LSTM del decodificador\n",
        "decoder_lstm = LSTM(n_units, return_sequences=True, return_state=True)\n",
        "decoder_outputs, _, _ = decoder_lstm(decoder_inputs_x, initial_state=encoder_states)\n",
        "\n",
        "# Capa densa para clasificar la salida de la secuencia\n",
        "decoder_dense = Dense(num_words_output, activation='softmax')\n",
        "decoder_outputs = decoder_dense(decoder_outputs)\n",
        "\n",
        "# Compilar el modelo\n",
        "model = Model([encoder_inputs, decoder_inputs], decoder_outputs)\n",
        "model.compile(loss='categorical_crossentropy', optimizer=\"Adam\", metrics=['accuracy'])\n",
        "\n",
        "# Mostrar un resumen del modelo\n",
        "model.summary()"
      ]
    },
    {
      "cell_type": "code",
      "execution_count": 21,
      "metadata": {
        "id": "HmZ-oD641pk3",
        "colab": {
          "base_uri": "https://localhost:8080/",
          "height": 533
        },
        "outputId": "87ccb8c6-c7a5-48cf-faa4-9b77e809b465"
      },
      "outputs": [
        {
          "output_type": "execute_result",
          "data": {
            "image/png": "[encoded data removed]",
            "text/plain": [
              "<IPython.core.display.Image object>"
            ]
          },
          "metadata": {},
          "execution_count": 21
        }
      ],
      "source": [
        "from keras.utils import plot_model\n",
        "\n",
        "# Generar y guardar una visualización gráfica del modelo completo (encoder + decoder)\n",
        "# Esto ayuda a entender la arquitectura del modelo, incluyendo las formas de los datos en cada capa y los nombres de las capas\n",
        "# Es útil para depurar, entender y compartir la estructura del modelo con otros\n",
        "plot_model(model, to_file='model_plot.png', show_shapes=True, show_layer_names=True)"
      ]
    },
    {
      "cell_type": "code",
      "execution_count": 22,
      "metadata": {
        "id": "9m-MOPcZ1pk3",
        "colab": {
          "base_uri": "https://localhost:8080/",
          "height": 312
        },
        "outputId": "57f0a1d2-fa78-4dd0-d90b-c4c662a42460"
      },
      "outputs": [
        {
          "output_type": "execute_result",
          "data": {
            "image/png": "[encoded data removed]",
            "text/plain": [
              "<IPython.core.display.Image object>"
            ]
          },
          "metadata": {},
          "execution_count": 22
        }
      ],
      "source": [
        "# Crear el modelo para solo el encoder\n",
        "# Este modelo se usará para la inferencia, donde solo se necesita el estado del encoder\n",
        "encoder_model = Model(encoder_inputs, encoder_states)\n",
        "\n",
        "# Generar y guardar una visualización gráfica del modelo del encoder\n",
        "plot_model(encoder_model, to_file='encoder_plot.png', show_shapes=True, show_layer_names=True)"
      ]
    },
    {
      "cell_type": "code",
      "execution_count": 23,
      "metadata": {
        "id": "m0V36gzI1pk4",
        "colab": {
          "base_uri": "https://localhost:8080/",
          "height": 422
        },
        "outputId": "fba8570d-ab6f-40d9-e6a0-3bacd9a7cef3"
      },
      "outputs": [
        {
          "output_type": "execute_result",
          "data": {
            "image/png": "[encoded data removed]",
            "text/plain": [
              "<IPython.core.display.Image object>"
            ]
          },
          "metadata": {},
          "execution_count": 23
        }
      ],
      "source": [
        "# Crear el modelo para solo el decodificador, que se utilizará para la inferencia\n",
        "# Este modelo facilita la generación de la secuencia de salida palabra por palabra\n",
        "\n",
        "# Definir las entradas de estado para el decodificador\n",
        "decoder_state_input_h = Input(shape=(n_units,))\n",
        "decoder_state_input_c = Input(shape=(n_units,))\n",
        "decoder_states_inputs = [decoder_state_input_h, decoder_state_input_c]\n",
        "\n",
        "# Modificar la capa de embedding del decodificador para aceptar una sola palabra a la vez\n",
        "decoder_inputs_single = Input(shape=(1,))\n",
        "decoder_inputs_single_x = decoder_embedding_layer(decoder_inputs_single)\n",
        "\n",
        "# Definir la arquitectura del decodificador para la inferencia\n",
        "decoder_outputs, state_h, state_c = decoder_lstm(decoder_inputs_single_x, initial_state=decoder_states_inputs)\n",
        "decoder_states = [state_h, state_c]\n",
        "decoder_outputs = decoder_dense(decoder_outputs)\n",
        "\n",
        "# Compilar el modelo del decodificador\n",
        "decoder_model = Model([decoder_inputs_single] + decoder_states_inputs, [decoder_outputs] + decoder_states)\n",
        "\n",
        "# Generar y guardar una visualización gráfica del modelo del decodificador\n",
        "# Esto ayuda a comprender y depurar la arquitectura del decodificador,\n",
        "# mostrando las formas de los datos y los nombres de las capas\n",
        "plot_model(decoder_model, to_file='decoder_plot.png', show_shapes=True, show_layer_names=True)"
      ]
    },
    {
      "cell_type": "code",
      "execution_count": 24,
      "metadata": {
        "id": "tNwqyMda1pk4",
        "colab": {
          "base_uri": "https://localhost:8080/"
        },
        "outputId": "e4fd5b53-8631-41a4-b053-d4fa869d9767"
      },
      "outputs": [
        {
          "output_type": "stream",
          "name": "stdout",
          "text": [
            "Epoch 1/50\n",
            "151/151 [==============================] - 13s 32ms/step - loss: 2.1267 - accuracy: 0.6391 - val_loss: 1.8956 - val_accuracy: 0.6804\n",
            "Epoch 2/50\n",
            "151/151 [==============================] - 3s 23ms/step - loss: 1.5560 - accuracy: 0.7151 - val_loss: 1.7997 - val_accuracy: 0.6968\n",
            "Epoch 3/50\n",
            "151/151 [==============================] - 3s 23ms/step - loss: 1.4073 - accuracy: 0.7300 - val_loss: 1.7588 - val_accuracy: 0.7022\n",
            "Epoch 4/50\n",
            "151/151 [==============================] - 3s 22ms/step - loss: 1.2976 - accuracy: 0.7405 - val_loss: 1.7473 - val_accuracy: 0.7087\n",
            "Epoch 5/50\n",
            "151/151 [==============================] - 3s 22ms/step - loss: 1.2050 - accuracy: 0.7480 - val_loss: 1.7559 - val_accuracy: 0.7079\n",
            "Epoch 6/50\n",
            "151/151 [==============================] - 3s 23ms/step - loss: 1.1179 - accuracy: 0.7545 - val_loss: 1.7575 - val_accuracy: 0.7123\n",
            "Epoch 7/50\n",
            "151/151 [==============================] - 3s 21ms/step - loss: 1.0328 - accuracy: 0.7640 - val_loss: 1.7947 - val_accuracy: 0.7112\n",
            "Epoch 8/50\n",
            "151/151 [==============================] - 3s 23ms/step - loss: 0.9478 - accuracy: 0.7758 - val_loss: 1.8117 - val_accuracy: 0.7102\n",
            "Epoch 9/50\n",
            "151/151 [==============================] - 4s 24ms/step - loss: 0.8653 - accuracy: 0.7887 - val_loss: 1.8455 - val_accuracy: 0.7123\n",
            "Epoch 10/50\n",
            "151/151 [==============================] - 3s 21ms/step - loss: 0.7788 - accuracy: 0.8042 - val_loss: 1.8792 - val_accuracy: 0.7088\n",
            "Epoch 11/50\n",
            "151/151 [==============================] - 3s 21ms/step - loss: 0.6961 - accuracy: 0.8213 - val_loss: 1.9362 - val_accuracy: 0.7066\n",
            "Epoch 12/50\n",
            "151/151 [==============================] - 4s 23ms/step - loss: 0.6138 - accuracy: 0.8398 - val_loss: 1.9772 - val_accuracy: 0.7083\n",
            "Epoch 13/50\n",
            "151/151 [==============================] - 4s 24ms/step - loss: 0.5373 - accuracy: 0.8606 - val_loss: 2.0361 - val_accuracy: 0.7021\n",
            "Epoch 14/50\n",
            "151/151 [==============================] - 3s 22ms/step - loss: 0.4689 - accuracy: 0.8776 - val_loss: 2.0768 - val_accuracy: 0.7001\n",
            "Epoch 15/50\n",
            "151/151 [==============================] - 3s 22ms/step - loss: 0.4151 - accuracy: 0.8919 - val_loss: 2.1166 - val_accuracy: 0.6998\n",
            "Epoch 16/50\n",
            "151/151 [==============================] - 3s 21ms/step - loss: 0.3738 - accuracy: 0.9017 - val_loss: 2.1520 - val_accuracy: 0.6955\n",
            "Epoch 17/50\n",
            "151/151 [==============================] - 4s 24ms/step - loss: 0.3460 - accuracy: 0.9075 - val_loss: 2.2045 - val_accuracy: 0.6983\n",
            "Epoch 18/50\n",
            "151/151 [==============================] - 4s 23ms/step - loss: 0.3265 - accuracy: 0.9118 - val_loss: 2.2305 - val_accuracy: 0.6963\n",
            "Epoch 19/50\n",
            "151/151 [==============================] - 3s 21ms/step - loss: 0.3123 - accuracy: 0.9135 - val_loss: 2.2674 - val_accuracy: 0.6941\n",
            "Epoch 20/50\n",
            "151/151 [==============================] - 3s 21ms/step - loss: 0.3021 - accuracy: 0.9158 - val_loss: 2.2761 - val_accuracy: 0.6948\n",
            "Epoch 21/50\n",
            "151/151 [==============================] - 3s 23ms/step - loss: 0.2965 - accuracy: 0.9162 - val_loss: 2.2953 - val_accuracy: 0.6920\n",
            "Epoch 22/50\n",
            "151/151 [==============================] - 3s 22ms/step - loss: 0.2913 - accuracy: 0.9158 - val_loss: 2.3077 - val_accuracy: 0.6942\n",
            "Epoch 23/50\n",
            "151/151 [==============================] - 4s 23ms/step - loss: 0.2867 - accuracy: 0.9167 - val_loss: 2.3294 - val_accuracy: 0.6932\n",
            "Epoch 24/50\n",
            "151/151 [==============================] - 3s 23ms/step - loss: 0.2828 - accuracy: 0.9173 - val_loss: 2.3402 - val_accuracy: 0.6930\n",
            "Epoch 25/50\n",
            "151/151 [==============================] - 4s 24ms/step - loss: 0.2791 - accuracy: 0.9170 - val_loss: 2.3652 - val_accuracy: 0.6940\n",
            "Epoch 26/50\n",
            "151/151 [==============================] - 3s 22ms/step - loss: 0.2771 - accuracy: 0.9170 - val_loss: 2.3636 - val_accuracy: 0.6920\n",
            "Epoch 27/50\n",
            "151/151 [==============================] - 4s 23ms/step - loss: 0.2745 - accuracy: 0.9177 - val_loss: 2.3665 - val_accuracy: 0.6940\n",
            "Epoch 28/50\n",
            "151/151 [==============================] - 3s 21ms/step - loss: 0.2723 - accuracy: 0.9170 - val_loss: 2.3972 - val_accuracy: 0.6940\n",
            "Epoch 29/50\n",
            "151/151 [==============================] - 4s 24ms/step - loss: 0.2704 - accuracy: 0.9175 - val_loss: 2.4015 - val_accuracy: 0.6906\n",
            "Epoch 30/50\n",
            "151/151 [==============================] - 3s 22ms/step - loss: 0.2685 - accuracy: 0.9179 - val_loss: 2.4206 - val_accuracy: 0.6953\n",
            "Epoch 31/50\n",
            "151/151 [==============================] - 3s 21ms/step - loss: 0.2674 - accuracy: 0.9182 - val_loss: 2.4091 - val_accuracy: 0.6969\n",
            "Epoch 32/50\n",
            "151/151 [==============================] - 3s 21ms/step - loss: 0.2657 - accuracy: 0.9181 - val_loss: 2.4415 - val_accuracy: 0.6931\n",
            "Epoch 33/50\n",
            "151/151 [==============================] - 3s 22ms/step - loss: 0.2648 - accuracy: 0.9177 - val_loss: 2.4271 - val_accuracy: 0.6930\n",
            "Epoch 34/50\n",
            "151/151 [==============================] - 3s 22ms/step - loss: 0.2627 - accuracy: 0.9183 - val_loss: 2.4437 - val_accuracy: 0.6943\n",
            "Epoch 35/50\n",
            "151/151 [==============================] - 3s 23ms/step - loss: 0.2625 - accuracy: 0.9182 - val_loss: 2.4523 - val_accuracy: 0.6931\n",
            "Epoch 36/50\n",
            "151/151 [==============================] - 3s 21ms/step - loss: 0.2601 - accuracy: 0.9191 - val_loss: 2.4617 - val_accuracy: 0.6923\n",
            "Epoch 37/50\n",
            "151/151 [==============================] - 3s 22ms/step - loss: 0.2608 - accuracy: 0.9183 - val_loss: 2.4582 - val_accuracy: 0.6937\n",
            "Epoch 38/50\n",
            "151/151 [==============================] - 4s 24ms/step - loss: 0.2592 - accuracy: 0.9189 - val_loss: 2.4811 - val_accuracy: 0.6916\n",
            "Epoch 39/50\n",
            "151/151 [==============================] - 3s 21ms/step - loss: 0.2587 - accuracy: 0.9184 - val_loss: 2.5147 - val_accuracy: 0.6951\n",
            "Epoch 40/50\n",
            "151/151 [==============================] - 3s 21ms/step - loss: 0.2581 - accuracy: 0.9180 - val_loss: 2.5242 - val_accuracy: 0.6948\n",
            "Epoch 41/50\n",
            "151/151 [==============================] - 3s 22ms/step - loss: 0.2575 - accuracy: 0.9186 - val_loss: 2.5266 - val_accuracy: 0.6928\n",
            "Epoch 42/50\n",
            "151/151 [==============================] - 3s 23ms/step - loss: 0.2558 - accuracy: 0.9196 - val_loss: 2.5074 - val_accuracy: 0.6937\n",
            "Epoch 43/50\n",
            "151/151 [==============================] - 3s 21ms/step - loss: 0.2544 - accuracy: 0.9189 - val_loss: 2.5021 - val_accuracy: 0.6898\n",
            "Epoch 44/50\n",
            "151/151 [==============================] - 3s 21ms/step - loss: 0.2548 - accuracy: 0.9184 - val_loss: 2.5252 - val_accuracy: 0.6923\n",
            "Epoch 45/50\n",
            "151/151 [==============================] - 3s 21ms/step - loss: 0.2544 - accuracy: 0.9188 - val_loss: 2.5041 - val_accuracy: 0.6906\n",
            "Epoch 46/50\n",
            "151/151 [==============================] - 4s 24ms/step - loss: 0.2539 - accuracy: 0.9191 - val_loss: 2.5547 - val_accuracy: 0.6920\n",
            "Epoch 47/50\n",
            "151/151 [==============================] - 3s 21ms/step - loss: 0.2525 - accuracy: 0.9194 - val_loss: 2.5323 - val_accuracy: 0.6916\n",
            "Epoch 48/50\n",
            "151/151 [==============================] - 3s 21ms/step - loss: 0.2550 - accuracy: 0.9188 - val_loss: 2.4292 - val_accuracy: 0.6911\n",
            "Epoch 49/50\n",
            "151/151 [==============================] - 3s 21ms/step - loss: 0.2896 - accuracy: 0.9116 - val_loss: 2.3936 - val_accuracy: 0.6878\n",
            "Epoch 50/50\n",
            "151/151 [==============================] - 3s 23ms/step - loss: 0.2733 - accuracy: 0.9162 - val_loss: 2.4612 - val_accuracy: 0.6886\n"
          ]
        }
      ],
      "source": [
        "# Entrenar el modelo\n",
        "hist = model.fit(\n",
        "    [encoder_input_sequences, decoder_input_sequences],\n",
        "    decoder_targets,\n",
        "    epochs=50,\n",
        "    validation_split=0.2)"
      ]
    },
    {
      "cell_type": "code",
      "execution_count": 25,
      "metadata": {
        "id": "UoXqjwQ91pk4",
        "colab": {
          "base_uri": "https://localhost:8080/",
          "height": 430
        },
        "outputId": "79150570-bcf8-4381-9472-f808070cc1dc"
      },
      "outputs": [
        {
          "output_type": "display_data",
          "data": {
            "text/plain": [
              "<Figure size 640x480 with 1 Axes>"
            ],
            "image/png": "[encoded data removed]"
          },
          "metadata": {}
        }
      ],
      "source": [
        "import matplotlib.pyplot as plt\n",
        "import seaborn as sns\n",
        "\n",
        "# Visualizar el progreso del entrenamiento a través de las épocas\n",
        "\n",
        "# Contar el número de épocas\n",
        "epoch_count = range(1, len(hist.history['accuracy']) + 1)\n",
        "\n",
        "# Graficar la precisión para los conjuntos de entrenamiento y validación\n",
        "sns.lineplot(x=epoch_count,  y=hist.history['accuracy'], label='train')\n",
        "sns.lineplot(x=epoch_count,  y=hist.history['val_accuracy'], label='valid')\n",
        "\n",
        "# Mostrar el gráfico\n",
        "plt.show()"
      ]
    },
    {
      "cell_type": "markdown",
      "metadata": {
        "id": "Zbwn0ekDy_s2"
      },
      "source": [
        "### 5 - Inferencia\n",
        "Experimentar el funcionamiento de su modelo. Recuerde que debe realizar la inferencia de los modelos por separado de encoder y decoder."
      ]
    },
    {
      "cell_type": "code",
      "source": [
        "# Armar los conversores de índice a palabra:\n",
        "idx2word_input = {v:k for k, v in word2idx_inputs.items()}\n",
        "idx2word_target = {v:k for k, v in word2idx_outputs.items()}"
      ],
      "metadata": {
        "id": "Yi95b2MZ2l44"
      },
      "execution_count": 26,
      "outputs": []
    },
    {
      "cell_type": "code",
      "source": [
        "def response(input_seq):\n",
        "    # Se transforma la sequencia de entrada a los estados \"h\" y \"c\" de la LSTM\n",
        "    states_value = encoder_model.predict(input_seq)\n",
        "\n",
        "    # Se inicializa la secuencia de entrada al decoder con \"<sos>\"\n",
        "    target_seq = np.zeros((1, 1))\n",
        "    target_seq[0, 0] = word2idx_outputs['<sos>']  # Use the token for start of sentence\n",
        "\n",
        "    # Se obtiene el índice que finaliza la inferencia\n",
        "    eos = word2idx_outputs['<eos>']  # Use the token for end of sentence\n",
        "\n",
        "    output_sentence = []\n",
        "    for _ in range(max_out_len):\n",
        "        # Predicción del próximo elemento\n",
        "        output_tokens, h, c = decoder_model.predict([target_seq] + states_value)\n",
        "\n",
        "        idx = np.argmax(output_tokens[0, 0, :])\n",
        "\n",
        "        # Si es \"end of sentence\" se acaba\n",
        "        if eos == idx:\n",
        "            break\n",
        "\n",
        "        # Transformar idx a palabra\n",
        "        word = ''\n",
        "        if idx > 0:\n",
        "            word = idx2word_target[idx]\n",
        "            output_sentence.append(word)\n",
        "\n",
        "        # Actualizar los estados dada la última predicción\n",
        "        states_value = [h, c]\n",
        "\n",
        "        # Actualizar secuencia de entrada con la salida (re-alimentación)\n",
        "        target_seq[0, 0] = idx\n",
        "\n",
        "    return ' '.join(output_sentence)"
      ],
      "metadata": {
        "id": "td_FN4o92ng9"
      },
      "execution_count": 27,
      "outputs": []
    },
    {
      "cell_type": "code",
      "source": [
        "i = np.random.choice(len(input_sentences))\n",
        "input_seq = encoder_input_sequences[i:i+1]\n",
        "bot_response = response(input_seq)\n",
        "print('-')\n",
        "print('Input:', input_sentences[i])\n",
        "print('Response:', bot_response)"
      ],
      "metadata": {
        "colab": {
          "base_uri": "https://localhost:8080/"
        },
        "id": "seLXifwFagnd",
        "outputId": "55cdf461-96cf-4718-8d55-8a449b58db89"
      },
      "execution_count": 45,
      "outputs": [
        {
          "output_type": "stream",
          "name": "stdout",
          "text": [
            "1/1 [==============================] - 0s 17ms/step\n",
            "1/1 [==============================] - 0s 18ms/step\n",
            "1/1 [==============================] - 0s 18ms/step\n",
            "1/1 [==============================] - 0s 37ms/step\n",
            "1/1 [==============================] - 0s 32ms/step\n",
            "1/1 [==============================] - 0s 38ms/step\n",
            "-\n",
            "Input: hi\n",
            "Response: hello how are you\n"
          ]
        }
      ]
    },
    {
      "cell_type": "code",
      "source": [
        "def generate_response(input_text):\n",
        "    # Convertir el texto de entrada en una secuencia de enteros\n",
        "    integer_seq = input_tokenizer.texts_to_sequences([input_text])[0]\n",
        "    print(\"Input tokenizado:\", integer_seq)\n",
        "\n",
        "    # Realizar el padding de la secuencia\n",
        "    encoder_input_seq = pad_sequences([integer_seq], maxlen=max_input_len)\n",
        "    print(\"Input con padding:\", encoder_input_seq)\n",
        "\n",
        "    # Generar la respuesta\n",
        "    response_text = response(encoder_input_seq)\n",
        "    return response_text"
      ],
      "metadata": {
        "id": "YvHYZTYfabA2"
      },
      "execution_count": 49,
      "outputs": []
    },
    {
      "cell_type": "code",
      "source": [
        "input_test = \"Where are you from?\"\n",
        "print('Input:', input_test)\n",
        "bot_response = generate_response(input_test)\n",
        "print('Response:', bot_response)"
      ],
      "metadata": {
        "colab": {
          "base_uri": "https://localhost:8080/"
        },
        "id": "r2zCuMySacGs",
        "outputId": "27277bf3-33ce-4bed-9b7e-7f519db9344f"
      },
      "execution_count": 50,
      "outputs": [
        {
          "output_type": "stream",
          "name": "stdout",
          "text": [
            "Input: Where are you from?\n",
            "Input tokenizado: [52, 7, 2, 39]\n",
            "Input con padding: [[ 0  0  0  0  0  0 52  7  2 39]]\n",
            "1/1 [==============================] - 0s 17ms/step\n",
            "1/1 [==============================] - 0s 19ms/step\n",
            "1/1 [==============================] - 0s 19ms/step\n",
            "1/1 [==============================] - 0s 20ms/step\n",
            "1/1 [==============================] - 0s 18ms/step\n",
            "1/1 [==============================] - 0s 20ms/step\n",
            "1/1 [==============================] - 0s 20ms/step\n",
            "1/1 [==============================] - 0s 20ms/step\n",
            "Response: i am from the united states\n"
          ]
        }
      ]
    },
    {
      "cell_type": "code",
      "source": [
        "input_test = \"Do you read?\"\n",
        "print('Input:', input_test)\n",
        "bot_response = generate_response(input_test)\n",
        "print('Response:', bot_response)"
      ],
      "metadata": {
        "id": "bR2c-LVHLF_b",
        "colab": {
          "base_uri": "https://localhost:8080/"
        },
        "outputId": "84dad258-45a2-4256-8bee-bb731dccadda"
      },
      "execution_count": 46,
      "outputs": [
        {
          "output_type": "stream",
          "name": "stdout",
          "text": [
            "Input: Do you read?\n",
            "Tokenized input: [3, 2, 23]\n",
            "Padded input: [[ 0  0  0  0  0  0  0  3  2 23]]\n",
            "1/1 [==============================] - 0s 40ms/step\n",
            "1/1 [==============================] - 0s 39ms/step\n",
            "1/1 [==============================] - 0s 51ms/step\n",
            "1/1 [==============================] - 0s 43ms/step\n",
            "1/1 [==============================] - 0s 30ms/step\n",
            "Response: yes i do\n"
          ]
        }
      ]
    },
    {
      "cell_type": "code",
      "source": [
        "input_test = \"Do you have any pet?\"\n",
        "print('Input:', input_test)\n",
        "bot_response = generate_response(input_test)\n",
        "print('Response:', bot_response)"
      ],
      "metadata": {
        "id": "DTrjLeGB2sBj",
        "colab": {
          "base_uri": "https://localhost:8080/"
        },
        "outputId": "50ae34d5-925f-4902-8118-3953662ae21d"
      },
      "execution_count": 47,
      "outputs": [
        {
          "output_type": "stream",
          "name": "stdout",
          "text": [
            "Input: Do you have any pet?\n",
            "Tokenized input: [3, 2, 16, 31, 252]\n",
            "Padded input: [[  0   0   0   0   0   3   2  16  31 252]]\n",
            "1/1 [==============================] - 0s 19ms/step\n",
            "1/1 [==============================] - 0s 22ms/step\n",
            "1/1 [==============================] - 0s 21ms/step\n",
            "1/1 [==============================] - 0s 25ms/step\n",
            "1/1 [==============================] - 0s 21ms/step\n",
            "Response: no and you\n"
          ]
        }
      ]
    },
    {
      "cell_type": "code",
      "source": [
        "from ipywidgets import widgets\n",
        "from IPython.display import display, clear_output\n",
        "import contextlib\n",
        "import io\n",
        "\n",
        "def on_send_button_clicked(_):\n",
        "    # Cuando se hace clic en el botón de enviar\n",
        "    user_input = text_input.value\n",
        "\n",
        "    # Procesar la entrada del usuario (tokenización y padding)\n",
        "    input_seq = input_tokenizer.texts_to_sequences([user_input])  # Tokenizar\n",
        "    input_seq = pad_sequences(input_seq, maxlen=max_input_len)  # Aplicar padding\n",
        "\n",
        "    # Suprimir los mensajes de progreso de la predicción\n",
        "    with contextlib.redirect_stdout(io.StringIO()):\n",
        "        bot_response = response(input_seq)\n",
        "\n",
        "    # Limpiar la entrada actual\n",
        "    text_input.value = ''\n",
        "\n",
        "    # Mostrar la conversación\n",
        "    print(f\"Tú: {user_input}\")\n",
        "    print(f\"Bot: {bot_response}\")\n",
        "\n",
        "# Crear widget de entrada de texto\n",
        "text_input = widgets.Text(description='Usuario:', placeholder='Escribe algo...')\n",
        "send_button = widgets.Button(description='Enviar')\n",
        "send_button.on_click(on_send_button_clicked)\n",
        "\n",
        "# Mostrar los widgets\n",
        "display(text_input, send_button)"
      ],
      "metadata": {
        "colab": {
          "base_uri": "https://localhost:8080/",
          "height": 185,
          "referenced_widgets": [
            "adc6fc4b2bbd4a39a090e5b833732fa3",
            "ae0e5bd47e6044a487d41b73698c9df6",
            "bd683ada84ac462f81b421675723b814",
            "78984395853844bf89a04d51f97d9f77",
            "80b049b77771415685e9aebf2f86288c",
            "040c49fd818c4cd69436f75f4817d1fa"
          ]
        },
        "id": "ZGC-P7MfaC_g",
        "outputId": "2c99b422-26d0-4bcb-bc8f-7fe93c99f274"
      },
      "execution_count": 62,
      "outputs": [
        {
          "output_type": "display_data",
          "data": {
            "text/plain": [
              "Text(value='', description='Usuario:', placeholder='Escribe algo...')"
            ],
            "application/vnd.jupyter.widget-view+json": {
              "version_major": 2,
              "version_minor": 0,
              "model_id": "adc6fc4b2bbd4a39a090e5b833732fa3"
            }
          },
          "metadata": {}
        },
        {
          "output_type": "display_data",
          "data": {
            "text/plain": [
              "Button(description='Enviar', style=ButtonStyle())"
            ],
            "application/vnd.jupyter.widget-view+json": {
              "version_major": 2,
              "version_minor": 0,
              "model_id": "78984395853844bf89a04d51f97d9f77"
            }
          },
          "metadata": {}
        },
        {
          "output_type": "stream",
          "name": "stdout",
          "text": [
            "Tú: hi\n",
            "Bot: hello how are you\n",
            "Tú: im good, how about you?\n",
            "Bot: i m great thank you\n",
            "Tú: how was your day\n",
            "Bot: i am fine and you\n"
          ]
        }
      ]
    }
  ],
  "metadata": {
    "accelerator": "GPU",
    "colab": {
      "provenance": []
    },
    "kernelspec": {
      "display_name": "Python 3.10.6 64-bit",
      "language": "python",
      "name": "python3"
    },
    "language_info": {
      "codemirror_mode": {
        "name": "ipython",
        "version": 3
      },
      "file_extension": ".py",
      "mimetype": "text/x-python",
      "name": "python",
      "nbconvert_exporter": "python",
      "pygments_lexer": "ipython3",
      "version": "3.11.3"
    },
    "vscode": {
      "interpreter": {
        "hash": "916dbcbb3f70747c44a77c7bcd40155683ae19c65e1c03b4aa3499c5328201f1"
      }
    },
    "widgets": {
      "application/vnd.jupyter.widget-state+json": {
        "adc6fc4b2bbd4a39a090e5b833732fa3": {
          "model_module": "@jupyter-widgets/controls",
          "model_name": "TextModel",
          "model_module_version": "1.5.0",
          "state": {
            "_dom_classes": [],
            "_model_module": "@jupyter-widgets/controls",
            "_model_module_version": "1.5.0",
            "_model_name": "TextModel",
            "_view_count": null,
            "_view_module": "@jupyter-widgets/controls",
            "_view_module_version": "1.5.0",
            "_view_name": "TextView",
            "continuous_update": true,
            "description": "Usuario:",
            "description_tooltip": null,
            "disabled": false,
            "layout": "IPY_MODEL_ae0e5bd47e6044a487d41b73698c9df6",
            "placeholder": "Escribe algo...",
            "style": "IPY_MODEL_bd683ada84ac462f81b421675723b814",
            "value": ""
          }
        },
        "ae0e5bd47e6044a487d41b73698c9df6": {
          "model_module": "@jupyter-widgets/base",
          "model_name": "LayoutModel",
          "model_module_version": "1.2.0",
          "state": {
            "_model_module": "@jupyter-widgets/base",
            "_model_module_version": "1.2.0",
            "_model_name": "LayoutModel",
            "_view_count": null,
            "_view_module": "@jupyter-widgets/base",
            "_view_module_version": "1.2.0",
            "_view_name": "LayoutView",
            "align_content": null,
            "align_items": null,
            "align_self": null,
            "border": null,
            "bottom": null,
            "display": null,
            "flex": null,
            "flex_flow": null,
            "grid_area": null,
            "grid_auto_columns": null,
            "grid_auto_flow": null,
            "grid_auto_rows": null,
            "grid_column": null,
            "grid_gap": null,
            "grid_row": null,
            "grid_template_areas": null,
            "grid_template_columns": null,
            "grid_template_rows": null,
            "height": null,
            "justify_content": null,
            "justify_items": null,
            "left": null,
            "margin": null,
            "max_height": null,
            "max_width": null,
            "min_height": null,
            "min_width": null,
            "object_fit": null,
            "object_position": null,
            "order": null,
            "overflow": null,
            "overflow_x": null,
            "overflow_y": null,
            "padding": null,
            "right": null,
            "top": null,
            "visibility": null,
            "width": null
          }
        },
        "bd683ada84ac462f81b421675723b814": {
          "model_module": "@jupyter-widgets/controls",
          "model_name": "DescriptionStyleModel",
          "model_module_version": "1.5.0",
          "state": {
            "_model_module": "@jupyter-widgets/controls",
            "_model_module_version": "1.5.0",
            "_model_name": "DescriptionStyleModel",
            "_view_count": null,
            "_view_module": "@jupyter-widgets/base",
            "_view_module_version": "1.2.0",
            "_view_name": "StyleView",
            "description_width": ""
          }
        },
        "78984395853844bf89a04d51f97d9f77": {
          "model_module": "@jupyter-widgets/controls",
          "model_name": "ButtonModel",
          "model_module_version": "1.5.0",
          "state": {
            "_dom_classes": [],
            "_model_module": "@jupyter-widgets/controls",
            "_model_module_version": "1.5.0",
            "_model_name": "ButtonModel",
            "_view_count": null,
            "_view_module": "@jupyter-widgets/controls",
            "_view_module_version": "1.5.0",
            "_view_name": "ButtonView",
            "button_style": "",
            "description": "Enviar",
            "disabled": false,
            "icon": "",
            "layout": "IPY_MODEL_80b049b77771415685e9aebf2f86288c",
            "style": "IPY_MODEL_040c49fd818c4cd69436f75f4817d1fa",
            "tooltip": ""
          }
        },
        "80b049b77771415685e9aebf2f86288c": {
          "model_module": "@jupyter-widgets/base",
          "model_name": "LayoutModel",
          "model_module_version": "1.2.0",
          "state": {
            "_model_module": "@jupyter-widgets/base",
            "_model_module_version": "1.2.0",
            "_model_name": "LayoutModel",
            "_view_count": null,
            "_view_module": "@jupyter-widgets/base",
            "_view_module_version": "1.2.0",
            "_view_name": "LayoutView",
            "align_content": null,
            "align_items": null,
            "align_self": null,
            "border": null,
            "bottom": null,
            "display": null,
            "flex": null,
            "flex_flow": null,
            "grid_area": null,
            "grid_auto_columns": null,
            "grid_auto_flow": null,
            "grid_auto_rows": null,
            "grid_column": null,
            "grid_gap": null,
            "grid_row": null,
            "grid_template_areas": null,
            "grid_template_columns": null,
            "grid_template_rows": null,
            "height": null,
            "justify_content": null,
            "justify_items": null,
            "left": null,
            "margin": null,
            "max_height": null,
            "max_width": null,
            "min_height": null,
            "min_width": null,
            "object_fit": null,
            "object_position": null,
            "order": null,
            "overflow": null,
            "overflow_x": null,
            "overflow_y": null,
            "padding": null,
            "right": null,
            "top": null,
            "visibility": null,
            "width": null
          }
        },
        "040c49fd818c4cd69436f75f4817d1fa": {
          "model_module": "@jupyter-widgets/controls",
          "model_name": "ButtonStyleModel",
          "model_module_version": "1.5.0",
          "state": {
            "_model_module": "@jupyter-widgets/controls",
            "_model_module_version": "1.5.0",
            "_model_name": "ButtonStyleModel",
            "_view_count": null,
            "_view_module": "@jupyter-widgets/base",
            "_view_module_version": "1.2.0",
            "_view_name": "StyleView",
            "button_color": null,
            "font_weight": ""
          }
        }
      }
    }
  },
  "nbformat": 4,
  "nbformat_minor": 0
}