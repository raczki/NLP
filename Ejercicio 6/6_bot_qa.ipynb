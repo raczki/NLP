{
  "cells": [
    {
      "cell_type": "markdown",
      "metadata": {
        "id": "pfa39F4lsLf3"
      },
      "source": [
        "<img src=\"https://github.com/hernancontigiani/ceia_memorias_especializacion/raw/master/Figures/logoFIUBA.jpg\" width=\"500\" align=\"center\">\n",
        "\n",
        "\n",
        "# Procesamiento de lenguaje natural\n",
        "## LSTM Bot QA"
      ]
    },
    {
      "cell_type": "markdown",
      "metadata": {
        "id": "ZqO0PRcFsPTe"
      },
      "source": [
        "### Datos\n",
        "El objecto es utilizar datos disponibles del challenge ConvAI2 (Conversational Intelligence Challenge 2) de conversaciones en inglés. Se construirá un BOT para responder a preguntas del usuario (QA).\\\n",
        "[LINK](http://convai.io/data/)"
      ]
    },
    {
      "cell_type": "code",
      "execution_count": 1,
      "metadata": {
        "id": "bDFC0I3j9oFD"
      },
      "outputs": [],
      "source": [
        "!pip install --upgrade --no-cache-dir gdown --quiet"
      ]
    },
    {
      "cell_type": "code",
      "execution_count": 44,
      "metadata": {
        "id": "cq3YXak9sGHd"
      },
      "outputs": [],
      "source": [
        "import re\n",
        "\n",
        "import numpy as np\n",
        "import pandas as pd\n",
        "\n",
        "import tensorflow as tf\n",
        "from keras.preprocessing.text import one_hot\n",
        "from tensorflow.keras.utils import pad_sequences\n",
        "from keras.models import Sequential\n",
        "from keras.layers import Activation, Dropout, Dense\n",
        "from keras.layers import Flatten, LSTM, SimpleRNN\n",
        "from keras.models import Model\n",
        "from tensorflow.keras.layers import Embedding\n",
        "from sklearn.model_selection import train_test_split\n",
        "from keras.preprocessing.text import Tokenizer\n",
        "from keras.layers import Input"
      ]
    },
    {
      "cell_type": "code",
      "execution_count": 45,
      "metadata": {
        "id": "RHNkUaPp6aYq",
        "colab": {
          "base_uri": "https://localhost:8080/"
        },
        "outputId": "074b058e-13e8-430c-834c-327771d64fe6"
      },
      "outputs": [
        {
          "output_type": "stream",
          "name": "stdout",
          "text": [
            "El dataset ya se encuentra descargado\n"
          ]
        }
      ],
      "source": [
        "# Descargar la carpeta de dataset\n",
        "import os\n",
        "import gdown\n",
        "if os.access('data_volunteers.json', os.F_OK) is False:\n",
        "    url = 'https://drive.google.com/uc?id=1awUxYwImF84MIT5-jCaYAPe2QwSgS1hN&export=download'\n",
        "    output = 'data_volunteers.json'\n",
        "    gdown.download(url, output, quiet=False)\n",
        "else:\n",
        "    print(\"El dataset ya se encuentra descargado\")"
      ]
    },
    {
      "cell_type": "code",
      "execution_count": 46,
      "metadata": {
        "id": "WZy1-wgG-Rp7"
      },
      "outputs": [],
      "source": [
        "# dataset_file\n",
        "import json\n",
        "\n",
        "text_file = \"data_volunteers.json\"\n",
        "with open(text_file) as f:\n",
        "    data = json.load(f) # la variable data será un diccionario"
      ]
    },
    {
      "cell_type": "code",
      "execution_count": 47,
      "metadata": {
        "id": "ue5qd54S-eew",
        "colab": {
          "base_uri": "https://localhost:8080/"
        },
        "outputId": "acafdcfb-3300-421d-b3ae-14cd42abbd44"
      },
      "outputs": [
        {
          "output_type": "execute_result",
          "data": {
            "text/plain": [
              "dict_keys(['dialog', 'start_time', 'end_time', 'bot_profile', 'user_profile', 'eval_score', 'profile_match', 'participant1_id', 'participant2_id'])"
            ]
          },
          "metadata": {},
          "execution_count": 47
        }
      ],
      "source": [
        "# Observar los campos disponibles en cada linea del dataset\n",
        "data[0].keys()"
      ]
    },
    {
      "cell_type": "code",
      "execution_count": 48,
      "metadata": {
        "id": "jHBRAXPl-3dz",
        "colab": {
          "base_uri": "https://localhost:8080/"
        },
        "outputId": "89c8f52d-b9c2-42ca-fceb-5dca6adb1783"
      },
      "outputs": [
        {
          "output_type": "stream",
          "name": "stdout",
          "text": [
            "Cantidad de rows utilizadas: 6033\n"
          ]
        }
      ],
      "source": [
        "chat_in = []\n",
        "chat_out = []\n",
        "\n",
        "input_sentences = []\n",
        "output_sentences = []\n",
        "output_sentences_inputs = []\n",
        "max_len = 30\n",
        "\n",
        "def clean_text(txt):\n",
        "    txt = txt.lower()\n",
        "    txt.replace(\"\\'d\", \" had\")\n",
        "    txt.replace(\"\\'s\", \" is\")\n",
        "    txt.replace(\"\\'m\", \" am\")\n",
        "    txt.replace(\"don't\", \"do not\")\n",
        "    txt = re.sub(r'\\W+', ' ', txt)\n",
        "\n",
        "    return txt\n",
        "\n",
        "for line in data:\n",
        "    for i in range(len(line['dialog'])-1):\n",
        "        # vamos separando el texto en \"preguntas\" (chat_in)\n",
        "        # y \"respuestas\" (chat_out)\n",
        "        chat_in = clean_text(line['dialog'][i]['text'])\n",
        "        chat_out = clean_text(line['dialog'][i+1]['text'])\n",
        "\n",
        "        if len(chat_in) >= max_len or len(chat_out) >= max_len:\n",
        "            continue\n",
        "\n",
        "        input_sentence, output = chat_in, chat_out\n",
        "\n",
        "        # output sentence (decoder_output) tiene <eos>\n",
        "        output_sentence = output + ' <eos>'\n",
        "        # output sentence input (decoder_input) tiene <sos>\n",
        "        output_sentence_input = '<sos> ' + output\n",
        "\n",
        "        input_sentences.append(input_sentence)\n",
        "        output_sentences.append(output_sentence)\n",
        "        output_sentences_inputs.append(output_sentence_input)\n",
        "\n",
        "print(\"Cantidad de rows utilizadas:\", len(input_sentences))"
      ]
    },
    {
      "cell_type": "code",
      "execution_count": 49,
      "metadata": {
        "id": "07L1qj8pC_l6",
        "colab": {
          "base_uri": "https://localhost:8080/"
        },
        "outputId": "c7d5f29d-ca86-405c-cfeb-6d7c0c56ba4d"
      },
      "outputs": [
        {
          "output_type": "execute_result",
          "data": {
            "text/plain": [
              "('hi how are you ', 'not bad and you  <eos>', '<sos> not bad and you ')"
            ]
          },
          "metadata": {},
          "execution_count": 49
        }
      ],
      "source": [
        "input_sentences[1], output_sentences[1], output_sentences_inputs[1]"
      ]
    },
    {
      "cell_type": "markdown",
      "metadata": {
        "id": "8P-ynUNP5xp6"
      },
      "source": [
        "### 2 - Preprocesamiento\n",
        "Realizar el preprocesamiento necesario para obtener:\n",
        "- word2idx_inputs, max_input_len\n",
        "- word2idx_outputs, max_out_len, num_words_output\n",
        "- encoder_input_sequences, decoder_output_sequences, decoder_targets"
      ]
    },
    {
      "cell_type": "code",
      "execution_count": 50,
      "metadata": {
        "id": "RyxC5P8V1pk1"
      },
      "outputs": [],
      "source": [
        "# Establecer el límite máximo de palabras únicas en el vocabulario.\n",
        "# Un vocabulario más grande puede abarcar más palabras, pero aumenta la complejidad.\n",
        "MAX_VOCAB_SIZE = 30000"
      ]
    },
    {
      "cell_type": "code",
      "execution_count": 51,
      "metadata": {
        "colab": {
          "base_uri": "https://localhost:8080/"
        },
        "id": "n6JFYLdo1pk1",
        "outputId": "f803320b-5583-4f51-acce-510bb6f448bc"
      },
      "outputs": [
        {
          "output_type": "stream",
          "name": "stdout",
          "text": [
            "Palabras en el vocabulario: 1799\n",
            "Sentencia de entrada más larga: 9\n"
          ]
        }
      ],
      "source": [
        "from keras.preprocessing.text import Tokenizer\n",
        "\n",
        "# Inicializar el tokenizer de Keras para procesar el texto de entrada\n",
        "# num_words especifica el número máximo de palabras más frecuentes a considerar\n",
        "input_tokenizer = Tokenizer(num_words=MAX_VOCAB_SIZE)\n",
        "\n",
        "# Ajustar el tokenizer a las sentencias de entrada y convertirlas a secuencias de enteros\n",
        "input_tokenizer.fit_on_texts(input_sentences)\n",
        "input_integer_seq = input_tokenizer.texts_to_sequences(input_sentences)\n",
        "\n",
        "# Crear un mapeo de palabra a índice para el vocabulario\n",
        "word2idx_inputs = input_tokenizer.word_index\n",
        "print(\"Palabras en el vocabulario:\", len(word2idx_inputs))\n",
        "\n",
        "# Determinar la longitud de la sentencia más larga en las secuencias de entrada\n",
        "max_input_len = max(len(sen) for sen in input_integer_seq)\n",
        "print(\"Sentencia de entrada más larga:\", max_input_len)"
      ]
    },
    {
      "cell_type": "code",
      "execution_count": 52,
      "metadata": {
        "colab": {
          "base_uri": "https://localhost:8080/"
        },
        "id": "bi3qLRXh1pk1",
        "outputId": "49d05986-0ec3-4ab2-da6d-8dadd76725c2"
      },
      "outputs": [
        {
          "output_type": "stream",
          "name": "stdout",
          "text": [
            "Palabras en el vocabulario: 1805\n",
            "Sentencia de salida más larga: 10\n"
          ]
        }
      ],
      "source": [
        "# Inicializar el tokenizer para procesar las sentencias de salida\n",
        "# Se excluyen '\\t' y '\\n' como filtros para mantenerlos en las secuencias\n",
        "output_tokenizer = Tokenizer(num_words=MAX_VOCAB_SIZE, filters='\\t\\n')\n",
        "\n",
        "# Ajustar el tokenizer a las sentencias de salida\n",
        "output_tokenizer.fit_on_texts([\"\", \"\"] + output_sentences)\n",
        "output_integer_seq = output_tokenizer.texts_to_sequences(output_sentences)\n",
        "output_input_integer_seq = output_tokenizer.texts_to_sequences(output_sentences_inputs)\n",
        "\n",
        "# Crear un mapeo de palabra a índice para el vocabulario de salida\n",
        "word2idx_outputs = output_tokenizer.word_index\n",
        "print(\"Palabras en el vocabulario:\", len(word2idx_outputs))\n",
        "\n",
        "# Determinar el número de palabras en el vocabulario de salida, considerando un token adicional para palabras desconocidas\n",
        "num_words_output = min(len(word2idx_outputs) + 1, MAX_VOCAB_SIZE)\n",
        "\n",
        "# Calcular la longitud de la sentencia de salida más larga\n",
        "max_out_len = max(len(sen) for sen in output_integer_seq)\n",
        "print(\"Sentencia de salida más larga:\", max_out_len)"
      ]
    },
    {
      "cell_type": "code",
      "execution_count": 53,
      "metadata": {
        "id": "gAdJrZDX1pk1"
      },
      "outputs": [],
      "source": [
        "# Establecer la longitud máxima para las secuencias de entrada.\n",
        "# Esto define el número máximo de palabras que se considerarán en cada secuencia de entrada.\n",
        "max_input_len = 10"
      ]
    },
    {
      "cell_type": "code",
      "execution_count": 54,
      "metadata": {
        "colab": {
          "base_uri": "https://localhost:8080/"
        },
        "id": "4C3X0YNP1pk1",
        "outputId": "e3dca323-6c9c-485f-f8b8-1872be3df969"
      },
      "outputs": [
        {
          "output_type": "stream",
          "name": "stdout",
          "text": [
            "Cantidad de rows del dataset: 6033\n",
            "encoder_input_sequences shape: (6033, 10)\n",
            "decoder_input_sequences shape: (6033, 10)\n"
          ]
        }
      ],
      "source": [
        "# Imprimir la cantidad total de filas (secuencias) en el dataset\n",
        "print(\"Cantidad de rows del dataset:\", len(input_integer_seq))\n",
        "\n",
        "# Crear secuencias de entrada para el codificador, con un relleno para alcanzar la longitud máxima definida\n",
        "# Esto asegura que todas las secuencias tengan la misma longitud para el modelo\n",
        "encoder_input_sequences = pad_sequences(input_integer_seq, maxlen=max_input_len)\n",
        "print(\"encoder_input_sequences shape:\", encoder_input_sequences.shape)\n",
        "\n",
        "# Preparar las secuencias de entrada para el decodificador, con relleno al final para igualar la longitud máxima\n",
        "# Se busca uniformidad en la longitud de las secuencias para el procesamiento del modelo\n",
        "decoder_input_sequences = pad_sequences(output_input_integer_seq, maxlen=max_out_len, padding='post')\n",
        "print(\"decoder_input_sequences shape:\", decoder_input_sequences.shape)"
      ]
    },
    {
      "cell_type": "code",
      "execution_count": 55,
      "metadata": {
        "colab": {
          "base_uri": "https://localhost:8080/"
        },
        "id": "Q-nbmtcf1pk2",
        "outputId": "4f7530db-0640-4e4a-8109-85d1c7315765"
      },
      "outputs": [
        {
          "output_type": "stream",
          "name": "stdout",
          "text": [
            "Forma de los objetivos del decodificador (decoder_targets): (6033, 10, 1806)\n"
          ]
        }
      ],
      "source": [
        "from keras.utils import to_categorical\n",
        "\n",
        "# Preparar las secuencias de salida del decodificador, aplicando relleno al final para uniformidad de longitud\n",
        "decoder_output_sequences = pad_sequences(output_integer_seq, maxlen=max_out_len, padding='post')\n",
        "\n",
        "# Convertir las secuencias de salida a representaciones categóricas (one-hot encoding)\n",
        "# Esto es útil para la clasificación multiclase en el modelo de aprendizaje profundo\n",
        "decoder_targets = to_categorical(decoder_output_sequences, num_classes=num_words_output)\n",
        "\n",
        "# Imprimir la forma del tensor de objetivos del decodificador para verificar su estructura\n",
        "print(\"Forma de los objetivos del decodificador (decoder_targets):\", decoder_targets.shape)"
      ]
    },
    {
      "cell_type": "markdown",
      "metadata": {
        "id": "_CJIsLBbj6rg"
      },
      "source": [
        "### 3 - Preparar los embeddings\n",
        "Utilizar los embeddings de Glove o FastText para transformar los tokens de entrada en vectores"
      ]
    },
    {
      "cell_type": "code",
      "execution_count": 56,
      "metadata": {
        "colab": {
          "base_uri": "https://localhost:8080/"
        },
        "id": "t5qBcnZC1pk2",
        "outputId": "fabc8224-d91a-4903-e4e7-6a9d62fa7f30"
      },
      "outputs": [
        {
          "output_type": "stream",
          "name": "stdout",
          "text": [
            "Los embeddings fasttext.pkl ya están descargados\n"
          ]
        }
      ],
      "source": [
        "import os\n",
        "import gdown\n",
        "\n",
        "# Verificar si el archivo de embeddings 'fasttext.pkl' ya existe en el directorio actual\n",
        "# Si no existe, se descargará desde un enlace de Google Drive\n",
        "if os.access('fasttext.pkl', os.F_OK) is False:\n",
        "    # URL de descarga para el archivo de embeddings desde Google Drive\n",
        "    url = 'https://drive.google.com/u/0/uc?id=1Qi1r-u5lsEsNqRSxLrpNOqQ3B_ufltCa&export=download&confirm=t'\n",
        "    output = 'fasttext.pkl'\n",
        "\n",
        "    # Descargar el archivo utilizando la biblioteca gdown\n",
        "    gdown.download(url, output, quiet=False)\n",
        "else:\n",
        "    # Imprimir un mensaje si el archivo de embeddings ya está presente\n",
        "    print(\"Los embeddings fasttext.pkl ya están descargados\")"
      ]
    },
    {
      "cell_type": "code",
      "execution_count": 57,
      "metadata": {
        "id": "58RPpNoJ1pk2"
      },
      "outputs": [],
      "source": [
        "import logging\n",
        "import os\n",
        "from pathlib import Path\n",
        "from io import StringIO\n",
        "import pickle\n",
        "import numpy as np\n",
        "\n",
        "# Definición de la clase WordsEmbeddings para manejar embeddings de palabras\n",
        "class WordsEmbeddings(object):\n",
        "    logger = logging.getLogger(__name__)\n",
        "\n",
        "    def __init__(self):\n",
        "        # Cargar los embeddings desde un archivo pickle o convertirlos desde un archivo de texto\n",
        "        words_embedding_pkl = Path(self.PKL_PATH)\n",
        "        if not words_embedding_pkl.is_file():\n",
        "            words_embedding_txt = Path(self.WORD_TO_VEC_MODEL_TXT_PATH)\n",
        "            assert words_embedding_txt.is_file(), 'Words embedding not available'\n",
        "            embeddings = self.convert_model_to_pickle()\n",
        "        else:\n",
        "            embeddings = self.load_model_from_pickle()\n",
        "        self.embeddings = embeddings\n",
        "\n",
        "        # Construir los diccionarios para mapear palabras a índices y viceversa\n",
        "        index = np.arange(self.embeddings.shape[0])\n",
        "        self.word2idx = dict(zip(self.embeddings['word'], index))\n",
        "        self.idx2word = dict(zip(index, self.embeddings['word']))\n",
        "\n",
        "    def get_words_embeddings(self, words):\n",
        "        \"\"\"Obtiene los embeddings para una lista de palabras.\"\"\"\n",
        "        words_idxs = self.words2idxs(words)\n",
        "        return self.embeddings[words_idxs]['embedding']\n",
        "\n",
        "    def words2idxs(self, words):\n",
        "        \"\"\"Convierte palabras en sus índices correspondientes en el vocabulario.\"\"\"\n",
        "        return np.array([self.word2idx.get(word, -1) for word in words])\n",
        "\n",
        "    def idxs2words(self, idxs):\n",
        "        \"\"\"Convierte índices en palabras correspondientes.\"\"\"\n",
        "        return np.array([self.idx2word.get(idx, 'UNK') for idx in idxs])\n",
        "\n",
        "    def load_model_from_pickle(self):\n",
        "        \"\"\"Carga el modelo de embeddings desde un archivo pickle.\"\"\"\n",
        "        self.logger.debug('Cargando embeddings desde el pickle {}'.format(self.PKL_PATH))\n",
        "        max_bytes = 2**28 - 1 # 256MB\n",
        "        bytes_in = bytearray(0)\n",
        "        input_size = os.path.getsize(self.PKL_PATH)\n",
        "        with open(self.PKL_PATH, 'rb') as f_in:\n",
        "            for _ in range(0, input_size, max_bytes):\n",
        "                bytes_in += f_in.read(max_bytes)\n",
        "        embeddings = pickle.loads(bytes_in)\n",
        "        self.logger.debug('Embeddings cargados')\n",
        "        return embeddings\n",
        "\n",
        "    def convert_model_to_pickle(self):\n",
        "        \"\"\"Convierte y carga los embeddings desde un archivo de texto a pickle.\"\"\"\n",
        "        self.logger.debug('Convirtiendo y cargando los embeddings desde el archivo {}'.format(self.WORD_TO_VEC_MODEL_TXT_PATH))\n",
        "        structure = [('word', np.dtype('U' + str(self.WORD_MAX_SIZE))),\n",
        "                     ('embedding', np.float32, (self.N_FEATURES,))]\n",
        "        structure = np.dtype(structure)\n",
        "\n",
        "        with open(self.WORD_TO_VEC_MODEL_TXT_PATH, encoding=\"utf8\") as words_embeddings_txt:\n",
        "            embeddings_gen = (\n",
        "                (line.split()[0], line.split()[1:]) for line in words_embeddings_txt\n",
        "                if len(line.split()[1:]) == self.N_FEATURES)\n",
        "            embeddings = np.fromiter(embeddings_gen, structure)\n",
        "\n",
        "        null_embedding = np.array(\n",
        "            [('null_embedding', np.zeros((self.N_FEATURES,), dtype=np.float32))],\n",
        "            dtype=structure)\n",
        "\n",
        "        embeddings = np.concatenate([embeddings, null_embedding])\n",
        "\n",
        "        max_bytes = 2**28 - 1 # # 256MB\n",
        "        bytes_out = pickle.dumps(embeddings, protocol=pickle.HIGHEST_PROTOCOL)\n",
        "        with open(self.PKL_PATH, 'wb') as f_out:\n",
        "            for idx in range(0, len(bytes_out), max_bytes):\n",
        "                f_out.write(bytes_out[idx:idx+max_bytes])\n",
        "        self.logger.debug('Embeddings cargados')\n",
        "        return embeddings\n",
        "\n",
        "# Subclases para diferentes tipos de embeddings como Glove y Fasttext\n",
        "class GloveEmbeddings(WordsEmbeddings):\n",
        "    WORD_TO_VEC_MODEL_TXT_PATH = 'glove.twitter.27B.50d.txt'\n",
        "    PKL_PATH = 'gloveembedding.pkl'\n",
        "    N_FEATURES = 50\n",
        "    WORD_MAX_SIZE = 60\n",
        "\n",
        "class FasttextEmbeddings(WordsEmbeddings):\n",
        "    WORD_TO_VEC_MODEL_TXT_PATH = 'cc.en.300.vec'\n",
        "    PKL_PATH = 'fasttext.pkl'\n",
        "    N_FEATURES = 300\n",
        "    WORD_MAX_SIZE = 60"
      ]
    },
    {
      "cell_type": "code",
      "execution_count": 58,
      "metadata": {
        "id": "pFRJI9FU1pk2"
      },
      "outputs": [],
      "source": [
        "# Inicializar la instancia de FasttextEmbeddings.\n",
        "# Se configura para utilizar embeddings Fasttext de 300 dimensiones.\n",
        "model_embeddings = FasttextEmbeddings()"
      ]
    },
    {
      "cell_type": "code",
      "execution_count": 59,
      "metadata": {
        "colab": {
          "base_uri": "https://localhost:8080/"
        },
        "id": "YU_jS2Qu1pk3",
        "outputId": "b46beae8-b9c8-4077-98b2-ec4bbf2ec1bd"
      },
      "outputs": [
        {
          "output_type": "stream",
          "name": "stdout",
          "text": [
            "Cantidad de palabras cuyos embeddings no se encontraron: 1\n"
          ]
        }
      ],
      "source": [
        "# Crear la matriz de embeddings para las secuencias en inglés\n",
        "\n",
        "embed_dim = model_embeddings.N_FEATURES  # Dimensiones de los embeddings\n",
        "words_not_found = []  # Lista para almacenar palabras no encontradas en los embeddings\n",
        "\n",
        "# word_index proviene del tokenizer\n",
        "# nb_words es el tamaño más pequeño entre el tamaño máximo del vocabulario y el número de palabras únicas\n",
        "nb_words = min(MAX_VOCAB_SIZE, len(word2idx_inputs))\n",
        "\n",
        "# Inicializar la matriz de embeddings con ceros\n",
        "embedding_matrix = np.zeros((nb_words, embed_dim))\n",
        "\n",
        "# Llenar la matriz de embeddings con los vectores correspondientes de cada palabra\n",
        "for word, i in word2idx_inputs.items():\n",
        "    if i >= nb_words:\n",
        "        continue  # Ignorar palabras que exceden el tamaño del vocabulario\n",
        "    embedding_vector = model_embeddings.get_words_embeddings(word)[0]\n",
        "    if (embedding_vector is not None) and len(embedding_vector) > 0:\n",
        "        # Asignar el vector de embedding a la matriz\n",
        "        embedding_matrix[i] = embedding_vector\n",
        "    else:\n",
        "        # Las palabras no encontradas en los embeddings se mantienen como vectores de cero\n",
        "        words_not_found.append(word)\n",
        "\n",
        "# Imprimir la cantidad de palabras cuyos embeddings no se encontraron (vectores de cero)\n",
        "print('Cantidad de palabras cuyos embeddings no se encontraron:', np.sum(np.sum(embedding_matrix**2, axis=1) == 0))"
      ]
    },
    {
      "cell_type": "code",
      "execution_count": 60,
      "metadata": {
        "colab": {
          "base_uri": "https://localhost:8080/"
        },
        "id": "5FA__zE81pk3",
        "outputId": "d1a3ce7e-48cf-4f5c-e784-6dc80ccd799e"
      },
      "outputs": [
        {
          "output_type": "execute_result",
          "data": {
            "text/plain": [
              "(1799, 300)"
            ]
          },
          "metadata": {},
          "execution_count": 60
        }
      ],
      "source": [
        "# Dimensión de los embeddings de la secuencia en inglés\n",
        "embedding_matrix.shape"
      ]
    },
    {
      "cell_type": "markdown",
      "metadata": {
        "id": "3vKbhjtIwPgM"
      },
      "source": [
        "### 4 - Entrenar el modelo\n",
        "Entrenar un modelo basado en el esquema encoder-decoder utilizando los datos generados en los puntos anteriores. Utilce como referencias los ejemplos vistos en clase."
      ]
    },
    {
      "cell_type": "code",
      "execution_count": 63,
      "metadata": {
        "colab": {
          "base_uri": "https://localhost:8080/"
        },
        "id": "TN8dXzg01pk3",
        "outputId": "b3c96fec-ddcc-47fb-e619-4a9888135f17"
      },
      "outputs": [
        {
          "output_type": "stream",
          "name": "stdout",
          "text": [
            "Model: \"model_4\"\n",
            "__________________________________________________________________________________________________\n",
            " Layer (type)                Output Shape                 Param #   Connected to                  \n",
            "==================================================================================================\n",
            " input_8 (InputLayer)        [(None, 10)]                 0         []                            \n",
            "                                                                                                  \n",
            " input_9 (InputLayer)        [(None, 10)]                 0         []                            \n",
            "                                                                                                  \n",
            " embedding_4 (Embedding)     (None, 10, 300)              539700    ['input_8[0][0]']             \n",
            "                                                                                                  \n",
            " embedding_5 (Embedding)     (None, 10, 300)              539700    ['input_9[0][0]']             \n",
            "                                                                                                  \n",
            " lstm_4 (LSTM)               [(None, 1024),               5427200   ['embedding_4[0][0]']         \n",
            "                              (None, 1024),                                                       \n",
            "                              (None, 1024)]                                                       \n",
            "                                                                                                  \n",
            " lstm_5 (LSTM)               [(None, 10, 1024),           5427200   ['embedding_5[0][0]',         \n",
            "                              (None, 1024),                          'lstm_4[0][1]',              \n",
            "                              (None, 1024)]                          'lstm_4[0][2]']              \n",
            "                                                                                                  \n",
            " dense_2 (Dense)             (None, 10, 1806)             1851150   ['lstm_5[0][0]']              \n",
            "                                                                                                  \n",
            "==================================================================================================\n",
            "Total params: 13784950 (52.59 MB)\n",
            "Trainable params: 12705550 (48.47 MB)\n",
            "Non-trainable params: 1079400 (4.12 MB)\n",
            "__________________________________________________________________________________________________\n"
          ]
        }
      ],
      "source": [
        "from keras.models import Model\n",
        "from keras.layers import Input, LSTM, Dense, Embedding\n",
        "\n",
        "# Definir el número de unidades para las capas LSTM\n",
        "n_units = 1024\n",
        "\n",
        "# Definir el codificador (encoder) para el entrenamiento\n",
        "encoder_inputs = Input(shape=(max_input_len))\n",
        "\n",
        "# Capa de embedding para el codificador\n",
        "# Utiliza la matriz de embeddings previamente creada y es marcada como no entrenable\n",
        "encoder_embedding_layer = Embedding(\n",
        "          input_dim=nb_words,           # Número de palabras definidas en el Tokenizador\n",
        "          output_dim=embed_dim,         # Dimensión de los embeddings utilizados\n",
        "          input_length=max_input_len,   # Tamaño máximo de la secuencia de entrada\n",
        "          weights=[embedding_matrix],   # Matriz de embeddings\n",
        "          trainable=False)              # Marcar como capa no entrenable\n",
        "\n",
        "encoder_inputs_x = encoder_embedding_layer(encoder_inputs)\n",
        "\n",
        "# Definir la capa LSTM del codificador\n",
        "encoder = LSTM(n_units, return_state=True)\n",
        "encoder_outputs, state_h, state_c = encoder(encoder_inputs_x)\n",
        "encoder_states = [state_h, state_c]\n",
        "\n",
        "# Definir el decodificador (decoder) para el entrenamiento\n",
        "decoder_inputs = Input(shape=(max_out_len))\n",
        "\n",
        "# Capa de embedding para el decodificador\n",
        "# Similar a la del codificador, pero ajustada para las secuencias de salida\n",
        "decoder_embedding_layer = Embedding(\n",
        "          input_dim=nb_words,           # Número de palabras definidas en el Tokenizador\n",
        "          output_dim=embed_dim,         # Dimensión de los embeddings utilizados\n",
        "          input_length=max_out_len,     # Tamaño máximo de la secuencia de salida\n",
        "          weights=[embedding_matrix],   # Matriz de embeddings\n",
        "          trainable=False)              # Marcar como capa no entrenable\n",
        "\n",
        "decoder_inputs_x = decoder_embedding_layer(decoder_inputs)\n",
        "\n",
        "# Definir la capa LSTM del decodificador\n",
        "decoder_lstm = LSTM(n_units, return_sequences=True, return_state=True)\n",
        "decoder_outputs, _, _ = decoder_lstm(decoder_inputs_x, initial_state=encoder_states)\n",
        "\n",
        "# Capa densa para clasificar la salida de la secuencia\n",
        "decoder_dense = Dense(num_words_output, activation='softmax')\n",
        "decoder_outputs = decoder_dense(decoder_outputs)\n",
        "\n",
        "# Compilar el modelo\n",
        "model = Model([encoder_inputs, decoder_inputs], decoder_outputs)\n",
        "model.compile(loss='categorical_crossentropy', optimizer=\"Adam\", metrics=['accuracy'])\n",
        "\n",
        "# Mostrar un resumen del modelo\n",
        "model.summary()"
      ]
    },
    {
      "cell_type": "code",
      "execution_count": 64,
      "metadata": {
        "colab": {
          "base_uri": "https://localhost:8080/",
          "height": 533
        },
        "id": "HmZ-oD641pk3",
        "outputId": "6493f25f-626c-4c7a-b0a6-ca83ebd93213"
      },
      "outputs": [
        {
          "output_type": "execute_result",
          "data": {
            "image/png": "[encoded data removed]",
            "text/plain": [
              "<IPython.core.display.Image object>"
            ]
          },
          "metadata": {},
          "execution_count": 64
        }
      ],
      "source": [
        "from keras.utils import plot_model\n",
        "\n",
        "# Generar y guardar una visualización gráfica del modelo completo (encoder + decoder)\n",
        "# Esto ayuda a entender la arquitectura del modelo, incluyendo las formas de los datos en cada capa y los nombres de las capas\n",
        "# Es útil para depurar, entender y compartir la estructura del modelo con otros\n",
        "plot_model(model, to_file='model_plot.png', show_shapes=True, show_layer_names=True)"
      ]
    },
    {
      "cell_type": "code",
      "execution_count": 65,
      "metadata": {
        "colab": {
          "base_uri": "https://localhost:8080/",
          "height": 312
        },
        "id": "9m-MOPcZ1pk3",
        "outputId": "21a3e6f8-739e-4acb-a48f-5dabdd757bbe"
      },
      "outputs": [
        {
          "output_type": "execute_result",
          "data": {
            "image/png": "[encoded data removed]",
            "text/plain": [
              "<IPython.core.display.Image object>"
            ]
          },
          "metadata": {},
          "execution_count": 65
        }
      ],
      "source": [
        "# Crear el modelo para solo el encoder\n",
        "# Este modelo se usará para la inferencia, donde solo se necesita el estado del encoder\n",
        "encoder_model = Model(encoder_inputs, encoder_states)\n",
        "\n",
        "# Generar y guardar una visualización gráfica del modelo del encoder\n",
        "plot_model(encoder_model, to_file='encoder_plot.png', show_shapes=True, show_layer_names=True)"
      ]
    },
    {
      "cell_type": "code",
      "execution_count": 66,
      "metadata": {
        "colab": {
          "base_uri": "https://localhost:8080/",
          "height": 422
        },
        "id": "m0V36gzI1pk4",
        "outputId": "ebf5c65a-2a62-413c-cfa0-28b8c5bd9ce7"
      },
      "outputs": [
        {
          "output_type": "execute_result",
          "data": {
            "image/png": "[encoded data removed]",
            "text/plain": [
              "<IPython.core.display.Image object>"
            ]
          },
          "metadata": {},
          "execution_count": 66
        }
      ],
      "source": [
        "# Crear el modelo para solo el decodificador, que se utilizará para la inferencia\n",
        "# Este modelo facilita la generación de la secuencia de salida palabra por palabra\n",
        "\n",
        "# Definir las entradas de estado para el decodificador\n",
        "decoder_state_input_h = Input(shape=(n_units,))\n",
        "decoder_state_input_c = Input(shape=(n_units,))\n",
        "decoder_states_inputs = [decoder_state_input_h, decoder_state_input_c]\n",
        "\n",
        "# Modificar la capa de embedding del decodificador para aceptar una sola palabra a la vez\n",
        "decoder_inputs_single = Input(shape=(1,))\n",
        "decoder_inputs_single_x = decoder_embedding_layer(decoder_inputs_single)\n",
        "\n",
        "# Definir la arquitectura del decodificador para la inferencia\n",
        "decoder_outputs, state_h, state_c = decoder_lstm(decoder_inputs_single_x, initial_state=decoder_states_inputs)\n",
        "decoder_states = [state_h, state_c]\n",
        "decoder_outputs = decoder_dense(decoder_outputs)\n",
        "\n",
        "# Compilar el modelo del decodificador\n",
        "decoder_model = Model([decoder_inputs_single] + decoder_states_inputs, [decoder_outputs] + decoder_states)\n",
        "\n",
        "# Generar y guardar una visualización gráfica del modelo del decodificador\n",
        "# Esto ayuda a comprender y depurar la arquitectura del decodificador,\n",
        "# mostrando las formas de los datos y los nombres de las capas\n",
        "plot_model(decoder_model, to_file='decoder_plot.png', show_shapes=True, show_layer_names=True)"
      ]
    },
    {
      "cell_type": "code",
      "execution_count": 67,
      "metadata": {
        "colab": {
          "base_uri": "https://localhost:8080/"
        },
        "id": "tNwqyMda1pk4",
        "outputId": "7f45530a-16db-4f4f-e357-22b26d34db2f"
      },
      "outputs": [
        {
          "output_type": "stream",
          "name": "stdout",
          "text": [
            "Epoch 1/50\n",
            "151/151 [==============================] - 10s 30ms/step - loss: 1.6078 - accuracy: 0.7471 - val_loss: 1.0933 - val_accuracy: 0.8302\n",
            "Epoch 2/50\n",
            "151/151 [==============================] - 3s 22ms/step - loss: 0.7390 - accuracy: 0.8656 - val_loss: 0.9237 - val_accuracy: 0.8449\n",
            "Epoch 3/50\n",
            "151/151 [==============================] - 4s 24ms/step - loss: 0.5677 - accuracy: 0.8803 - val_loss: 0.8737 - val_accuracy: 0.8531\n",
            "Epoch 4/50\n",
            "151/151 [==============================] - 3s 22ms/step - loss: 0.4630 - accuracy: 0.8902 - val_loss: 0.8752 - val_accuracy: 0.8553\n",
            "Epoch 5/50\n",
            "151/151 [==============================] - 4s 24ms/step - loss: 0.3809 - accuracy: 0.9006 - val_loss: 0.8774 - val_accuracy: 0.8585\n",
            "Epoch 6/50\n",
            "151/151 [==============================] - 3s 22ms/step - loss: 0.3156 - accuracy: 0.9137 - val_loss: 0.8935 - val_accuracy: 0.8576\n",
            "Epoch 7/50\n",
            "151/151 [==============================] - 3s 22ms/step - loss: 0.2649 - accuracy: 0.9261 - val_loss: 0.9220 - val_accuracy: 0.8563\n",
            "Epoch 8/50\n",
            "151/151 [==============================] - 3s 23ms/step - loss: 0.2266 - accuracy: 0.9354 - val_loss: 0.9294 - val_accuracy: 0.8582\n",
            "Epoch 9/50\n",
            "151/151 [==============================] - 3s 21ms/step - loss: 0.1915 - accuracy: 0.9429 - val_loss: 0.9500 - val_accuracy: 0.8555\n",
            "Epoch 10/50\n",
            "151/151 [==============================] - 3s 21ms/step - loss: 0.1640 - accuracy: 0.9508 - val_loss: 0.9695 - val_accuracy: 0.8552\n",
            "Epoch 11/50\n",
            "151/151 [==============================] - 3s 22ms/step - loss: 0.1376 - accuracy: 0.9586 - val_loss: 0.9960 - val_accuracy: 0.8555\n",
            "Epoch 12/50\n",
            "151/151 [==============================] - 3s 23ms/step - loss: 0.1147 - accuracy: 0.9661 - val_loss: 1.0151 - val_accuracy: 0.8553\n",
            "Epoch 13/50\n",
            "151/151 [==============================] - 3s 22ms/step - loss: 0.0981 - accuracy: 0.9712 - val_loss: 1.0415 - val_accuracy: 0.8527\n",
            "Epoch 14/50\n",
            "151/151 [==============================] - 4s 24ms/step - loss: 0.0848 - accuracy: 0.9747 - val_loss: 1.0625 - val_accuracy: 0.8526\n",
            "Epoch 15/50\n",
            "151/151 [==============================] - 3s 21ms/step - loss: 0.0762 - accuracy: 0.9777 - val_loss: 1.0726 - val_accuracy: 0.8542\n",
            "Epoch 16/50\n",
            "151/151 [==============================] - 3s 21ms/step - loss: 0.0682 - accuracy: 0.9803 - val_loss: 1.0806 - val_accuracy: 0.8526\n",
            "Epoch 17/50\n",
            "151/151 [==============================] - 3s 23ms/step - loss: 0.0613 - accuracy: 0.9821 - val_loss: 1.0983 - val_accuracy: 0.8534\n",
            "Epoch 18/50\n",
            "151/151 [==============================] - 3s 22ms/step - loss: 0.0589 - accuracy: 0.9822 - val_loss: 1.1136 - val_accuracy: 0.8546\n",
            "Epoch 19/50\n",
            "151/151 [==============================] - 3s 21ms/step - loss: 0.0567 - accuracy: 0.9826 - val_loss: 1.1153 - val_accuracy: 0.8526\n",
            "Epoch 20/50\n",
            "151/151 [==============================] - 3s 21ms/step - loss: 0.0543 - accuracy: 0.9835 - val_loss: 1.1386 - val_accuracy: 0.8528\n",
            "Epoch 21/50\n",
            "151/151 [==============================] - 3s 23ms/step - loss: 0.0531 - accuracy: 0.9835 - val_loss: 1.1400 - val_accuracy: 0.8526\n",
            "Epoch 22/50\n",
            "151/151 [==============================] - 4s 24ms/step - loss: 0.0524 - accuracy: 0.9834 - val_loss: 1.1366 - val_accuracy: 0.8546\n",
            "Epoch 23/50\n",
            "151/151 [==============================] - 3s 21ms/step - loss: 0.0517 - accuracy: 0.9835 - val_loss: 1.1507 - val_accuracy: 0.8531\n",
            "Epoch 24/50\n",
            "151/151 [==============================] - 3s 23ms/step - loss: 0.0504 - accuracy: 0.9838 - val_loss: 1.1579 - val_accuracy: 0.8510\n",
            "Epoch 25/50\n",
            "151/151 [==============================] - 4s 24ms/step - loss: 0.0499 - accuracy: 0.9835 - val_loss: 1.1651 - val_accuracy: 0.8548\n",
            "Epoch 26/50\n",
            "151/151 [==============================] - 3s 21ms/step - loss: 0.0494 - accuracy: 0.9834 - val_loss: 1.1738 - val_accuracy: 0.8519\n",
            "Epoch 27/50\n",
            "151/151 [==============================] - 4s 23ms/step - loss: 0.0491 - accuracy: 0.9833 - val_loss: 1.1793 - val_accuracy: 0.8525\n",
            "Epoch 28/50\n",
            "151/151 [==============================] - 4s 23ms/step - loss: 0.0483 - accuracy: 0.9836 - val_loss: 1.1807 - val_accuracy: 0.8529\n",
            "Epoch 29/50\n",
            "151/151 [==============================] - 3s 22ms/step - loss: 0.0472 - accuracy: 0.9837 - val_loss: 1.1880 - val_accuracy: 0.8518\n",
            "Epoch 30/50\n",
            "151/151 [==============================] - 3s 21ms/step - loss: 0.0456 - accuracy: 0.9846 - val_loss: 1.1873 - val_accuracy: 0.8555\n",
            "Epoch 31/50\n",
            "151/151 [==============================] - 3s 21ms/step - loss: 0.0465 - accuracy: 0.9839 - val_loss: 1.2070 - val_accuracy: 0.8550\n",
            "Epoch 32/50\n",
            "151/151 [==============================] - 4s 24ms/step - loss: 0.0462 - accuracy: 0.9842 - val_loss: 1.2065 - val_accuracy: 0.8547\n",
            "Epoch 33/50\n",
            "151/151 [==============================] - 3s 21ms/step - loss: 0.0460 - accuracy: 0.9841 - val_loss: 1.2018 - val_accuracy: 0.8519\n",
            "Epoch 34/50\n",
            "151/151 [==============================] - 3s 23ms/step - loss: 0.0455 - accuracy: 0.9836 - val_loss: 1.2129 - val_accuracy: 0.8559\n",
            "Epoch 35/50\n",
            "151/151 [==============================] - 3s 23ms/step - loss: 0.0447 - accuracy: 0.9841 - val_loss: 1.2175 - val_accuracy: 0.8530\n",
            "Epoch 36/50\n",
            "151/151 [==============================] - 3s 22ms/step - loss: 0.0446 - accuracy: 0.9843 - val_loss: 1.2188 - val_accuracy: 0.8531\n",
            "Epoch 37/50\n",
            "151/151 [==============================] - 3s 23ms/step - loss: 0.0437 - accuracy: 0.9842 - val_loss: 1.2197 - val_accuracy: 0.8541\n",
            "Epoch 38/50\n",
            "151/151 [==============================] - 3s 21ms/step - loss: 0.0448 - accuracy: 0.9840 - val_loss: 1.2221 - val_accuracy: 0.8543\n",
            "Epoch 39/50\n",
            "151/151 [==============================] - 4s 24ms/step - loss: 0.0439 - accuracy: 0.9845 - val_loss: 1.2232 - val_accuracy: 0.8535\n",
            "Epoch 40/50\n",
            "151/151 [==============================] - 3s 21ms/step - loss: 0.0434 - accuracy: 0.9843 - val_loss: 1.2271 - val_accuracy: 0.8532\n",
            "Epoch 41/50\n",
            "151/151 [==============================] - 3s 21ms/step - loss: 0.0435 - accuracy: 0.9840 - val_loss: 1.2486 - val_accuracy: 0.8518\n",
            "Epoch 42/50\n",
            "151/151 [==============================] - 3s 21ms/step - loss: 0.0430 - accuracy: 0.9840 - val_loss: 1.2440 - val_accuracy: 0.8537\n",
            "Epoch 43/50\n",
            "151/151 [==============================] - 3s 22ms/step - loss: 0.0504 - accuracy: 0.9827 - val_loss: 1.1349 - val_accuracy: 0.8483\n",
            "Epoch 44/50\n",
            "151/151 [==============================] - 3s 21ms/step - loss: 0.0795 - accuracy: 0.9748 - val_loss: 1.1470 - val_accuracy: 0.8474\n",
            "Epoch 45/50\n",
            "151/151 [==============================] - 3s 21ms/step - loss: 0.0575 - accuracy: 0.9810 - val_loss: 1.1704 - val_accuracy: 0.8492\n",
            "Epoch 46/50\n",
            "151/151 [==============================] - 4s 23ms/step - loss: 0.0459 - accuracy: 0.9836 - val_loss: 1.2067 - val_accuracy: 0.8540\n",
            "Epoch 47/50\n",
            "151/151 [==============================] - 3s 21ms/step - loss: 0.0435 - accuracy: 0.9841 - val_loss: 1.2038 - val_accuracy: 0.8526\n",
            "Epoch 48/50\n",
            "151/151 [==============================] - 3s 23ms/step - loss: 0.0421 - accuracy: 0.9845 - val_loss: 1.2217 - val_accuracy: 0.8526\n",
            "Epoch 49/50\n",
            "151/151 [==============================] - 3s 21ms/step - loss: 0.0416 - accuracy: 0.9846 - val_loss: 1.2232 - val_accuracy: 0.8530\n",
            "Epoch 50/50\n",
            "151/151 [==============================] - 3s 22ms/step - loss: 0.0413 - accuracy: 0.9842 - val_loss: 1.2333 - val_accuracy: 0.8535\n"
          ]
        }
      ],
      "source": [
        "# Entrenar el modelo\n",
        "hist = model.fit(\n",
        "    [encoder_input_sequences, decoder_input_sequences],\n",
        "    decoder_targets,\n",
        "    epochs=50,\n",
        "    validation_split=0.2)"
      ]
    },
    {
      "cell_type": "code",
      "execution_count": 68,
      "metadata": {
        "colab": {
          "base_uri": "https://localhost:8080/",
          "height": 430
        },
        "id": "UoXqjwQ91pk4",
        "outputId": "55a3a809-dda8-4533-9f06-b3f124aad9cd"
      },
      "outputs": [
        {
          "output_type": "display_data",
          "data": {
            "text/plain": [
              "<Figure size 640x480 with 1 Axes>"
            ],
            "image/png": "[encoded data removed]"
          },
          "metadata": {}
        }
      ],
      "source": [
        "import matplotlib.pyplot as plt\n",
        "import seaborn as sns\n",
        "\n",
        "# Visualizar el progreso del entrenamiento a través de las épocas\n",
        "\n",
        "# Contar el número de épocas\n",
        "epoch_count = range(1, len(hist.history['accuracy']) + 1)\n",
        "\n",
        "# Graficar la precisión para los conjuntos de entrenamiento y validación\n",
        "sns.lineplot(x=epoch_count,  y=hist.history['accuracy'], label='train')\n",
        "sns.lineplot(x=epoch_count,  y=hist.history['val_accuracy'], label='valid')\n",
        "\n",
        "# Mostrar el gráfico\n",
        "plt.show()"
      ]
    },
    {
      "cell_type": "markdown",
      "metadata": {
        "id": "Zbwn0ekDy_s2"
      },
      "source": [
        "### 5 - Inferencia\n",
        "Experimentar el funcionamiento de su modelo. Recuerde que debe realizar la inferencia de los modelos por separado de encoder y decoder."
      ]
    },
    {
      "cell_type": "code",
      "source": [
        "# Armar los conversores de índice a palabra:\n",
        "idx2word_input = {v:k for k, v in word2idx_inputs.items()}\n",
        "idx2word_target = {v:k for k, v in word2idx_outputs.items()}\n",
        "\n",
        "# Fit the output tokenizer\n",
        "output_tokenizer = Tokenizer(num_words=MAX_VOCAB_SIZE, filters='\\t\\n')\n",
        "output_tokenizer.fit_on_texts([\"\", \"\"] + output_sentences)\n",
        "\n",
        "# Create a reverse mapping from word indices to words for the output tokenizer\n",
        "idx2word_outputs = {idx: word for word, idx in output_tokenizer.word_index.items()}"
      ],
      "metadata": {
        "id": "Yi95b2MZ2l44"
      },
      "execution_count": 69,
      "outputs": []
    },
    {
      "cell_type": "code",
      "source": [
        "def response(input_seq, MAX_RESPONSE_LENGTH):\n",
        "    # Encode the input sequence\n",
        "    encoder_states_value = encoder_model.predict(input_seq)\n",
        "\n",
        "    # Initialize the sequence for the decoder\n",
        "    target_seq = np.zeros((1, 1))\n",
        "\n",
        "    # Initialize the response string\n",
        "    response_text = ''\n",
        "\n",
        "    # Maximum length for the response\n",
        "    max_response_length = MAX_RESPONSE_LENGTH  # Set an appropriate maximum length\n",
        "\n",
        "    for _ in range(max_response_length):\n",
        "        # Predict the next word\n",
        "        output_token, h, c = decoder_model.predict([target_seq] + encoder_states_value)\n",
        "\n",
        "        # Get the predicted word index\n",
        "        sampled_token_index = np.argmax(output_token[0, -1, :])\n",
        "\n",
        "        # Find the word corresponding to the index\n",
        "        sampled_word = idx2word_outputs[sampled_token_index]\n",
        "\n",
        "        # Append the word to the response text\n",
        "        response_text += ' ' + sampled_word\n",
        "\n",
        "        # Exit the loop if the end of the sentence is reached\n",
        "        if sampled_word == '<end>':\n",
        "            break\n",
        "\n",
        "        # Update the target sequence for the next iteration\n",
        "        target_seq = np.zeros((1, 1))\n",
        "        target_seq[0, 0] = sampled_token_index\n",
        "\n",
        "        # Update the states for the next iteration\n",
        "        encoder_states_value = [h, c]\n",
        "\n",
        "    return response_text"
      ],
      "metadata": {
        "id": "td_FN4o92ng9"
      },
      "execution_count": 70,
      "outputs": []
    },
    {
      "cell_type": "code",
      "source": [
        "input_test = \"Do you read?\"\n",
        "print('Input:', input_test)\n",
        "integer_seq_test = input_tokenizer.texts_to_sequences([input_test])[0]\n",
        "print(\"Representacion en vector de tokens de ids\", integer_seq_test)\n",
        "encoder_sequence_test = pad_sequences([integer_seq_test], maxlen=max_input_len)\n",
        "print(\"Padding del vector:\", encoder_sequence_test)\n",
        "\n",
        "print('Input:', input_test)\n",
        "bot_response = response(encoder_sequence_test, 10)\n",
        "print('Response:', bot_response)"
      ],
      "metadata": {
        "colab": {
          "base_uri": "https://localhost:8080/",
          "height": 470
        },
        "id": "DTrjLeGB2sBj",
        "outputId": "a1cc6e35-9407-44f6-f954-3846cfcc54bc"
      },
      "execution_count": 71,
      "outputs": [
        {
          "output_type": "stream",
          "name": "stdout",
          "text": [
            "Input: Do you read?\n",
            "Representacion en vector de tokens de ids [3, 2, 23]\n",
            "Padding del vector: [[ 0  0  0  0  0  0  0  3  2 23]]\n",
            "Input: Do you read?\n",
            "1/1 [==============================] - 0s 464ms/step\n",
            "1/1 [==============================] - 1s 510ms/step\n",
            "1/1 [==============================] - 0s 31ms/step\n"
          ]
        },
        {
          "output_type": "error",
          "ename": "KeyError",
          "evalue": "ignored",
          "traceback": [
            "\u001b[0;31m---------------------------------------------------------------------------\u001b[0m",
            "\u001b[0;31mKeyError\u001b[0m                                  Traceback (most recent call last)",
            "\u001b[0;32m<ipython-input-71-513735511718>\u001b[0m in \u001b[0;36m<cell line: 9>\u001b[0;34m()\u001b[0m\n\u001b[1;32m      7\u001b[0m \u001b[0;34m\u001b[0m\u001b[0m\n\u001b[1;32m      8\u001b[0m \u001b[0mprint\u001b[0m\u001b[0;34m(\u001b[0m\u001b[0;34m'Input:'\u001b[0m\u001b[0;34m,\u001b[0m \u001b[0minput_test\u001b[0m\u001b[0;34m)\u001b[0m\u001b[0;34m\u001b[0m\u001b[0;34m\u001b[0m\u001b[0m\n\u001b[0;32m----> 9\u001b[0;31m \u001b[0mbot_response\u001b[0m \u001b[0;34m=\u001b[0m \u001b[0mresponse\u001b[0m\u001b[0;34m(\u001b[0m\u001b[0mencoder_sequence_test\u001b[0m\u001b[0;34m,\u001b[0m \u001b[0;36m10\u001b[0m\u001b[0;34m)\u001b[0m\u001b[0;34m\u001b[0m\u001b[0;34m\u001b[0m\u001b[0m\n\u001b[0m\u001b[1;32m     10\u001b[0m \u001b[0mprint\u001b[0m\u001b[0;34m(\u001b[0m\u001b[0;34m'Response:'\u001b[0m\u001b[0;34m,\u001b[0m \u001b[0mbot_response\u001b[0m\u001b[0;34m)\u001b[0m\u001b[0;34m\u001b[0m\u001b[0;34m\u001b[0m\u001b[0m\n",
            "\u001b[0;32m<ipython-input-70-c3d33695ecad>\u001b[0m in \u001b[0;36mresponse\u001b[0;34m(input_seq, MAX_RESPONSE_LENGTH)\u001b[0m\n\u001b[1;32m     20\u001b[0m \u001b[0;34m\u001b[0m\u001b[0m\n\u001b[1;32m     21\u001b[0m         \u001b[0;31m# Find the word corresponding to the index\u001b[0m\u001b[0;34m\u001b[0m\u001b[0;34m\u001b[0m\u001b[0m\n\u001b[0;32m---> 22\u001b[0;31m         \u001b[0msampled_word\u001b[0m \u001b[0;34m=\u001b[0m \u001b[0midx2word_outputs\u001b[0m\u001b[0;34m[\u001b[0m\u001b[0msampled_token_index\u001b[0m\u001b[0;34m]\u001b[0m\u001b[0;34m\u001b[0m\u001b[0;34m\u001b[0m\u001b[0m\n\u001b[0m\u001b[1;32m     23\u001b[0m \u001b[0;34m\u001b[0m\u001b[0m\n\u001b[1;32m     24\u001b[0m         \u001b[0;31m# Append the word to the response text\u001b[0m\u001b[0;34m\u001b[0m\u001b[0;34m\u001b[0m\u001b[0m\n",
            "\u001b[0;31mKeyError\u001b[0m: 0"
          ]
        }
      ]
    },
    {
      "cell_type": "code",
      "source": [
        "input_test = \"Do you have any pet?\"\n",
        "print('Input:', input_test)\n",
        "integer_seq_test = input_tokenizer.texts_to_sequences([input_test])[0]\n",
        "print(\"Representacion en vector de tokens de ids\", integer_seq_test)\n",
        "encoder_sequence_test = pad_sequences([integer_seq_test], maxlen=max_input_len)\n",
        "print(\"Padding del vector:\", encoder_sequence_test)\n",
        "\n",
        "print('Input:', input_test)\n",
        "bot_response = response(encoder_sequence_test, 10)\n",
        "print('Response:', bot_response)"
      ],
      "metadata": {
        "colab": {
          "base_uri": "https://localhost:8080/"
        },
        "id": "4xJu-cQu3_Tx",
        "outputId": "5a6eded1-81f8-4f96-c386-7a67a9a23cf8"
      },
      "execution_count": 42,
      "outputs": [
        {
          "output_type": "stream",
          "name": "stdout",
          "text": [
            "Input: Do you have any pet?\n",
            "Representacion en vector de tokens de ids [3, 2, 16, 31, 252]\n",
            "Padding del vector: [[  0   0   0   0   0   3   2  16  31 252]]\n",
            "Input: Do you have any pet?\n",
            "1/1 [==============================] - 0s 24ms/step\n",
            "1/1 [==============================] - 0s 28ms/step\n",
            "1/1 [==============================] - 0s 29ms/step\n",
            "1/1 [==============================] - 0s 30ms/step\n",
            "1/1 [==============================] - 0s 30ms/step\n",
            "1/1 [==============================] - 0s 27ms/step\n",
            "1/1 [==============================] - 0s 36ms/step\n",
            "1/1 [==============================] - 0s 32ms/step\n",
            "1/1 [==============================] - 0s 31ms/step\n",
            "1/1 [==============================] - 0s 28ms/step\n",
            "1/1 [==============================] - 0s 27ms/step\n",
            "Response:  <eos> about about any any any any any any any\n"
          ]
        }
      ]
    },
    {
      "cell_type": "code",
      "source": [
        "input_test = \"Where are you from?\"\n",
        "print('Input:', input_test)\n",
        "integer_seq_test = input_tokenizer.texts_to_sequences([input_test])[0]\n",
        "print(\"Representacion en vector de tokens de ids\", integer_seq_test)\n",
        "encoder_sequence_test = pad_sequences([integer_seq_test], maxlen=max_input_len)\n",
        "print(\"Padding del vector:\", encoder_sequence_test)\n",
        "\n",
        "print('Input:', input_test)\n",
        "bot_response = response(encoder_sequence_test, 10)\n",
        "print('Response:', bot_response)"
      ],
      "metadata": {
        "colab": {
          "base_uri": "https://localhost:8080/"
        },
        "id": "hEhMs4cR4DW_",
        "outputId": "1e929b8f-770a-474a-aa91-a8e6c5bf00c5"
      },
      "execution_count": 43,
      "outputs": [
        {
          "output_type": "stream",
          "name": "stdout",
          "text": [
            "Input: Where are you from?\n",
            "Representacion en vector de tokens de ids [52, 7, 2, 39]\n",
            "Padding del vector: [[ 0  0  0  0  0  0 52  7  2 39]]\n",
            "Input: Where are you from?\n",
            "1/1 [==============================] - 0s 17ms/step\n",
            "1/1 [==============================] - 0s 20ms/step\n",
            "1/1 [==============================] - 0s 18ms/step\n",
            "1/1 [==============================] - 0s 18ms/step\n",
            "1/1 [==============================] - 0s 20ms/step\n",
            "1/1 [==============================] - 0s 18ms/step\n",
            "1/1 [==============================] - 0s 22ms/step\n",
            "1/1 [==============================] - 0s 19ms/step\n",
            "1/1 [==============================] - 0s 18ms/step\n",
            "1/1 [==============================] - 0s 18ms/step\n",
            "1/1 [==============================] - 0s 18ms/step\n",
            "Response:  <eos> bro about about any any any any any any\n"
          ]
        }
      ]
    }
  ],
  "metadata": {
    "accelerator": "GPU",
    "colab": {
      "provenance": []
    },
    "kernelspec": {
      "display_name": "Python 3.10.6 64-bit",
      "language": "python",
      "name": "python3"
    },
    "language_info": {
      "codemirror_mode": {
        "name": "ipython",
        "version": 3
      },
      "file_extension": ".py",
      "mimetype": "text/x-python",
      "name": "python",
      "nbconvert_exporter": "python",
      "pygments_lexer": "ipython3",
      "version": "3.11.3"
    },
    "vscode": {
      "interpreter": {
        "hash": "916dbcbb3f70747c44a77c7bcd40155683ae19c65e1c03b4aa3499c5328201f1"
      }
    }
  },
  "nbformat": 4,
  "nbformat_minor": 0
}