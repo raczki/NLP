{
 "cells": [
  {
   "cell_type": "markdown",
   "metadata": {},
   "source": [
    "## Ejercicio 3\n",
    "\n",
    "- Crear sus propios vectores con Gensim basado en lo visto en clase con otro dataset.\n",
    "- Probar términos de interés y explicar similitudes en el espacio de embeddings (sacar conclusiones entre palabras similitudes y diferencias).\n",
    "- Graficarlos.\n",
    "- Obtener conclusiones."
   ]
  },
  {
   "cell_type": "markdown",
   "metadata": {},
   "source": [
    "### Introducción\n",
    "\n",
    "En este ejercicio, se explora el uso de técnicas de NLP para analizar el primer libro de la serie \"Game of Thrones\". Se utilizan diferentes métodos de tokenización para procesar el texto y se comparan sus resultados para entender mejor cómo cada enfoque maneja los datos. Este análisis nos permite preparar el texto para modelar embeddings de palabras, lo que nos proporcionará una comprensión más profunda de las relaciones semánticas en el texto."
   ]
  },
  {
   "cell_type": "code",
   "execution_count": 40,
   "metadata": {},
   "outputs": [
    {
     "name": "stderr",
     "output_type": "stream",
     "text": [
      "[nltk_data] Downloading package punkt to\n",
      "[nltk_data]     C:\\Users\\karen\\AppData\\Roaming\\nltk_data...\n",
      "[nltk_data]   Package punkt is already up-to-date!\n",
      "[nltk_data] Downloading package wordnet to\n",
      "[nltk_data]     C:\\Users\\karen\\AppData\\Roaming\\nltk_data...\n",
      "[nltk_data]   Package wordnet is already up-to-date!\n",
      "[nltk_data] Downloading package omw-1.4 to\n",
      "[nltk_data]     C:\\Users\\karen\\AppData\\Roaming\\nltk_data...\n",
      "[nltk_data]   Package omw-1.4 is already up-to-date!\n"
     ]
    },
    {
     "data": {
      "text/plain": [
       "True"
      ]
     },
     "execution_count": 40,
     "metadata": {},
     "output_type": "execute_result"
    }
   ],
   "source": [
    "import pandas as pd\n",
    "import matplotlib.pyplot as plt\n",
    "import seaborn as sns\n",
    "\n",
    "import multiprocessing\n",
    "from gensim.models import Word2Vec\n",
    "from gensim.models.callbacks import CallbackAny2Vec\n",
    "import os\n",
    "import re\n",
    "\n",
    "from sklearn.decomposition import IncrementalPCA\n",
    "from sklearn.manifold import TSNE\n",
    "from sklearn.metrics import pairwise\n",
    "import numpy as np\n",
    "\n",
    "import plotly.graph_objects as go\n",
    "import plotly.express as px\n",
    "\n",
    "from keras.preprocessing.text import text_to_word_sequence\n",
    "\n",
    "import nltk\n",
    "\n",
    "# Descargar diccionario\n",
    "nltk.download(\"punkt\")\n",
    "nltk.download(\"wordnet\")\n",
    "nltk.download('omw-1.4')"
   ]
  },
  {
   "cell_type": "markdown",
   "metadata": {},
   "source": [
    "### Datos"
   ]
  },
  {
   "cell_type": "markdown",
   "metadata": {},
   "source": [
    "Cargamos el dataset que se encuentra en un archivo de texto, y lo leemos como un DataFrame de pandas."
   ]
  },
  {
   "cell_type": "code",
   "execution_count": 2,
   "metadata": {},
   "outputs": [
    {
     "name": "stderr",
     "output_type": "stream",
     "text": [
      "C:\\Users\\karen\\AppData\\Local\\Temp\\ipykernel_3924\\3002682383.py:1: ParserWarning: Falling back to the 'python' engine because the 'c' engine does not support regex separators (separators > 1 char and different from '\\s+' are interpreted as regex); you can avoid this warning by specifying engine='python'.\n",
      "  df = pd.read_csv('./GOT/001ssb.txt', sep='/n', header=None, encoding='latin-1')\n"
     ]
    },
    {
     "data": {
      "text/html": [
       "<div>\n",
       "<style scoped>\n",
       "    .dataframe tbody tr th:only-of-type {\n",
       "        vertical-align: middle;\n",
       "    }\n",
       "\n",
       "    .dataframe tbody tr th {\n",
       "        vertical-align: top;\n",
       "    }\n",
       "\n",
       "    .dataframe thead th {\n",
       "        text-align: right;\n",
       "    }\n",
       "</style>\n",
       "<table border=\"1\" class=\"dataframe\">\n",
       "  <thead>\n",
       "    <tr style=\"text-align: right;\">\n",
       "      <th></th>\n",
       "      <th>0</th>\n",
       "    </tr>\n",
       "  </thead>\n",
       "  <tbody>\n",
       "    <tr>\n",
       "      <th>0</th>\n",
       "      <td>A Game Of Thrones</td>\n",
       "    </tr>\n",
       "    <tr>\n",
       "      <th>1</th>\n",
       "      <td>Book One of A Song of Ice and Fire</td>\n",
       "    </tr>\n",
       "    <tr>\n",
       "      <th>2</th>\n",
       "      <td>By George R. R. Martin</td>\n",
       "    </tr>\n",
       "    <tr>\n",
       "      <th>3</th>\n",
       "      <td>PROLOGUE</td>\n",
       "    </tr>\n",
       "    <tr>\n",
       "      <th>4</th>\n",
       "      <td>\"We should start back,\" Gared urged as the woo...</td>\n",
       "    </tr>\n",
       "  </tbody>\n",
       "</table>\n",
       "</div>"
      ],
      "text/plain": [
       "                                                   0\n",
       "0                                  A Game Of Thrones\n",
       "1                 Book One of A Song of Ice and Fire\n",
       "2                             By George R. R. Martin\n",
       "3                                           PROLOGUE\n",
       "4  \"We should start back,\" Gared urged as the woo..."
      ]
     },
     "execution_count": 2,
     "metadata": {},
     "output_type": "execute_result"
    }
   ],
   "source": [
    "df = pd.read_csv('./GOT/001ssb.txt', sep='/n', header=None, encoding='latin-1')\n",
    "df.head()"
   ]
  },
  {
   "cell_type": "code",
   "execution_count": 3,
   "metadata": {},
   "outputs": [
    {
     "name": "stdout",
     "output_type": "stream",
     "text": [
      "Cantidad de documentos: 19598\n"
     ]
    }
   ],
   "source": [
    "# Cantidad de filas en los datos\n",
    "print(\"Cantidad de documentos:\", df.shape[0])"
   ]
  },
  {
   "cell_type": "markdown",
   "metadata": {},
   "source": [
    "Se usa la función text_to_word_sequence de Keras para tokenizar el texto del libro. Esta función nos proporciona una forma sencilla de dividir el texto en palabras individuales."
   ]
  },
  {
   "cell_type": "code",
   "execution_count": 4,
   "metadata": {},
   "outputs": [
    {
     "data": {
      "text/plain": [
       "[['a', 'game', 'of', 'thrones'],\n",
       " ['book', 'one', 'of', 'a', 'song', 'of', 'ice', 'and', 'fire'],\n",
       " ['by', 'george', 'r', 'r', 'martin'],\n",
       " ['prologue'],\n",
       " ['we',\n",
       "  'should',\n",
       "  'start',\n",
       "  'back',\n",
       "  'gared',\n",
       "  'urged',\n",
       "  'as',\n",
       "  'the',\n",
       "  'woods',\n",
       "  'began',\n",
       "  'to',\n",
       "  'grow',\n",
       "  'dark',\n",
       "  'around',\n",
       "  'them',\n",
       "  'the',\n",
       "  'wildlings',\n",
       "  'are']]"
      ]
     },
     "execution_count": 4,
     "metadata": {},
     "output_type": "execute_result"
    }
   ],
   "source": [
    "sentence_tokens = []\n",
    "\n",
    "# Transformar las oraciones en una secuencia de palabras \n",
    "for _, row in df[:None].iterrows():\n",
    "    sentence_tokens.append(text_to_word_sequence(row[0]))\n",
    "\n",
    "# Ver los primeros 5 elementos\n",
    "sentence_tokens[:5]"
   ]
  },
  {
   "cell_type": "code",
   "execution_count": 5,
   "metadata": {},
   "outputs": [
    {
     "name": "stdout",
     "output_type": "stream",
     "text": [
      "Número de tokens generados por el primer método:  19598\n"
     ]
    }
   ],
   "source": [
    "print(\"Número de tokens generados por el primer método: \", len(sentence_tokens))"
   ]
  },
  {
   "cell_type": "markdown",
   "metadata": {},
   "source": [
    "A continuación, se aplica un enfoque más detallado para la tokenización, utilizando NLTK junto con expresiones regulares. Esto nos permite limpiar el texto de caracteres no deseados y realizar una tokenización más precisa."
   ]
  },
  {
   "cell_type": "code",
   "execution_count": 6,
   "metadata": {},
   "outputs": [
    {
     "name": "stdout",
     "output_type": "stream",
     "text": [
      "[['a', 'game', 'of', 'thrones'], ['book', 'one', 'of', 'a', 'song', 'of', 'ice', 'and', 'fire'], ['by', 'george', 'r', 'r', 'martin'], ['prologue'], ['``', 'we', 'should', 'start', 'back', '``', 'gared', 'urged', 'as', 'the', 'woods', 'began', 'to', 'grow', 'dark', 'around', 'them', '``', 'the', 'wildlings', 'are']]\n"
     ]
    }
   ],
   "source": [
    "sentence_tokens_NLTK = []\n",
    "pattern = r'[^a-zA-z0-9/\\'\\\"s]'\n",
    "\n",
    "for _, row in df.iterrows():  \n",
    "    words = re.sub(pattern, ' ', row[0])  # Reemplazar caracteres no deseados con espacios\n",
    "    words = re.sub(r'[_]', ' ', words)  # Reemplazar guiones bajos con espacios\n",
    "    words = words.lower()  # Convertir el texto a minúsculas para estandarizar\n",
    "    sentence_tokens_NLTK.append(nltk.word_tokenize(words))  # Tokenizar el texto y agregar a la lista\n",
    "\n",
    "# Ver los primeros 5 elementos\n",
    "print(sentence_tokens_NLTK[:5])"
   ]
  },
  {
   "cell_type": "code",
   "execution_count": 7,
   "metadata": {},
   "outputs": [
    {
     "name": "stdout",
     "output_type": "stream",
     "text": [
      "Número de tokens generados por el método NLTK:  19598\n"
     ]
    }
   ],
   "source": [
    "print(\"Número de tokens generados por el método NLTK: \", len(sentence_tokens_NLTK))"
   ]
  },
  {
   "cell_type": "markdown",
   "metadata": {},
   "source": [
    "Comparamos los tokens generados por los dos métodos anteriores. Este análisis nos permite identificar discrepancias y comprender cómo cada enfoque procesa el texto de manera diferente."
   ]
  },
  {
   "cell_type": "code",
   "execution_count": 8,
   "metadata": {},
   "outputs": [
    {
     "name": "stdout",
     "output_type": "stream",
     "text": [
      "Total de diferencias encontradas: 11\n"
     ]
    }
   ],
   "source": [
    "# Verificar las diferencias en el procesamiento de las palabras \n",
    "dif_words = [] \n",
    "q_dif_words = 0  \n",
    "\n",
    "# Iterar sobre los tokens generados por ambos métodos\n",
    "for i, j in zip(sentence_tokens, sentence_tokens_NLTK):\n",
    "    if i != j:\n",
    "        # Si los tokens de la misma posición son diferentes, compara palabra por palabra\n",
    "        for l, k in zip(i, j):\n",
    "            if l != k:\n",
    "                dif_words.append([l, k])  # Añadir el par de palabras diferentes a la lista\n",
    "                q_dif_words += 1  # Incrementar el contador de diferencias\n",
    "\n",
    "            # Si se encontraron más de 10 diferencias, salir del bucle interno\n",
    "            if q_dif_words > 10:\n",
    "                break\n",
    "\n",
    "    # Si se encontraron más de 10 diferencias, salir del bucle externo\n",
    "    if q_dif_words > 10:\n",
    "        break    \n",
    "\n",
    "# Imprimir la cantidad total de pares de palabras diferentes encontradas\n",
    "print(\"Total de diferencias encontradas:\", len(dif_words))"
   ]
  },
  {
   "cell_type": "code",
   "execution_count": 9,
   "metadata": {},
   "outputs": [
    {
     "data": {
      "text/plain": [
       "[['we', '``'],\n",
       " ['should', 'we'],\n",
       " ['start', 'should'],\n",
       " ['back', 'start'],\n",
       " ['gared', 'back'],\n",
       " ['urged', '``'],\n",
       " ['as', 'gared'],\n",
       " ['the', 'urged'],\n",
       " ['woods', 'as'],\n",
       " ['began', 'the'],\n",
       " ['to', 'woods']]"
      ]
     },
     "execution_count": 9,
     "metadata": {},
     "output_type": "execute_result"
    }
   ],
   "source": [
    "dif_words"
   ]
  },
  {
   "cell_type": "markdown",
   "metadata": {},
   "source": [
    "Analizando los pares de palabras en dif_words, parece que hay una diferencia significativa en cómo cada método de tokenización está manejando el texto. Por ejemplo:\n",
    "\n",
    "* En varios casos, una palabra en el primer token corresponde a la palabra siguiente en el segundo token, como en ['we', '``'], ['should', 'we'], ['start', 'should']. Esto sugiere que uno de los métodos de tokenización está desfasado en una palabra respecto al otro.\n",
    "\n",
    "* Las diferencias en la tokenización pueden deberse a cómo cada método trata los caracteres especiales, las comillas, y la puntuación. Por ejemplo, el par ['we', '``'] sugiere que un método está capturando las comillas dobles como un token separado, mientras que el otro no."
   ]
  },
  {
   "cell_type": "markdown",
   "metadata": {},
   "source": [
    "### Word2Vec con Gensim\n",
    "\n",
    "Construimos y entrenamos un modelo Word2Vec utilizando la biblioteca Gensim. Word2Vec es un grupo de modelos relacionados que se utilizan para producir word embeddings, es decir, representaciones vectoriales de palabras. Estos modelos son redes neuronales de dos capas entrenadas para reconstruir contextos lingüísticos de palabras."
   ]
  },
  {
   "cell_type": "code",
   "execution_count": 10,
   "metadata": {},
   "outputs": [],
   "source": [
    "# Definición de la clase callback para monitorear la pérdida durante el entrenamiento\n",
    "class callback(CallbackAny2Vec):\n",
    "    \"\"\"\n",
    "    Clase callback para imprimir la pérdida ('loss') después de cada época de entrenamiento.\n",
    "    Esta clase se utiliza para obtener información detallada sobre el proceso de aprendizaje\n",
    "    del modelo y ajustar parámetros si es necesario.\n",
    "    \"\"\"\n",
    "    def __init__(self):\n",
    "        self.epoch = 0  # Inicializa el contador de épocas\n",
    "        self.loss_previous_step = 0  # Inicializa la pérdida en el paso anterior\n",
    "\n",
    "    def on_epoch_end(self, model):\n",
    "        # Método llamado al final de cada época\n",
    "        loss = model.get_latest_training_loss()  # Obtiene la pérdida más reciente del modelo\n",
    "        if self.epoch == 0:\n",
    "            print(f'Loss after epoch {self.epoch}: {loss}')\n",
    "        else:\n",
    "            # Calcula la pérdida desde la última época\n",
    "            print(f'Loss after epoch {self.epoch}: {loss - self.loss_previous_step}')\n",
    "        self.epoch += 1  # Incrementa el contador de épocas\n",
    "        self.loss_previous_step = loss  # Actualiza la pérdida anterior para la próxima comparación"
   ]
  },
  {
   "cell_type": "markdown",
   "metadata": {},
   "source": [
    "Para nuestro modelo, elegimos la estructura Skipgram de Word2Vec. A diferencia del modelo CBOW (Continuous Bag of Words), Skipgram predice las palabras de contexto a partir de una palabra objetivo, lo que suele ser más efectivo para conjuntos de datos más grandes y con palabras menos frecuentes."
   ]
  },
  {
   "cell_type": "code",
   "execution_count": 11,
   "metadata": {},
   "outputs": [],
   "source": [
    "# Creación del modelo Word2Vec utilizando la estructura de modelo Skipgram\n",
    "w2v_model = Word2Vec(\n",
    "    min_count=5,    # Frecuencia mínima de palabra para ser incluida en el vocabulario\n",
    "    window=2,       # Cantidad de palabras antes y después de la palabra objetivo para considerar en el contexto\n",
    "    vector_size=300, # Dimensionalidad de los vectores de palabras\n",
    "    negative=20,    # Cantidad de \"negative samples\" (muestra de palabras no relacionadas); 0 significa que no se usa\n",
    "    workers=1,      # Cantidad de hilos de procesamiento para entrenar el modelo (ajustar según la máquina)\n",
    "    sg=1)            # Define el algoritmo de entrenamiento: 0 para CBOW, 1 para Skipgram"
   ]
  },
  {
   "cell_type": "code",
   "execution_count": 13,
   "metadata": {},
   "outputs": [],
   "source": [
    "# Obtener el vocabulario con los tokens\n",
    "w2v_model.build_vocab(sentence_tokens)"
   ]
  },
  {
   "cell_type": "code",
   "execution_count": 14,
   "metadata": {},
   "outputs": [
    {
     "name": "stdout",
     "output_type": "stream",
     "text": [
      "Cantidad de docs en el corpus: 19598\n"
     ]
    }
   ],
   "source": [
    "# Cantidad de filas/docs encontradas en el corpus\n",
    "print(\"Cantidad de docs en el corpus:\", w2v_model.corpus_count)"
   ]
  },
  {
   "cell_type": "code",
   "execution_count": 15,
   "metadata": {},
   "outputs": [
    {
     "name": "stdout",
     "output_type": "stream",
     "text": [
      "Cantidad de words distintas en el corpus: 4271\n"
     ]
    }
   ],
   "source": [
    "# Cantidad de words encontradas en el corpus\n",
    "print(\"Cantidad de words distintas en el corpus:\", len(w2v_model.wv.index_to_key))"
   ]
  },
  {
   "cell_type": "markdown",
   "metadata": {},
   "source": [
    "#### Entrenamiento del modelo Word2Vec\n",
    "\n",
    "Procedemos al entrenamiento de nuestro modelo Word2Vec utilizando los datos procesados anteriormente. El objetivo es aprender representaciones vectoriales (embeddings) de palabras basadas en el contexto en el que aparecen en el texto."
   ]
  },
  {
   "cell_type": "code",
   "execution_count": 16,
   "metadata": {},
   "outputs": [
    {
     "name": "stdout",
     "output_type": "stream",
     "text": [
      "Loss after epoch 0: 2333731.5\n",
      "Loss after epoch 1: 1640264.0\n",
      "Loss after epoch 2: 1536486.5\n",
      "Loss after epoch 3: 1507902.5\n",
      "Loss after epoch 4: 1484758.5\n",
      "Loss after epoch 5: 1419290.0\n",
      "Loss after epoch 6: 1402288.0\n",
      "Loss after epoch 7: 1384360.0\n",
      "Loss after epoch 8: 1368254.0\n",
      "Loss after epoch 9: 1355674.0\n",
      "Loss after epoch 10: 1342299.0\n",
      "Loss after epoch 11: 1284900.0\n",
      "Loss after epoch 12: 1272882.0\n",
      "Loss after epoch 13: 1257052.0\n",
      "Loss after epoch 14: 1247500.0\n",
      "Loss after epoch 15: 1234604.0\n",
      "Loss after epoch 16: 1222230.0\n",
      "Loss after epoch 17: 1213892.0\n",
      "Loss after epoch 18: 1205666.0\n",
      "Loss after epoch 19: 1194686.0\n",
      "Loss after epoch 20: 1184294.0\n",
      "Loss after epoch 21: 1177322.0\n",
      "Loss after epoch 22: 1170474.0\n",
      "Loss after epoch 23: 1165622.0\n",
      "Loss after epoch 24: 1152232.0\n",
      "Loss after epoch 25: 1126652.0\n",
      "Loss after epoch 26: 1115016.0\n",
      "Loss after epoch 27: 1116008.0\n",
      "Loss after epoch 28: 1109392.0\n",
      "Loss after epoch 29: 1101296.0\n"
     ]
    },
    {
     "data": {
      "text/plain": [
       "(6179997, 8833650)"
      ]
     },
     "execution_count": 16,
     "metadata": {},
     "output_type": "execute_result"
    }
   ],
   "source": [
    "# Iniciamos el proceso de entrenamiento del modelo Word2Vec.\n",
    "w2v_model.train(sentence_tokens,\n",
    "                total_examples=w2v_model.corpus_count,  # Total de ejemplos en el corpus. Necesario para la normalización durante el entrenamiento.\n",
    "                epochs=30,  # Número de iteraciones sobre el corpus.\n",
    "                compute_loss=True,  # Habilita el cálculo de la pérdida para monitorizar el entrenamiento.\n",
    "                callbacks=[callback()]  # Usa la clase 'callback' definida anteriormente para imprimir la pérdida después de cada época.\n",
    "                )"
   ]
  },
  {
   "cell_type": "markdown",
   "metadata": {},
   "source": [
    "#### Exploración de palabras en el modelo Word2Vec\n",
    "\n",
    "Después de entrenar el modelo Word2Vec, exploramos las palabras en el vocabulario para entender mejor qué ha aprendido el modelo. Para ello, accedemos a una porción del vocabulario generado."
   ]
  },
  {
   "cell_type": "code",
   "execution_count": 21,
   "metadata": {},
   "outputs": [
    {
     "data": {
      "text/plain": [
       "['dany',\n",
       " 'sansa',\n",
       " 'then',\n",
       " 'stark',\n",
       " 'yet',\n",
       " 'robb',\n",
       " 'head',\n",
       " 'too',\n",
       " 'away',\n",
       " 'made',\n",
       " 'where',\n",
       " 'through',\n",
       " 'how',\n",
       " 'lady',\n",
       " 'robert',\n",
       " 'took',\n",
       " 'come',\n",
       " 'thought',\n",
       " 'sword',\n",
       " 'must']"
      ]
     },
     "execution_count": 21,
     "metadata": {},
     "output_type": "execute_result"
    }
   ],
   "source": [
    "w2v_model.wv.index_to_key[100:120]"
   ]
  },
  {
   "cell_type": "code",
   "execution_count": 23,
   "metadata": {},
   "outputs": [
    {
     "data": {
      "text/plain": [
       "[('quaro', 0.4369693398475647),\n",
       " ('jofftey', 0.43572384119033813),\n",
       " ('wineseller', 0.4347544312477112),\n",
       " ('handmaids', 0.4347020387649536),\n",
       " ('godswife', 0.42159199714660645),\n",
       " ('khal', 0.41718557476997375),\n",
       " ('handmaid', 0.41684219241142273),\n",
       " ('tub', 0.41408586502075195),\n",
       " ('prepare', 0.4084009826183319),\n",
       " ('jhiqui', 0.4025002419948578)]"
      ]
     },
     "execution_count": 23,
     "metadata": {},
     "output_type": "execute_result"
    }
   ],
   "source": [
    "# Palabras que más se relacionan con:\n",
    "w2v_model.wv.most_similar(positive=[\"dany\"], topn=10)"
   ]
  },
  {
   "cell_type": "code",
   "execution_count": 24,
   "metadata": {},
   "outputs": [
    {
     "data": {
      "text/plain": [
       "[('work', 0.03656015545129776),\n",
       " ('battle', 0.030178464949131012),\n",
       " ('lion', 0.01600867696106434),\n",
       " ('us', 0.013376117683947086),\n",
       " (\"stark's\", 0.01268207561224699),\n",
       " ('snapped', 0.010875807143747807),\n",
       " ('cailin', 0.009066569618880749),\n",
       " ('helm', 0.005734656471759081),\n",
       " ('attacked', 0.005489793140441179),\n",
       " ('suggested', 0.003457161830738187)]"
      ]
     },
     "execution_count": 24,
     "metadata": {},
     "output_type": "execute_result"
    }
   ],
   "source": [
    "# Palabras que menos se relacionan con:\n",
    "w2v_model.wv.most_similar(negative=[\"dany\"], topn=10)"
   ]
  },
  {
   "cell_type": "code",
   "execution_count": 27,
   "metadata": {},
   "outputs": [
    {
     "data": {
      "text/plain": [
       "[('dany', 1.0),\n",
       " ('quaro', 0.4369693398475647),\n",
       " ('jofftey', 0.43572384119033813),\n",
       " ('wineseller', 0.4347544312477112),\n",
       " ('handmaids', 0.4347020387649536),\n",
       " ('godswife', 0.42159199714660645),\n",
       " ('khal', 0.41718557476997375),\n",
       " ('handmaid', 0.41684219241142273),\n",
       " ('tub', 0.41408586502075195),\n",
       " ('prepare', 0.4084009826183319)]"
      ]
     },
     "execution_count": 27,
     "metadata": {},
     "output_type": "execute_result"
    }
   ],
   "source": [
    "# También se puede comparar a partir de vectores\n",
    "vector_dany = w2v_model.wv.get_vector(\"dany\")\n",
    "w2v_model.wv.most_similar(vector_dany)"
   ]
  },
  {
   "cell_type": "code",
   "execution_count": 28,
   "metadata": {},
   "outputs": [
    {
     "data": {
      "text/plain": [
       "[('jeyne', 0.3897938132286072),\n",
       " ('arya', 0.3778018355369568),\n",
       " ('shave', 0.36562734842300415),\n",
       " ('chewing', 0.36313608288764954),\n",
       " ('blinking', 0.3615988790988922),\n",
       " (\"sansa's\", 0.3562685251235962),\n",
       " ('hate', 0.35619306564331055),\n",
       " ('mordane', 0.3532179594039917),\n",
       " ('torrhen', 0.352770060300827),\n",
       " ('whimpered', 0.34967440366744995)]"
      ]
     },
     "execution_count": 28,
     "metadata": {},
     "output_type": "execute_result"
    }
   ],
   "source": [
    "# Palabras que más se relacionan con:\n",
    "w2v_model.wv.most_similar(positive=[\"sansa\"], topn=10)"
   ]
  },
  {
   "cell_type": "code",
   "execution_count": 29,
   "metadata": {},
   "outputs": [
    {
     "data": {
      "text/plain": [
       "[('earth', 0.0401519276201725),\n",
       " ('battle', 0.016070010140538216),\n",
       " ('remain', 0.011019005440175533),\n",
       " ('cell', 0.003208280075341463),\n",
       " ('fingers', 0.003157210536301136),\n",
       " ('led', 0.0008215640555135906),\n",
       " ('urged', 0.000506899319589138),\n",
       " ('hundred', -0.001412404584698379),\n",
       " ('built', -0.0049398294650018215),\n",
       " (\"mummer's\", -0.006108582951128483)]"
      ]
     },
     "execution_count": 29,
     "metadata": {},
     "output_type": "execute_result"
    }
   ],
   "source": [
    "# Palabras que menos se relacionan con:\n",
    "w2v_model.wv.most_similar(negative=[\"sansa\"], topn=10)"
   ]
  },
  {
   "cell_type": "code",
   "execution_count": 30,
   "metadata": {},
   "outputs": [
    {
     "data": {
      "text/plain": [
       "[(\"stark's\", 0.49943575263023376),\n",
       " ('torrhen', 0.4756891429424286),\n",
       " ('hornwood', 0.4476150870323181),\n",
       " ('curtly', 0.4455956220626831),\n",
       " ('heddle', 0.43995338678359985),\n",
       " ('ben', 0.4393554627895355),\n",
       " ('aback', 0.4209018051624298),\n",
       " ('softened', 0.4122371971607208),\n",
       " ('returning', 0.40672433376312256),\n",
       " ('trap', 0.4054073691368103)]"
      ]
     },
     "execution_count": 30,
     "metadata": {},
     "output_type": "execute_result"
    }
   ],
   "source": [
    "# Palabras que más se relacionan con:\n",
    "w2v_model.wv.most_similar(positive=[\"stark\"], topn=10)"
   ]
  },
  {
   "cell_type": "code",
   "execution_count": 31,
   "metadata": {},
   "outputs": [
    {
     "data": {
      "text/plain": [
       "[('earth', 0.03251912072300911),\n",
       " ('hit', 0.011604711413383484),\n",
       " ('breaking', -0.003987689968198538),\n",
       " ('twice', -0.008603110909461975),\n",
       " ('picked', -0.01666380651295185),\n",
       " ('slaves', -0.019165143370628357),\n",
       " ('full', -0.01938457228243351),\n",
       " ('within', -0.021111413836479187),\n",
       " ('behind', -0.021342484280467033),\n",
       " ('giving', -0.02171752229332924)]"
      ]
     },
     "execution_count": 31,
     "metadata": {},
     "output_type": "execute_result"
    }
   ],
   "source": [
    "# Palabras que menos se relacionan con:\n",
    "w2v_model.wv.most_similar(negative=[\"stark\"], topn=10)"
   ]
  },
  {
   "cell_type": "code",
   "execution_count": 32,
   "metadata": {},
   "outputs": [
    {
     "data": {
      "text/plain": [
       "[('benjen', 0.41041576862335205),\n",
       " ('rickard', 0.3931111991405487),\n",
       " ('miserably', 0.3778532147407532),\n",
       " ('donnel', 0.3682020306587219),\n",
       " ('mollen', 0.3649804890155792),\n",
       " ('companion', 0.3637239634990692),\n",
       " ('calmly', 0.36346617341041565),\n",
       " ('stiffly', 0.36300694942474365),\n",
       " ('reluctantly', 0.36273646354675293),\n",
       " ('torrhen', 0.36195164918899536)]"
      ]
     },
     "execution_count": 32,
     "metadata": {},
     "output_type": "execute_result"
    }
   ],
   "source": [
    "# Palabras que más se relacionan con:\n",
    "w2v_model.wv.most_similar(positive=[\"robb\"], topn=10)"
   ]
  },
  {
   "cell_type": "code",
   "execution_count": 33,
   "metadata": {},
   "outputs": [
    {
     "data": {
      "text/plain": [
       "[('filled', 0.05154573917388916),\n",
       " ('within', 0.02908869832754135),\n",
       " ('gave', 0.017065148800611496),\n",
       " ('living', 0.010498746298253536),\n",
       " ('drank', 0.0066534243524074554),\n",
       " ('brazier', 0.005363278556615114),\n",
       " ('inside', 0.003462894819676876),\n",
       " ('making', 0.0021774035412818193),\n",
       " ('agony', 0.0004636581288650632),\n",
       " ('line', -0.0012565975775942206)]"
      ]
     },
     "execution_count": 33,
     "metadata": {},
     "output_type": "execute_result"
    }
   ],
   "source": [
    "# Palabras que menos se relacionan con:\n",
    "w2v_model.wv.most_similar(negative=[\"robb\"], topn=10)"
   ]
  },
  {
   "cell_type": "markdown",
   "metadata": {},
   "source": [
    "#### Reducción de dimensionalidad\n",
    "\n",
    "Para visualizar cómo se distribuyen y se relacionan las palabras en el espacio vectorial de alta dimensión generado por el modelo Word2Vec, necesitamos reducir la dimensionalidad de estos vectores a un espacio más manejable, típicamente 2D o 3D."
   ]
  },
  {
   "cell_type": "code",
   "execution_count": 36,
   "metadata": {},
   "outputs": [],
   "source": [
    "def reduce_dimensions(model, num_dimensions = 2 ):\n",
    "    \"\"\"\n",
    "    Esta función reduce las dimensiones de los vectores de palabras del modelo Word2Vec \n",
    "    a un número especificado de dimensiones (por defecto, 2) utilizando t-SNE.\n",
    "    \n",
    "    :param model: Modelo Word2Vec del cual obtener los vectores de palabras.\n",
    "    :param num_dimensions: Número de dimensiones a las que se reducirán los vectores (por defecto, 2).\n",
    "    :return: Tupla de (vectors, labels), donde 'vectors' son los vectores de palabras reducidos y 'labels' son las etiquetas (palabras) correspondientes.\n",
    "    \"\"\"\n",
    "    \n",
    "    # Conversión de los vectores de palabras del modelo a un array de NumPy\n",
    "    vectors = np.asarray(model.wv.vectors)\n",
    "    # Extracción de las etiquetas (palabras) del modelo\n",
    "    labels = np.asarray(model.wv.index_to_key)  \n",
    "\n",
    "    # Creación de un objeto t-SNE y configuración de los componentes (dimensiones) objetivo\n",
    "    tsne = TSNE(n_components=num_dimensions, random_state=0)\n",
    "    # Aplicación de t-SNE a los vectores para reducir su dimensionalidad\n",
    "    vectors = tsne.fit_transform(vectors)\n",
    "\n",
    "    return vectors, labels"
   ]
  },
  {
   "cell_type": "markdown",
   "metadata": {},
   "source": [
    "#### Visualización en 2D\n",
    "\n",
    "Una vez que hemos reducido la dimensionalidad de los vectores de palabras de nuestro modelo Word2Vec, el siguiente paso es visualizar estos vectores en un espacio bidimensional para una mejor interpretación y análisis."
   ]
  },
  {
   "cell_type": "code",
   "execution_count": 48,
   "metadata": {},
   "outputs": [
    {
     "data": {
      "application/vnd.plotly.v1+json": {
       "config": {
        "plotlyServerURL": "https://plot.ly"
       },
       "data": [
        {
         "hovertemplate": "x=%{x}<br>y=%{y}<br>text=%{text}<extra></extra>",
         "legendgroup": "",
         "marker": {
          "color": "#636efa",
          "symbol": "circle"
         },
         "mode": "markers+text",
         "name": "",
         "orientation": "v",
         "showlegend": false,
         "text": [
          "the",
          "and",
          "to",
          "a",
          "of",
          "he",
          "his",
          "was",
          "her",
          "you",
          "in",
          "it",
          "had",
          "i",
          "she",
          "as",
          "him",
          "with",
          "that",
          "said",
          "not",
          "for",
          "at",
          "on",
          "but",
          "they",
          "is",
          "my",
          "lord",
          "no",
          "from",
          "them",
          "have",
          "would",
          "were",
          "be",
          "all",
          "your",
          "when",
          "ser",
          "me",
          "if",
          "will",
          "so",
          "could",
          "one",
          "jon",
          "what",
          "their",
          "ned",
          "up",
          "out",
          "there",
          "man",
          "are",
          "this",
          "back",
          "been",
          "do",
          "did",
          "down",
          "like",
          "men",
          "by",
          "we",
          "tyrion",
          "page",
          "hand",
          "eyes",
          "than",
          "now",
          "only",
          "or",
          "king",
          "father",
          "told",
          "see",
          "bran",
          "catelyn",
          "more",
          "who",
          "off",
          "here",
          "even",
          "arya",
          "an",
          "face",
          "over",
          "into",
          "know",
          "old",
          "boy",
          "black",
          "before",
          "looked",
          "never",
          "well",
          "long",
          "time",
          "brother",
          "dany",
          "sansa",
          "then",
          "stark",
          "yet",
          "robb",
          "head",
          "too",
          "away",
          "made",
          "where",
          "through",
          "how",
          "lady",
          "robert",
          "took",
          "come",
          "thought",
          "sword",
          "must",
          "maester",
          "came",
          "lannister",
          "around",
          "still",
          "blood",
          "saw",
          "look",
          "has",
          "way",
          "us",
          "voice",
          "some",
          "take",
          "first",
          "can",
          "go",
          "say",
          "again",
          "behind",
          "two",
          "asked",
          "red",
          "left",
          "other",
          "son",
          "dead",
          "himself",
          "tell",
          "its",
          "want",
          "might",
          "night",
          "about",
          "make",
          "across",
          "after",
          "good",
          "knew",
          "heard",
          "went",
          "horse",
          "gods",
          "day",
          "last",
          "once",
          "great",
          "gave",
          "let",
          "own",
          "little",
          "why",
          "keep",
          "king's",
          "wall",
          "hair",
          "hard",
          "winterfell",
          "should",
          "high",
          "seemed",
          "white",
          "turned",
          "enough",
          "am",
          "years",
          "hands",
          "beside",
          "feet",
          "don't",
          "three",
          "stone",
          "found",
          "called",
          "our",
          "until",
          "against",
          "khal",
          "fingers",
          "think"
         ],
         "type": "scatter",
         "x": [
          12.812702178955078,
          19.61411476135254,
          22.998764038085938,
          20.88266944885254,
          13.016267776489258,
          -14.971711158752441,
          -15.679609298706055,
          3.554908514022827,
          -16.93000030517578,
          11.002547264099121,
          8.687973976135254,
          24.95500373840332,
          1.1164132356643677,
          14.651124954223633,
          -15.249037742614746,
          -10.053974151611328,
          -14.92107105255127,
          17.018583297729492,
          20.521162033081055,
          -9.67878246307373,
          10.915862083435059,
          17.985084533691406,
          -10.96285629272461,
          -17.314453125,
          4.782863616943359,
          7.886263370513916,
          7.281440734863281,
          6.562565803527832,
          -3.643746852874756,
          8.863990783691406,
          -19.59077262878418,
          14.817172050476074,
          14.620394706726074,
          18.663406372070312,
          11.846195220947266,
          15.106163024902344,
          4.927443027496338,
          8.535755157470703,
          -8.132401466369629,
          -9.397065162658691,
          15.781532287597656,
          10.090286254882812,
          18.56675148010254,
          1.3723762035369873,
          21.127832412719727,
          -6.189941883087158,
          -8.709205627441406,
          9.553635597229004,
          12.151042938232422,
          -4.349327564239502,
          -8.004911422729492,
          -5.140637397766113,
          18.39368438720703,
          5.241115570068359,
          25.350971221923828,
          13.095609664916992,
          -4.886435031890869,
          -0.5582781434059143,
          15.375672340393066,
          11.550115585327148,
          -1.3664010763168335,
          16.304903030395508,
          11.419391632080078,
          2.8947103023529053,
          16.895841598510742,
          -1.8302034139633179,
          5.329166889190674,
          -16.53111457824707,
          -13.546536445617676,
          6.260845184326172,
          1.2505078315734863,
          4.087808609008789,
          23.42176055908203,
          1.2173840999603271,
          6.354502201080322,
          -1.7302931547164917,
          16.34210777282715,
          -2.412825345993042,
          -1.7412163019180298,
          5.426327228546143,
          -0.8029949069023132,
          -17.239933013916016,
          11.50295639038086,
          7.393207550048828,
          -9.156198501586914,
          -4.958326816558838,
          -8.800165176391602,
          -11.787452697753906,
          -10.807600021362305,
          12.320508003234863,
          2.121673583984375,
          0.7749964594841003,
          -12.536683082580566,
          -2.966153621673584,
          -21.853626251220703,
          2.456774950027466,
          13.492879867553711,
          -3.322875499725342,
          19.2119083404541,
          3.7290830612182617,
          -7.654238224029541,
          -9.102904319763184,
          2.888997793197632,
          -3.4945695400238037,
          1.4364173412322998,
          -5.637770175933838,
          -15.97757339477539,
          10.02954387664795,
          -14.306468963623047,
          21.329870223999023,
          1.0185123682022095,
          -2.8149170875549316,
          12.190484046936035,
          -6.1132307052612305,
          -0.6969296336174011,
          -20.784561157226562,
          14.211273193359375,
          5.654015064239502,
          -6.430742263793945,
          17.050926208496094,
          -22.002809524536133,
          -22.20001220703125,
          -2.81758451461792,
          -13.01767635345459,
          0.731830358505249,
          -21.4163818359375,
          27.806171417236328,
          -9.120174407958984,
          2.4702725410461426,
          -2.0285325050354004,
          20.069137573242188,
          12.616280555725098,
          16.30517578125,
          17.12845802307129,
          -1.0429041385650635,
          18.442935943603516,
          19.384639739990234,
          10.322751998901367,
          0.13767914474010468,
          -5.350861072540283,
          9.953603744506836,
          -2.204185962677002,
          -8.914085388183594,
          -5.035282611846924,
          8.397331237792969,
          7.992583751678467,
          -0.44092172384262085,
          -14.914387702941895,
          13.42955207824707,
          0.20712527632713318,
          15.583740234375,
          11.696662902832031,
          -0.008442613296210766,
          19.104257583618164,
          15.797708511352539,
          -7.213901042938232,
          -0.45764225721359253,
          9.68742847442627,
          7.964369773864746,
          1.4192545413970947,
          -7.44171667098999,
          -15.526982307434082,
          15.861151695251465,
          19.628786087036133,
          20.22390365600586,
          0.3114958107471466,
          4.8441081047058105,
          -1.2831268310546875,
          21.439022064208984,
          3.722900390625,
          20.193307876586914,
          9.488926887512207,
          17.352882385253906,
          1.778428316116333,
          0.6143755912780762,
          -20.49030113220215,
          -5.533383369445801,
          10.169707298278809,
          16.98324203491211,
          -7.362796783447266,
          3.3716373443603516,
          -17.760421752929688,
          -18.37704086303711,
          7.8664751052856445,
          12.549418449401855,
          12.342758178710938,
          -18.367271423339844,
          -15.78940486907959,
          -5.360831260681152,
          18.785888671875,
          10.266953468322754,
          -2.81160831451416,
          -4.547987937927246,
          -10.702275276184082,
          11.643110275268555,
          2.3636043071746826,
          10.202082633972168,
          -3.502434015274048,
          -19.09286880493164,
          11.03364372253418
         ],
         "xaxis": "x",
         "y": [
          15.306958198547363,
          13.67732048034668,
          -9.682621002197266,
          1.6080796718597412,
          14.282244682312012,
          -14.717185020446777,
          3.8668525218963623,
          -4.5473737716674805,
          4.09283971786499,
          -12.956303596496582,
          10.019791603088379,
          -6.042503833770752,
          -10.126214981079102,
          -21.75998306274414,
          -14.63824462890625,
          -12.012948036193848,
          -0.7131566405296326,
          15.643027305603027,
          -0.13641023635864258,
          -16.360410690307617,
          -12.15070915222168,
          -5.10751485824585,
          -4.103880405426025,
          10.461565017700195,
          -5.882079124450684,
          1.143673300743103,
          -5.738884449005127,
          -19.862131118774414,
          -20.786165237426758,
          -5.754547119140625,
          -16.727298736572266,
          0.02275991439819336,
          -8.941396713256836,
          -17.06307029724121,
          9.337986946105957,
          -8.61326789855957,
          4.381645202636719,
          -18.616443634033203,
          -13.322511672973633,
          -23.31589698791504,
          -17.22901153564453,
          -11.80742073059082,
          -16.72386360168457,
          -4.953077793121338,
          -20.400867462158203,
          -7.179548740386963,
          -1.453936219215393,
          -12.459299087524414,
          12.153353691101074,
          -16.8968448638916,
          8.582911491394043,
          6.022862911224365,
          8.777304649353027,
          -3.4233615398406982,
          -14.140296936035156,
          -6.905897617340088,
          8.443159103393555,
          -3.1215434074401855,
          -15.308255195617676,
          -12.063554763793945,
          12.427297592163086,
          12.906246185302734,
          5.264232158660889,
          3.907857656478882,
          -4.421619415283203,
          -8.311247825622559,
          -5.564629077911377,
          6.9689621925354,
          2.5551345348358154,
          -1.0946000814437866,
          -9.039689064025879,
          -8.605981826782227,
          -6.983911037445068,
          -15.885648727416992,
          -22.046499252319336,
          -14.984712600708008,
          -11.069403648376465,
          -0.9409066438674927,
          -19.285791397094727,
          -0.8007839322090149,
          -16.64633560180664,
          2.539450168609619,
          -10.106267929077148,
          -2.314535140991211,
          -3.7381808757781982,
          -5.083123683929443,
          5.263848304748535,
          12.232357025146484,
          -0.05296323448419571,
          -14.100857734680176,
          -12.539889335632324,
          -6.011235237121582,
          21.2817325592041,
          4.589881420135498,
          -3.026726484298706,
          -11.150590896606445,
          -24.616670608520508,
          0.25205159187316895,
          -0.49551892280578613,
          -18.337276458740234,
          -5.444698333740234,
          -4.623545169830322,
          -15.538060188293457,
          -20.225873947143555,
          -12.811448097229004,
          -9.585392951965332,
          12.496330261230469,
          -11.183783531188965,
          1.7138080596923828,
          -2.1728363037109375,
          8.392210960388184,
          15.077221870422363,
          -25.80960464477539,
          -20.34153175354004,
          -11.706953048706055,
          -5.802652835845947,
          -13.613268852233887,
          -13.151900291442871,
          3.7385404109954834,
          -17.722793579101562,
          -8.210456848144531,
          -0.29332149028778076,
          -18.871261596679688,
          -4.456738471984863,
          7.256901741027832,
          15.016497611999512,
          -0.46701762080192566,
          -0.19614984095096588,
          -14.484796524047852,
          3.3494138717651367,
          -14.591521263122559,
          24.011499404907227,
          2.138599157333374,
          -13.061850547790527,
          0.6820602416992188,
          -14.930680274963379,
          -11.706493377685547,
          -10.128347396850586,
          -8.63696002960205,
          3.32802152633667,
          3.5118534564971924,
          -15.410848617553711,
          17.46514892578125,
          4.959932327270508,
          6.230334758758545,
          -25.58742904663086,
          2.2088654041290283,
          1.3179399967193604,
          -14.086835861206055,
          16.038301467895508,
          -13.667487144470215,
          -11.679224014282227,
          6.0582756996154785,
          3.366270065307617,
          -9.099556922912598,
          9.5543794631958,
          -9.559525489807129,
          -8.730875968933105,
          -12.370222091674805,
          24.726774215698242,
          8.914044380187988,
          13.666121482849121,
          -1.6852631568908691,
          -3.527097463607788,
          1.6218414306640625,
          -11.415396690368652,
          17.133747100830078,
          -15.388437271118164,
          -16.237701416015625,
          -19.633094787597656,
          1.4716037511825562,
          -13.148964881896973,
          -20.907546997070312,
          0.38282614946365356,
          10.194561004638672,
          19.456951141357422,
          1.7715352773666382,
          -0.22768619656562805,
          -17.16676139831543,
          7.291982650756836,
          -3.4859490394592285,
          20.217811584472656,
          0.6345794200897217,
          -8.930403709411621,
          -23.49848747253418,
          4.133917331695557,
          10.960054397583008,
          -6.674995422363281,
          6.941346645355225,
          -16.774084091186523,
          3.7634568214416504,
          19.435300827026367,
          -1.0887579917907715,
          -10.739214897155762,
          -7.661370277404785,
          2.067824602127075,
          19.519847869873047,
          -6.957591533660889,
          11.31488037109375,
          -14.201839447021484
         ],
         "yaxis": "y"
        }
       ],
       "layout": {
        "legend": {
         "tracegroupgap": 0
        },
        "margin": {
         "t": 60
        },
        "template": {
         "data": {
          "bar": [
           {
            "error_x": {
             "color": "#2a3f5f"
            },
            "error_y": {
             "color": "#2a3f5f"
            },
            "marker": {
             "line": {
              "color": "#E5ECF6",
              "width": 0.5
             },
             "pattern": {
              "fillmode": "overlay",
              "size": 10,
              "solidity": 0.2
             }
            },
            "type": "bar"
           }
          ],
          "barpolar": [
           {
            "marker": {
             "line": {
              "color": "#E5ECF6",
              "width": 0.5
             },
             "pattern": {
              "fillmode": "overlay",
              "size": 10,
              "solidity": 0.2
             }
            },
            "type": "barpolar"
           }
          ],
          "carpet": [
           {
            "aaxis": {
             "endlinecolor": "#2a3f5f",
             "gridcolor": "white",
             "linecolor": "white",
             "minorgridcolor": "white",
             "startlinecolor": "#2a3f5f"
            },
            "baxis": {
             "endlinecolor": "#2a3f5f",
             "gridcolor": "white",
             "linecolor": "white",
             "minorgridcolor": "white",
             "startlinecolor": "#2a3f5f"
            },
            "type": "carpet"
           }
          ],
          "choropleth": [
           {
            "colorbar": {
             "outlinewidth": 0,
             "ticks": ""
            },
            "type": "choropleth"
           }
          ],
          "contour": [
           {
            "colorbar": {
             "outlinewidth": 0,
             "ticks": ""
            },
            "colorscale": [
             [
              0,
              "#0d0887"
             ],
             [
              0.1111111111111111,
              "#46039f"
             ],
             [
              0.2222222222222222,
              "#7201a8"
             ],
             [
              0.3333333333333333,
              "#9c179e"
             ],
             [
              0.4444444444444444,
              "#bd3786"
             ],
             [
              0.5555555555555556,
              "#d8576b"
             ],
             [
              0.6666666666666666,
              "#ed7953"
             ],
             [
              0.7777777777777778,
              "#fb9f3a"
             ],
             [
              0.8888888888888888,
              "#fdca26"
             ],
             [
              1,
              "#f0f921"
             ]
            ],
            "type": "contour"
           }
          ],
          "contourcarpet": [
           {
            "colorbar": {
             "outlinewidth": 0,
             "ticks": ""
            },
            "type": "contourcarpet"
           }
          ],
          "heatmap": [
           {
            "colorbar": {
             "outlinewidth": 0,
             "ticks": ""
            },
            "colorscale": [
             [
              0,
              "#0d0887"
             ],
             [
              0.1111111111111111,
              "#46039f"
             ],
             [
              0.2222222222222222,
              "#7201a8"
             ],
             [
              0.3333333333333333,
              "#9c179e"
             ],
             [
              0.4444444444444444,
              "#bd3786"
             ],
             [
              0.5555555555555556,
              "#d8576b"
             ],
             [
              0.6666666666666666,
              "#ed7953"
             ],
             [
              0.7777777777777778,
              "#fb9f3a"
             ],
             [
              0.8888888888888888,
              "#fdca26"
             ],
             [
              1,
              "#f0f921"
             ]
            ],
            "type": "heatmap"
           }
          ],
          "heatmapgl": [
           {
            "colorbar": {
             "outlinewidth": 0,
             "ticks": ""
            },
            "colorscale": [
             [
              0,
              "#0d0887"
             ],
             [
              0.1111111111111111,
              "#46039f"
             ],
             [
              0.2222222222222222,
              "#7201a8"
             ],
             [
              0.3333333333333333,
              "#9c179e"
             ],
             [
              0.4444444444444444,
              "#bd3786"
             ],
             [
              0.5555555555555556,
              "#d8576b"
             ],
             [
              0.6666666666666666,
              "#ed7953"
             ],
             [
              0.7777777777777778,
              "#fb9f3a"
             ],
             [
              0.8888888888888888,
              "#fdca26"
             ],
             [
              1,
              "#f0f921"
             ]
            ],
            "type": "heatmapgl"
           }
          ],
          "histogram": [
           {
            "marker": {
             "pattern": {
              "fillmode": "overlay",
              "size": 10,
              "solidity": 0.2
             }
            },
            "type": "histogram"
           }
          ],
          "histogram2d": [
           {
            "colorbar": {
             "outlinewidth": 0,
             "ticks": ""
            },
            "colorscale": [
             [
              0,
              "#0d0887"
             ],
             [
              0.1111111111111111,
              "#46039f"
             ],
             [
              0.2222222222222222,
              "#7201a8"
             ],
             [
              0.3333333333333333,
              "#9c179e"
             ],
             [
              0.4444444444444444,
              "#bd3786"
             ],
             [
              0.5555555555555556,
              "#d8576b"
             ],
             [
              0.6666666666666666,
              "#ed7953"
             ],
             [
              0.7777777777777778,
              "#fb9f3a"
             ],
             [
              0.8888888888888888,
              "#fdca26"
             ],
             [
              1,
              "#f0f921"
             ]
            ],
            "type": "histogram2d"
           }
          ],
          "histogram2dcontour": [
           {
            "colorbar": {
             "outlinewidth": 0,
             "ticks": ""
            },
            "colorscale": [
             [
              0,
              "#0d0887"
             ],
             [
              0.1111111111111111,
              "#46039f"
             ],
             [
              0.2222222222222222,
              "#7201a8"
             ],
             [
              0.3333333333333333,
              "#9c179e"
             ],
             [
              0.4444444444444444,
              "#bd3786"
             ],
             [
              0.5555555555555556,
              "#d8576b"
             ],
             [
              0.6666666666666666,
              "#ed7953"
             ],
             [
              0.7777777777777778,
              "#fb9f3a"
             ],
             [
              0.8888888888888888,
              "#fdca26"
             ],
             [
              1,
              "#f0f921"
             ]
            ],
            "type": "histogram2dcontour"
           }
          ],
          "mesh3d": [
           {
            "colorbar": {
             "outlinewidth": 0,
             "ticks": ""
            },
            "type": "mesh3d"
           }
          ],
          "parcoords": [
           {
            "line": {
             "colorbar": {
              "outlinewidth": 0,
              "ticks": ""
             }
            },
            "type": "parcoords"
           }
          ],
          "pie": [
           {
            "automargin": true,
            "type": "pie"
           }
          ],
          "scatter": [
           {
            "fillpattern": {
             "fillmode": "overlay",
             "size": 10,
             "solidity": 0.2
            },
            "type": "scatter"
           }
          ],
          "scatter3d": [
           {
            "line": {
             "colorbar": {
              "outlinewidth": 0,
              "ticks": ""
             }
            },
            "marker": {
             "colorbar": {
              "outlinewidth": 0,
              "ticks": ""
             }
            },
            "type": "scatter3d"
           }
          ],
          "scattercarpet": [
           {
            "marker": {
             "colorbar": {
              "outlinewidth": 0,
              "ticks": ""
             }
            },
            "type": "scattercarpet"
           }
          ],
          "scattergeo": [
           {
            "marker": {
             "colorbar": {
              "outlinewidth": 0,
              "ticks": ""
             }
            },
            "type": "scattergeo"
           }
          ],
          "scattergl": [
           {
            "marker": {
             "colorbar": {
              "outlinewidth": 0,
              "ticks": ""
             }
            },
            "type": "scattergl"
           }
          ],
          "scattermapbox": [
           {
            "marker": {
             "colorbar": {
              "outlinewidth": 0,
              "ticks": ""
             }
            },
            "type": "scattermapbox"
           }
          ],
          "scatterpolar": [
           {
            "marker": {
             "colorbar": {
              "outlinewidth": 0,
              "ticks": ""
             }
            },
            "type": "scatterpolar"
           }
          ],
          "scatterpolargl": [
           {
            "marker": {
             "colorbar": {
              "outlinewidth": 0,
              "ticks": ""
             }
            },
            "type": "scatterpolargl"
           }
          ],
          "scatterternary": [
           {
            "marker": {
             "colorbar": {
              "outlinewidth": 0,
              "ticks": ""
             }
            },
            "type": "scatterternary"
           }
          ],
          "surface": [
           {
            "colorbar": {
             "outlinewidth": 0,
             "ticks": ""
            },
            "colorscale": [
             [
              0,
              "#0d0887"
             ],
             [
              0.1111111111111111,
              "#46039f"
             ],
             [
              0.2222222222222222,
              "#7201a8"
             ],
             [
              0.3333333333333333,
              "#9c179e"
             ],
             [
              0.4444444444444444,
              "#bd3786"
             ],
             [
              0.5555555555555556,
              "#d8576b"
             ],
             [
              0.6666666666666666,
              "#ed7953"
             ],
             [
              0.7777777777777778,
              "#fb9f3a"
             ],
             [
              0.8888888888888888,
              "#fdca26"
             ],
             [
              1,
              "#f0f921"
             ]
            ],
            "type": "surface"
           }
          ],
          "table": [
           {
            "cells": {
             "fill": {
              "color": "#EBF0F8"
             },
             "line": {
              "color": "white"
             }
            },
            "header": {
             "fill": {
              "color": "#C8D4E3"
             },
             "line": {
              "color": "white"
             }
            },
            "type": "table"
           }
          ]
         },
         "layout": {
          "annotationdefaults": {
           "arrowcolor": "#2a3f5f",
           "arrowhead": 0,
           "arrowwidth": 1
          },
          "autotypenumbers": "strict",
          "coloraxis": {
           "colorbar": {
            "outlinewidth": 0,
            "ticks": ""
           }
          },
          "colorscale": {
           "diverging": [
            [
             0,
             "#8e0152"
            ],
            [
             0.1,
             "#c51b7d"
            ],
            [
             0.2,
             "#de77ae"
            ],
            [
             0.3,
             "#f1b6da"
            ],
            [
             0.4,
             "#fde0ef"
            ],
            [
             0.5,
             "#f7f7f7"
            ],
            [
             0.6,
             "#e6f5d0"
            ],
            [
             0.7,
             "#b8e186"
            ],
            [
             0.8,
             "#7fbc41"
            ],
            [
             0.9,
             "#4d9221"
            ],
            [
             1,
             "#276419"
            ]
           ],
           "sequential": [
            [
             0,
             "#0d0887"
            ],
            [
             0.1111111111111111,
             "#46039f"
            ],
            [
             0.2222222222222222,
             "#7201a8"
            ],
            [
             0.3333333333333333,
             "#9c179e"
            ],
            [
             0.4444444444444444,
             "#bd3786"
            ],
            [
             0.5555555555555556,
             "#d8576b"
            ],
            [
             0.6666666666666666,
             "#ed7953"
            ],
            [
             0.7777777777777778,
             "#fb9f3a"
            ],
            [
             0.8888888888888888,
             "#fdca26"
            ],
            [
             1,
             "#f0f921"
            ]
           ],
           "sequentialminus": [
            [
             0,
             "#0d0887"
            ],
            [
             0.1111111111111111,
             "#46039f"
            ],
            [
             0.2222222222222222,
             "#7201a8"
            ],
            [
             0.3333333333333333,
             "#9c179e"
            ],
            [
             0.4444444444444444,
             "#bd3786"
            ],
            [
             0.5555555555555556,
             "#d8576b"
            ],
            [
             0.6666666666666666,
             "#ed7953"
            ],
            [
             0.7777777777777778,
             "#fb9f3a"
            ],
            [
             0.8888888888888888,
             "#fdca26"
            ],
            [
             1,
             "#f0f921"
            ]
           ]
          },
          "colorway": [
           "#636efa",
           "#EF553B",
           "#00cc96",
           "#ab63fa",
           "#FFA15A",
           "#19d3f3",
           "#FF6692",
           "#B6E880",
           "#FF97FF",
           "#FECB52"
          ],
          "font": {
           "color": "#2a3f5f"
          },
          "geo": {
           "bgcolor": "white",
           "lakecolor": "white",
           "landcolor": "#E5ECF6",
           "showlakes": true,
           "showland": true,
           "subunitcolor": "white"
          },
          "hoverlabel": {
           "align": "left"
          },
          "hovermode": "closest",
          "mapbox": {
           "style": "light"
          },
          "paper_bgcolor": "white",
          "plot_bgcolor": "#E5ECF6",
          "polar": {
           "angularaxis": {
            "gridcolor": "white",
            "linecolor": "white",
            "ticks": ""
           },
           "bgcolor": "#E5ECF6",
           "radialaxis": {
            "gridcolor": "white",
            "linecolor": "white",
            "ticks": ""
           }
          },
          "scene": {
           "xaxis": {
            "backgroundcolor": "#E5ECF6",
            "gridcolor": "white",
            "gridwidth": 2,
            "linecolor": "white",
            "showbackground": true,
            "ticks": "",
            "zerolinecolor": "white"
           },
           "yaxis": {
            "backgroundcolor": "#E5ECF6",
            "gridcolor": "white",
            "gridwidth": 2,
            "linecolor": "white",
            "showbackground": true,
            "ticks": "",
            "zerolinecolor": "white"
           },
           "zaxis": {
            "backgroundcolor": "#E5ECF6",
            "gridcolor": "white",
            "gridwidth": 2,
            "linecolor": "white",
            "showbackground": true,
            "ticks": "",
            "zerolinecolor": "white"
           }
          },
          "shapedefaults": {
           "line": {
            "color": "#2a3f5f"
           }
          },
          "ternary": {
           "aaxis": {
            "gridcolor": "white",
            "linecolor": "white",
            "ticks": ""
           },
           "baxis": {
            "gridcolor": "white",
            "linecolor": "white",
            "ticks": ""
           },
           "bgcolor": "#E5ECF6",
           "caxis": {
            "gridcolor": "white",
            "linecolor": "white",
            "ticks": ""
           }
          },
          "title": {
           "x": 0.05
          },
          "xaxis": {
           "automargin": true,
           "gridcolor": "white",
           "linecolor": "white",
           "ticks": "",
           "title": {
            "standoff": 15
           },
           "zerolinecolor": "white",
           "zerolinewidth": 2
          },
          "yaxis": {
           "automargin": true,
           "gridcolor": "white",
           "linecolor": "white",
           "ticks": "",
           "title": {
            "standoff": 15
           },
           "zerolinecolor": "white",
           "zerolinewidth": 2
          }
         }
        },
        "xaxis": {
         "anchor": "y",
         "domain": [
          0,
          1
         ],
         "title": {
          "text": "x"
         }
        },
        "yaxis": {
         "anchor": "x",
         "domain": [
          0,
          1
         ],
         "title": {
          "text": "y"
         }
        }
       }
      }
     },
     "metadata": {},
     "output_type": "display_data"
    }
   ],
   "source": [
    "# Graficar los embedddings en 2D\n",
    "\n",
    "# Reducción de la dimensionalidad de los vectores de palabras del modelo Word2Vec\n",
    "vecs, labels = reduce_dimensions(w2v_model)\n",
    "\n",
    "# Definición del número máximo de palabras a visualizar\n",
    "MAX_WORDS=200\n",
    "\n",
    "# Creación de una gráfica de dispersión con Plotly Express\n",
    "fig = px.scatter(x=vecs[:MAX_WORDS,0], y=vecs[:MAX_WORDS,1], text=labels[:MAX_WORDS])\n",
    "fig"
   ]
  },
  {
   "cell_type": "markdown",
   "metadata": {},
   "source": [
    "A continuación se mencionan algunas observaciones sobre la visualización:\n",
    "\n",
    "* Agrupaciones de palabras: Las palabras que se agrupan cercanamente podrían usarse en contextos similares dentro del texto. Por ejemplo, \"Ned\" y \"Catelyn\", o \"Jon\", \"Arya\" y \"Sansa\" están cerca, esto puede indicar que aparecen en los mismos pasajes o se mencionan juntos.\n",
    "\n",
    "* Agrupaciones temáticas: Algunas palabras están agrupadas de manera que parece reflejar temas o conceptos, como 'king', 'lord', 'khal', que se relacionan con liderazgo y poder.\n",
    "\n",
    "* Palabras de movimiento o acción: Palabras como 'looked', 'turned', 'came' y 'took' están cercanas entre sí, lo que sugiere que estas palabras de movimiento o acción se usan en contextos similares.\n",
    "\n",
    "* Descriptores físicos: Palabras como 'hair', 'black', 'red' y 'white' están próximas, indicando que el modelo las asocia con descripciones físicas o visuales.\n",
    "\n",
    "* Aislamiento de palabras comunes: Palabras de alto uso y baja especificidad semántica como 'the', 'and', 'in' y 'of' aparecen dispersas por el gráfico o en los bordes, lo que refleja su uso generalizado en múltiples contextos.\n",
    "\n",
    "* Relaciones Posibles: La proximidad entre ciertos nombres y términos podría indicar relaciones o interacciones narrativas, como la cercanía entre 'Ned' y 'lady' o 'Robb' y 'king'."
   ]
  },
  {
   "cell_type": "code",
   "execution_count": 38,
   "metadata": {},
   "outputs": [],
   "source": [
    "# Guardar vectores y etiquetas para visualización \n",
    "\n",
    "# Extracción de los vectores y labels del modelo Word2Vec\n",
    "vectors = np.asarray(w2v_model.wv.vectors)  # Convierte los vectores a un array de NumPy\n",
    "labels = list(w2v_model.wv.index_to_key)     # Obtiene la lista de palabras (etiquetas) del vocabulario\n",
    "\n",
    "# Guardar los vectores en un archivo .tsv\n",
    "np.savetxt(\"./vectors.tsv\", vectors, delimiter=\"\\t\")\n",
    "\n",
    "# Guardar las etiquetas en un archivo .tsv\n",
    "# Creamos un archivo TSV para las etiquetas y escribimos cada etiqueta en una nueva línea.\n",
    "with open(\"./labels.tsv\", \"w\") as fp:\n",
    "    for item in labels:\n",
    "        fp.write(\"%s\\n\" % item)"
   ]
  },
  {
   "cell_type": "code",
   "execution_count": 39,
   "metadata": {},
   "outputs": [],
   "source": [
    "# Función para graficar la matriz de similaridad\n",
    "def plot_matrix_distance(words, dist):\n",
    "    fig = plt.figure(figsize=(16,9))\n",
    "    ax = fig.add_subplot()\n",
    "    sns.heatmap(dist, xticklabels=words, yticklabels=words, \n",
    "                annot=True, fmt=\".2f\", cmap=\"YlGnBu\", ax=ax, mask=np.triu(dist))\n",
    "    plt.show()"
   ]
  },
  {
   "cell_type": "code",
   "execution_count": 42,
   "metadata": {},
   "outputs": [
    {
     "data": {
      "image/png": "[encoded data removed]",
      "text/plain": [
       "<Figure size 1600x900 with 2 Axes>"
      ]
     },
     "metadata": {},
     "output_type": "display_data"
    }
   ],
   "source": [
    "# Definición de las palabras para realizar el test de analogía\n",
    "test_words = ['daenerys', 'dragon', 'winterfell']\n",
    "\n",
    "# Inicializamos una lista para almacenar los vectores de embeddings de las palabras seleccionadas\n",
    "test_emb = []\n",
    "for word in test_words:\n",
    "    # Para cada palabra en 'test_words', obtenemos su vector de embedding del modelo Word2Vec\n",
    "    # y lo añadimos a la lista 'test_emb'\n",
    "    test_emb.append(w2v_model.wv.get_vector(word))\n",
    "    \n",
    "# Realizamos una operación de analogía vectorial: \n",
    "# En este caso, es similar a buscar un concepto que se relacione con 'Daenerys' y 'winterfell' \n",
    "# de la misma manera que 'dragon' se relaciona con 'Daenerys'.\n",
    "new_vector = test_emb[0] - test_emb[1] + test_emb[2]\n",
    "\n",
    "# Agregamos el resultado de la operación de analogía a la lista de palabras y vectores para análisis\n",
    "new_words = test_words + ['new_analogy']\n",
    "new_emb = np.append(test_emb, new_vector.reshape(1, -1), axis=0)\n",
    "\n",
    "# Calculamos la similaridad del coseno entre todos los pares de vectores en 'new_emb'\n",
    "dist = pairwise.cosine_similarity(new_emb, new_emb)\n",
    "\n",
    "# Utilizamos la función 'plot_matrix_distance' para graficar la matriz de similaridad\n",
    "# Esta visualización nos ayudará a entender cómo se relacionan estas palabras y la analogía resultante en el espacio semántico.\n",
    "plot_matrix_distance(new_words, dist)"
   ]
  },
  {
   "cell_type": "markdown",
   "metadata": {},
   "source": [
    "La matriz de similaridad muestra las relaciones semánticas entre varias palabras y un vector de analogía (\"new_analogy\") calculado a partir de ellas.\n",
    "\n",
    "Los valores de similaridad representados en la matriz se pueden interpretar de la siguiente manera:\n",
    "\n",
    "* Daenerys y Dragon (0.39): Este valor indica una similaridad moderada entre 'Daenerys' y 'dragon'. Esto tiene sentido narrativo ya que Daenerys es conocida como la \"Madre de Dragones\".\n",
    "\n",
    "* Daenerys y Winterfell (0.21): La similaridad entre 'Daenerys' y 'Winterfell' es menos fuerte que con 'dragon'. Esto podría reflejar que, en el universo narrativo, Daenerys tiene una conexión menos directa con Winterfell.\n",
    "\n",
    "* Dragon y Winterfell (0.22): Un valor similar al anterior, indicando que 'dragon' y 'Winterfell' también tienen una conexión semántica más débil. Esto es lógico, ya que los dragones están más asociados con Daenerys y la cultura Targaryen que con Winterfell.\n",
    "\n",
    "New_analogy:\n",
    "\n",
    "* Con Daenerys (0.50): Este es el valor más alto de similaridad en la matriz, indicando que el vector resultante de la analogía guarda una fuerte relación con 'Daenerys'. Esto sugiere que el vector \"new_analogy\" conserva gran parte de la semántica asociada con Daenerys.\n",
    "\n",
    "* Con Dragon (-0.32): El valor negativo implica que la operación de analogía ha producido un vector que se aleja semánticamente del concepto de 'dragon'. Esto puede ser el resultado de restar el vector 'dragon' en la operación de analogía.\n",
    "\n",
    "* Con Winterfell (0.66): Este valor indica que el vector \"new_analogy\" tiene una fuerte similaridad con 'Winterfell', incluso más que con 'Daenerys'. Esto podría sugerir que el vector captura un concepto que es significativamente relevante para Winterfell o que tiene una fuerte asociación con él en el texto."
   ]
  },
  {
   "cell_type": "markdown",
   "metadata": {},
   "source": [
    "Para identificar palabras que tienen una alta similaridad con un concepto representado por new_vector, realizamos lo siguiente:"
   ]
  },
  {
   "cell_type": "code",
   "execution_count": 46,
   "metadata": {},
   "outputs": [
    {
     "name": "stdout",
     "output_type": "stream",
     "text": [
      "winterfell: 0.6603627800941467\n",
      "daenerys: 0.50272536277771\n",
      "winterfell's: 0.35820382833480835\n",
      "joff: 0.35556739568710327\n",
      "foster: 0.35182878375053406\n",
      "amusing: 0.34843698143959045\n",
      "benjen: 0.3402685821056366\n",
      "bannerman: 0.3378411531448364\n",
      "blindly: 0.33662185072898865\n",
      "married: 0.33491072058677673\n"
     ]
    }
   ],
   "source": [
    "# Calculamos la similaridad del coseno entre cada vector de palabra en el modelo Word2Vec y el 'new_vector'\n",
    "similarities = np.squeeze(pairwise.cosine_similarity(w2v_model.wv.vectors,np.array([new_vector])))\n",
    "\n",
    "# Ordenamos los índices de las similaridades de mayor a menor y seleccionamos los 10 índices principales.\n",
    "args_sorted = np.argsort(similarities)[::-1][:10]\n",
    "\n",
    "# Imprimimos las palabras correspondientes a los 10 índices principales y sus valores de similaridad.\n",
    "for arg in args_sorted:\n",
    "  print(f'{w2v_model.wv.index_to_key[arg]}: {similarities[arg]}')"
   ]
  },
  {
   "cell_type": "markdown",
   "metadata": {},
   "source": [
    "Los resultados muestran las palabras del vocabulario del modelo que están más \"cerca\" semánticamente del new_vector. Las palabras con valores de similaridad más altos pueden tener una conexión temática o contextual fuerte con el concepto que new_vector representa."
   ]
  }
 ],
 "metadata": {
  "kernelspec": {
   "display_name": "Python 3",
   "language": "python",
   "name": "python3"
  },
  "language_info": {
   "codemirror_mode": {
    "name": "ipython",
    "version": 3
   },
   "file_extension": ".py",
   "mimetype": "text/x-python",
   "name": "python",
   "nbconvert_exporter": "python",
   "pygments_lexer": "ipython3",
   "version": "3.11.3"
  }
 },
 "nbformat": 4,
 "nbformat_minor": 2
}
