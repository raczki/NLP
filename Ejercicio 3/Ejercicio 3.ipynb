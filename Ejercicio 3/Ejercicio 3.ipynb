{
 "cells": [
  {
   "cell_type": "markdown",
   "metadata": {},
   "source": [
    "## Ejercicio 3\n",
    "\n",
    "- Crear sus propios vectores con Gensim basado en lo visto en clase con otro dataset.\n",
    "- Probar términos de interés y explicar similitudes en el espacio de embeddings (sacar conclusiones entre palabras similitudes y diferencias).\n",
    "- Graficarlos.\n",
    "- Obtener conclusiones."
   ]
  },
  {
   "cell_type": "markdown",
   "metadata": {},
   "source": [
    "### Introducción\n",
    "\n",
    "En este ejercicio, se explora el uso de técnicas de NLP para analizar el primer libro de la serie \"Game of Thrones\". Se utilizan diferentes métodos de tokenización para procesar el texto y se comparan sus resultados para entender mejor cómo cada enfoque maneja los datos. Este análisis nos permite preparar el texto para modelar embeddings de palabras, lo que nos proporcionará una comprensión más profunda de las relaciones semánticas en el texto."
   ]
  },
  {
   "cell_type": "code",
   "execution_count": 1,
   "metadata": {},
   "outputs": [
    {
     "name": "stderr",
     "output_type": "stream",
     "text": [
      "[nltk_data] Downloading package punkt to\n",
      "[nltk_data]     C:\\Users\\karen\\AppData\\Roaming\\nltk_data...\n",
      "[nltk_data]   Package punkt is already up-to-date!\n",
      "[nltk_data] Downloading package wordnet to\n",
      "[nltk_data]     C:\\Users\\karen\\AppData\\Roaming\\nltk_data...\n",
      "[nltk_data]   Package wordnet is already up-to-date!\n",
      "[nltk_data] Downloading package omw-1.4 to\n",
      "[nltk_data]     C:\\Users\\karen\\AppData\\Roaming\\nltk_data...\n",
      "[nltk_data]   Package omw-1.4 is already up-to-date!\n"
     ]
    },
    {
     "data": {
      "text/plain": [
       "True"
      ]
     },
     "execution_count": 1,
     "metadata": {},
     "output_type": "execute_result"
    }
   ],
   "source": [
    "import pandas as pd\n",
    "import matplotlib.pyplot as plt\n",
    "import seaborn as sns\n",
    "\n",
    "import multiprocessing\n",
    "from gensim.models import Word2Vec\n",
    "from gensim.models.callbacks import CallbackAny2Vec\n",
    "import os\n",
    "import re\n",
    "\n",
    "from sklearn.decomposition import IncrementalPCA\n",
    "from sklearn.manifold import TSNE\n",
    "from sklearn.metrics import pairwise\n",
    "import numpy as np\n",
    "\n",
    "import plotly.graph_objects as go\n",
    "import plotly.express as px\n",
    "\n",
    "from keras.preprocessing.text import text_to_word_sequence\n",
    "\n",
    "import nltk\n",
    "\n",
    "# Descargar diccionario\n",
    "nltk.download(\"punkt\")\n",
    "nltk.download(\"wordnet\")\n",
    "nltk.download('omw-1.4')"
   ]
  },
  {
   "cell_type": "markdown",
   "metadata": {},
   "source": [
    "### Datos"
   ]
  },
  {
   "cell_type": "markdown",
   "metadata": {},
   "source": [
    "Cargamos el dataset que se encuentra en un archivo de texto, y lo leemos como un DataFrame de pandas."
   ]
  },
  {
   "cell_type": "code",
   "execution_count": 2,
   "metadata": {},
   "outputs": [
    {
     "name": "stderr",
     "output_type": "stream",
     "text": [
      "C:\\Users\\karen\\AppData\\Local\\Temp\\ipykernel_2404\\3002682383.py:1: ParserWarning: Falling back to the 'python' engine because the 'c' engine does not support regex separators (separators > 1 char and different from '\\s+' are interpreted as regex); you can avoid this warning by specifying engine='python'.\n",
      "  df = pd.read_csv('./GOT/001ssb.txt', sep='/n', header=None, encoding='latin-1')\n"
     ]
    },
    {
     "data": {
      "text/html": [
       "<div>\n",
       "<style scoped>\n",
       "    .dataframe tbody tr th:only-of-type {\n",
       "        vertical-align: middle;\n",
       "    }\n",
       "\n",
       "    .dataframe tbody tr th {\n",
       "        vertical-align: top;\n",
       "    }\n",
       "\n",
       "    .dataframe thead th {\n",
       "        text-align: right;\n",
       "    }\n",
       "</style>\n",
       "<table border=\"1\" class=\"dataframe\">\n",
       "  <thead>\n",
       "    <tr style=\"text-align: right;\">\n",
       "      <th></th>\n",
       "      <th>0</th>\n",
       "    </tr>\n",
       "  </thead>\n",
       "  <tbody>\n",
       "    <tr>\n",
       "      <th>0</th>\n",
       "      <td>A Game Of Thrones</td>\n",
       "    </tr>\n",
       "    <tr>\n",
       "      <th>1</th>\n",
       "      <td>Book One of A Song of Ice and Fire</td>\n",
       "    </tr>\n",
       "    <tr>\n",
       "      <th>2</th>\n",
       "      <td>By George R. R. Martin</td>\n",
       "    </tr>\n",
       "    <tr>\n",
       "      <th>3</th>\n",
       "      <td>PROLOGUE</td>\n",
       "    </tr>\n",
       "    <tr>\n",
       "      <th>4</th>\n",
       "      <td>\"We should start back,\" Gared urged as the woo...</td>\n",
       "    </tr>\n",
       "  </tbody>\n",
       "</table>\n",
       "</div>"
      ],
      "text/plain": [
       "                                                   0\n",
       "0                                  A Game Of Thrones\n",
       "1                 Book One of A Song of Ice and Fire\n",
       "2                             By George R. R. Martin\n",
       "3                                           PROLOGUE\n",
       "4  \"We should start back,\" Gared urged as the woo..."
      ]
     },
     "execution_count": 2,
     "metadata": {},
     "output_type": "execute_result"
    }
   ],
   "source": [
    "df = pd.read_csv('./GOT/001ssb.txt', sep='/n', header=None, encoding='latin-1')\n",
    "df.head()"
   ]
  },
  {
   "cell_type": "code",
   "execution_count": 3,
   "metadata": {},
   "outputs": [
    {
     "name": "stdout",
     "output_type": "stream",
     "text": [
      "Cantidad de documentos: 19598\n"
     ]
    }
   ],
   "source": [
    "# Cantidad de filas en los datos\n",
    "print(\"Cantidad de documentos:\", df.shape[0])"
   ]
  },
  {
   "cell_type": "markdown",
   "metadata": {},
   "source": [
    "Se usa la función text_to_word_sequence de Keras para tokenizar el texto del libro. Esta función nos proporciona una forma sencilla de dividir el texto en palabras individuales."
   ]
  },
  {
   "cell_type": "code",
   "execution_count": 4,
   "metadata": {},
   "outputs": [
    {
     "data": {
      "text/plain": [
       "[['a', 'game', 'of', 'thrones'],\n",
       " ['book', 'one', 'of', 'a', 'song', 'of', 'ice', 'and', 'fire'],\n",
       " ['by', 'george', 'r', 'r', 'martin'],\n",
       " ['prologue'],\n",
       " ['we',\n",
       "  'should',\n",
       "  'start',\n",
       "  'back',\n",
       "  'gared',\n",
       "  'urged',\n",
       "  'as',\n",
       "  'the',\n",
       "  'woods',\n",
       "  'began',\n",
       "  'to',\n",
       "  'grow',\n",
       "  'dark',\n",
       "  'around',\n",
       "  'them',\n",
       "  'the',\n",
       "  'wildlings',\n",
       "  'are']]"
      ]
     },
     "execution_count": 4,
     "metadata": {},
     "output_type": "execute_result"
    }
   ],
   "source": [
    "sentence_tokens = []\n",
    "\n",
    "# Transformar las oraciones en una secuencia de palabras \n",
    "for _, row in df[:None].iterrows():\n",
    "    sentence_tokens.append(text_to_word_sequence(row[0]))\n",
    "\n",
    "# Ver los primeros 5 elementos\n",
    "sentence_tokens[:5]"
   ]
  },
  {
   "cell_type": "code",
   "execution_count": 5,
   "metadata": {},
   "outputs": [
    {
     "name": "stdout",
     "output_type": "stream",
     "text": [
      "Número de tokens generados por el primer método:  19598\n"
     ]
    }
   ],
   "source": [
    "print(\"Número de tokens generados por el primer método: \", len(sentence_tokens))"
   ]
  },
  {
   "cell_type": "markdown",
   "metadata": {},
   "source": [
    "A continuación, se aplica un enfoque más detallado para la tokenización, utilizando NLTK junto con expresiones regulares. Esto nos permite limpiar el texto de caracteres no deseados y realizar una tokenización más precisa."
   ]
  },
  {
   "cell_type": "code",
   "execution_count": 6,
   "metadata": {},
   "outputs": [
    {
     "name": "stdout",
     "output_type": "stream",
     "text": [
      "[['a', 'game', 'of', 'thrones'], ['book', 'one', 'of', 'a', 'song', 'of', 'ice', 'and', 'fire'], ['by', 'george', 'r', 'r', 'martin'], ['prologue'], ['``', 'we', 'should', 'start', 'back', '``', 'gared', 'urged', 'as', 'the', 'woods', 'began', 'to', 'grow', 'dark', 'around', 'them', '``', 'the', 'wildlings', 'are']]\n"
     ]
    }
   ],
   "source": [
    "sentence_tokens_NLTK = []\n",
    "pattern = r'[^a-zA-z0-9/\\'\\\"s]'\n",
    "\n",
    "for _, row in df.iterrows():  \n",
    "    words = re.sub(pattern, ' ', row[0])  # Reemplazar caracteres no deseados con espacios\n",
    "    words = re.sub(r'[_]', ' ', words)  # Reemplazar guiones bajos con espacios\n",
    "    words = words.lower()  # Convertir el texto a minúsculas para estandarizar\n",
    "    sentence_tokens_NLTK.append(nltk.word_tokenize(words))  # Tokenizar el texto y agregar a la lista\n",
    "\n",
    "# Ver los primeros 5 elementos\n",
    "print(sentence_tokens_NLTK[:5])"
   ]
  },
  {
   "cell_type": "code",
   "execution_count": 7,
   "metadata": {},
   "outputs": [
    {
     "name": "stdout",
     "output_type": "stream",
     "text": [
      "Número de tokens generados por el método NLTK:  19598\n"
     ]
    }
   ],
   "source": [
    "print(\"Número de tokens generados por el método NLTK: \", len(sentence_tokens_NLTK))"
   ]
  },
  {
   "cell_type": "markdown",
   "metadata": {},
   "source": [
    "Comparamos los tokens generados por los dos métodos anteriores. Este análisis nos permite identificar discrepancias y comprender cómo cada enfoque procesa el texto de manera diferente."
   ]
  },
  {
   "cell_type": "code",
   "execution_count": 9,
   "metadata": {},
   "outputs": [
    {
     "name": "stdout",
     "output_type": "stream",
     "text": [
      "Cantidad de diferencias encontradas: 11\n"
     ]
    }
   ],
   "source": [
    "# Verificar las diferencias en el procesamiento de las palabras \n",
    "dif_words = [] \n",
    "q_dif_words = 0  \n",
    "\n",
    "# Iterar sobre los tokens generados por ambos métodos\n",
    "for i, j in zip(sentence_tokens, sentence_tokens_NLTK):\n",
    "    if i != j:\n",
    "        # Si los tokens de la misma posición son diferentes, compara palabra por palabra\n",
    "        for l, k in zip(i, j):\n",
    "            if l != k:\n",
    "                dif_words.append([l, k])  # Añadir el par de palabras diferentes a la lista\n",
    "                q_dif_words += 1  # Incrementar el contador de diferencias\n",
    "\n",
    "            # Si se encontraron más de 10 diferencias, salir del bucle interno\n",
    "            if q_dif_words > 10:\n",
    "                break\n",
    "\n",
    "    # Si se encontraron más de 10 diferencias, salir del bucle externo\n",
    "    if q_dif_words > 10:\n",
    "        break    \n",
    "\n",
    "# Imprimir la cantidad total de pares de palabras diferentes encontradas\n",
    "print(\"Cantidad de diferencias encontradas:\", len(dif_words))"
   ]
  },
  {
   "cell_type": "code",
   "execution_count": 10,
   "metadata": {},
   "outputs": [
    {
     "data": {
      "text/plain": [
       "[['we', '``'],\n",
       " ['should', 'we'],\n",
       " ['start', 'should'],\n",
       " ['back', 'start'],\n",
       " ['gared', 'back'],\n",
       " ['urged', '``'],\n",
       " ['as', 'gared'],\n",
       " ['the', 'urged'],\n",
       " ['woods', 'as'],\n",
       " ['began', 'the'],\n",
       " ['to', 'woods']]"
      ]
     },
     "execution_count": 10,
     "metadata": {},
     "output_type": "execute_result"
    }
   ],
   "source": [
    "dif_words"
   ]
  },
  {
   "cell_type": "markdown",
   "metadata": {},
   "source": [
    "Analizando los pares de palabras en dif_words, parece que hay una diferencia significativa en cómo cada método de tokenización está manejando el texto. Por ejemplo:\n",
    "\n",
    "* En varios casos, una palabra en el primer token corresponde a la palabra siguiente en el segundo token, como en ['we', '``'], ['should', 'we'], ['start', 'should']. Esto sugiere que uno de los métodos de tokenización está desfasado en una palabra respecto al otro.\n",
    "\n",
    "* Las diferencias en la tokenización pueden deberse a cómo cada método trata los caracteres especiales, las comillas, y la puntuación. Por ejemplo, el par ['we', '``'] sugiere que un método está capturando las comillas dobles como un token separado, mientras que el otro no."
   ]
  },
  {
   "cell_type": "markdown",
   "metadata": {},
   "source": [
    "### Word2Vec con Gensim\n",
    "\n",
    "Construimos y entrenamos un modelo Word2Vec utilizando la biblioteca Gensim. Word2Vec es un grupo de modelos relacionados que se utilizan para producir word embeddings, es decir, representaciones vectoriales de palabras. Estos modelos son redes neuronales de dos capas entrenadas para reconstruir contextos lingüísticos de palabras."
   ]
  },
  {
   "cell_type": "code",
   "execution_count": 11,
   "metadata": {},
   "outputs": [],
   "source": [
    "# Definición de la clase callback para monitorear la pérdida durante el entrenamiento\n",
    "class callback(CallbackAny2Vec):\n",
    "    \"\"\"\n",
    "    Clase callback para imprimir la pérdida ('loss') después de cada época de entrenamiento.\n",
    "    Esta clase se utiliza para obtener información detallada sobre el proceso de aprendizaje\n",
    "    del modelo y ajustar parámetros si es necesario.\n",
    "    \"\"\"\n",
    "    def __init__(self):\n",
    "        self.epoch = 0  # Inicializa el contador de épocas\n",
    "        self.loss_previous_step = 0  # Inicializa la pérdida en el paso anterior\n",
    "\n",
    "    def on_epoch_end(self, model):\n",
    "        # Método llamado al final de cada época\n",
    "        loss = model.get_latest_training_loss()  # Obtiene la pérdida más reciente del modelo\n",
    "        if self.epoch == 0:\n",
    "            print(f'Loss after epoch {self.epoch}: {loss}')\n",
    "        else:\n",
    "            # Calcula la pérdida desde la última época\n",
    "            print(f'Loss after epoch {self.epoch}: {loss - self.loss_previous_step}')\n",
    "        self.epoch += 1  # Incrementa el contador de épocas\n",
    "        self.loss_previous_step = loss  # Actualiza la pérdida anterior para la próxima comparación"
   ]
  },
  {
   "cell_type": "markdown",
   "metadata": {},
   "source": [
    "Para nuestro modelo, elegimos la estructura Skipgram de Word2Vec. A diferencia del modelo CBOW (Continuous Bag of Words), Skipgram predice las palabras de contexto a partir de una palabra objetivo, lo que suele ser más efectivo para conjuntos de datos más grandes y con palabras menos frecuentes."
   ]
  },
  {
   "cell_type": "code",
   "execution_count": 12,
   "metadata": {},
   "outputs": [],
   "source": [
    "# Creación del modelo Word2Vec utilizando la estructura de modelo Skipgram\n",
    "w2v_model = Word2Vec(\n",
    "    min_count=5,    # Frecuencia mínima de palabra para ser incluida en el vocabulario\n",
    "    window=2,       # Cantidad de palabras antes y después de la palabra objetivo para considerar en el contexto\n",
    "    vector_size=300, # Dimensionalidad de los vectores de palabras\n",
    "    negative=20,    # Cantidad de \"negative samples\" (muestra de palabras no relacionadas); 0 significa que no se usa\n",
    "    workers=1,      # Cantidad de hilos de procesamiento para entrenar el modelo (ajustar según la máquina)\n",
    "    sg=1)            # Define el algoritmo de entrenamiento: 0 para CBOW, 1 para Skipgram"
   ]
  },
  {
   "cell_type": "code",
   "execution_count": 13,
   "metadata": {},
   "outputs": [],
   "source": [
    "# Obtener el vocabulario con los tokens\n",
    "w2v_model.build_vocab(sentence_tokens)"
   ]
  },
  {
   "cell_type": "code",
   "execution_count": 14,
   "metadata": {},
   "outputs": [
    {
     "name": "stdout",
     "output_type": "stream",
     "text": [
      "Cantidad de docs en el corpus: 19598\n"
     ]
    }
   ],
   "source": [
    "# Cantidad de filas/docs encontradas en el corpus\n",
    "print(\"Cantidad de docs en el corpus:\", w2v_model.corpus_count)"
   ]
  },
  {
   "cell_type": "code",
   "execution_count": 15,
   "metadata": {},
   "outputs": [
    {
     "name": "stdout",
     "output_type": "stream",
     "text": [
      "Cantidad de words distintas en el corpus: 4271\n"
     ]
    }
   ],
   "source": [
    "# Cantidad de words encontradas en el corpus\n",
    "print(\"Cantidad de words distintas en el corpus:\", len(w2v_model.wv.index_to_key))"
   ]
  },
  {
   "cell_type": "markdown",
   "metadata": {},
   "source": [
    "#### Entrenamiento del modelo Word2Vec\n",
    "\n",
    "Procedemos al entrenamiento de nuestro modelo Word2Vec utilizando los datos procesados anteriormente. El objetivo es aprender representaciones vectoriales (embeddings) de palabras basadas en el contexto en el que aparecen en el texto."
   ]
  },
  {
   "cell_type": "code",
   "execution_count": 16,
   "metadata": {},
   "outputs": [
    {
     "name": "stdout",
     "output_type": "stream",
     "text": [
      "Loss after epoch 0: 2333840.75\n",
      "Loss after epoch 1: 1640345.25\n",
      "Loss after epoch 2: 1536630.0\n",
      "Loss after epoch 3: 1507944.5\n",
      "Loss after epoch 4: 1484651.5\n",
      "Loss after epoch 5: 1419345.0\n",
      "Loss after epoch 6: 1402366.0\n",
      "Loss after epoch 7: 1384269.0\n",
      "Loss after epoch 8: 1368241.0\n",
      "Loss after epoch 9: 1355779.0\n",
      "Loss after epoch 10: 1342403.0\n",
      "Loss after epoch 11: 1284843.0\n",
      "Loss after epoch 12: 1273010.0\n",
      "Loss after epoch 13: 1257160.0\n",
      "Loss after epoch 14: 1247398.0\n",
      "Loss after epoch 15: 1234776.0\n",
      "Loss after epoch 16: 1221948.0\n",
      "Loss after epoch 17: 1213638.0\n",
      "Loss after epoch 18: 1205520.0\n",
      "Loss after epoch 19: 1194448.0\n",
      "Loss after epoch 20: 1184344.0\n",
      "Loss after epoch 21: 1177638.0\n",
      "Loss after epoch 22: 1170482.0\n",
      "Loss after epoch 23: 1166128.0\n",
      "Loss after epoch 24: 1152328.0\n",
      "Loss after epoch 25: 1126688.0\n",
      "Loss after epoch 26: 1114760.0\n",
      "Loss after epoch 27: 1116904.0\n",
      "Loss after epoch 28: 1109456.0\n",
      "Loss after epoch 29: 1101404.0\n"
     ]
    },
    {
     "data": {
      "text/plain": [
       "(6179997, 8833650)"
      ]
     },
     "execution_count": 16,
     "metadata": {},
     "output_type": "execute_result"
    }
   ],
   "source": [
    "# Iniciamos el proceso de entrenamiento del modelo Word2Vec.\n",
    "w2v_model.train(sentence_tokens,\n",
    "                total_examples=w2v_model.corpus_count,  # Total de ejemplos en el corpus. Necesario para la normalización durante el entrenamiento.\n",
    "                epochs=30,  # Número de iteraciones sobre el corpus.\n",
    "                compute_loss=True,  # Habilita el cálculo de la pérdida para monitorizar el entrenamiento.\n",
    "                callbacks=[callback()])"
   ]
  },
  {
   "cell_type": "markdown",
   "metadata": {},
   "source": [
    "#### Exploración de palabras en el modelo Word2Vec\n",
    "\n",
    "Después de entrenar el modelo Word2Vec, exploramos las palabras en el vocabulario para entender mejor qué ha aprendido el modelo. Para ello, accedemos a una porción del vocabulario generado."
   ]
  },
  {
   "cell_type": "code",
   "execution_count": 17,
   "metadata": {},
   "outputs": [
    {
     "data": {
      "text/plain": [
       "['dany',\n",
       " 'sansa',\n",
       " 'then',\n",
       " 'stark',\n",
       " 'yet',\n",
       " 'robb',\n",
       " 'head',\n",
       " 'too',\n",
       " 'away',\n",
       " 'made',\n",
       " 'where',\n",
       " 'through',\n",
       " 'how',\n",
       " 'lady',\n",
       " 'robert',\n",
       " 'took',\n",
       " 'come',\n",
       " 'thought',\n",
       " 'sword',\n",
       " 'must']"
      ]
     },
     "execution_count": 17,
     "metadata": {},
     "output_type": "execute_result"
    }
   ],
   "source": [
    "w2v_model.wv.index_to_key[100:120]"
   ]
  },
  {
   "cell_type": "code",
   "execution_count": 18,
   "metadata": {},
   "outputs": [
    {
     "data": {
      "text/plain": [
       "[('wineseller', 0.439257949590683),\n",
       " ('quaro', 0.4381934106349945),\n",
       " ('handmaids', 0.435403972864151),\n",
       " ('jofftey', 0.42572417855262756),\n",
       " ('khal', 0.4187433123588562),\n",
       " ('handmaid', 0.41629308462142944),\n",
       " ('godswife', 0.4160195589065552),\n",
       " ('jhiqui', 0.40454643964767456),\n",
       " ('tub', 0.4027537405490875),\n",
       " ('prepare', 0.3972418010234833)]"
      ]
     },
     "execution_count": 18,
     "metadata": {},
     "output_type": "execute_result"
    }
   ],
   "source": [
    "# Palabras que más se relacionan con:\n",
    "w2v_model.wv.most_similar(positive=[\"dany\"], topn=10)"
   ]
  },
  {
   "cell_type": "code",
   "execution_count": 19,
   "metadata": {},
   "outputs": [
    {
     "data": {
      "text/plain": [
       "[('us', 0.024945395067334175),\n",
       " ('snapped', 0.019882919266819954),\n",
       " (\"stark's\", 0.017159320414066315),\n",
       " ('suggested', 0.012739467434585094),\n",
       " ('work', 0.011307128705084324),\n",
       " ('emerged', 0.009880989789962769),\n",
       " ('cailin', 0.00937410444021225),\n",
       " ('direwolf', 0.007737979292869568),\n",
       " ('battle', 0.004167765378952026),\n",
       " ('late', 0.0003212377487216145)]"
      ]
     },
     "execution_count": 19,
     "metadata": {},
     "output_type": "execute_result"
    }
   ],
   "source": [
    "# Palabras que menos se relacionan con:\n",
    "w2v_model.wv.most_similar(negative=[\"dany\"], topn=10)"
   ]
  },
  {
   "cell_type": "code",
   "execution_count": 20,
   "metadata": {},
   "outputs": [
    {
     "data": {
      "text/plain": [
       "[('dany', 0.9999999403953552),\n",
       " ('wineseller', 0.439257949590683),\n",
       " ('quaro', 0.4381934106349945),\n",
       " ('handmaids', 0.435403972864151),\n",
       " ('jofftey', 0.4257241487503052),\n",
       " ('khal', 0.4187433123588562),\n",
       " ('handmaid', 0.41629308462142944),\n",
       " ('godswife', 0.4160195589065552),\n",
       " ('jhiqui', 0.40454643964767456),\n",
       " ('tub', 0.4027537405490875)]"
      ]
     },
     "execution_count": 20,
     "metadata": {},
     "output_type": "execute_result"
    }
   ],
   "source": [
    "# También se puede comparar a partir de vectores\n",
    "vector_dany = w2v_model.wv.get_vector(\"dany\")\n",
    "w2v_model.wv.most_similar(vector_dany)"
   ]
  },
  {
   "cell_type": "code",
   "execution_count": 21,
   "metadata": {},
   "outputs": [
    {
     "data": {
      "text/plain": [
       "[('jeyne', 0.3923870623111725),\n",
       " ('arya', 0.373152494430542),\n",
       " ('shave', 0.3679894506931305),\n",
       " ('blinking', 0.3674989938735962),\n",
       " ('chewing', 0.36326882243156433),\n",
       " ('whimpered', 0.3568113446235657),\n",
       " ('torrhen', 0.3554721772670746),\n",
       " ('mordane', 0.3525380790233612),\n",
       " (\"sansa's\", 0.3509036600589752),\n",
       " ('miserably', 0.35044562816619873)]"
      ]
     },
     "execution_count": 21,
     "metadata": {},
     "output_type": "execute_result"
    }
   ],
   "source": [
    "# Palabras que más se relacionan con:\n",
    "w2v_model.wv.most_similar(positive=[\"sansa\"], topn=10)"
   ]
  },
  {
   "cell_type": "code",
   "execution_count": 22,
   "metadata": {},
   "outputs": [
    {
     "data": {
      "text/plain": [
       "[('earth', 0.02474198490381241),\n",
       " ('remain', 0.012754547409713268),\n",
       " ('hundred', 0.008418884128332138),\n",
       " ('cell', 0.008270381018519402),\n",
       " ('battle', 0.007254032883793116),\n",
       " ('urged', 0.0029458212666213512),\n",
       " ('led', 0.0016865921206772327),\n",
       " ('spread', -0.0003114058345090598),\n",
       " ('spotted', -0.0021455748938024044),\n",
       " ('remained', -0.012433255091309547)]"
      ]
     },
     "execution_count": 22,
     "metadata": {},
     "output_type": "execute_result"
    }
   ],
   "source": [
    "# Palabras que menos se relacionan con:\n",
    "w2v_model.wv.most_similar(negative=[\"sansa\"], topn=10)"
   ]
  },
  {
   "cell_type": "code",
   "execution_count": 23,
   "metadata": {},
   "outputs": [
    {
     "data": {
      "text/plain": [
       "[(\"stark's\", 0.4894516170024872),\n",
       " ('torrhen', 0.47287994623184204),\n",
       " ('heddle', 0.44448786973953247),\n",
       " ('hornwood', 0.43862977623939514),\n",
       " ('curtly', 0.43700432777404785),\n",
       " ('ben', 0.43016159534454346),\n",
       " ('aback', 0.4258851110935211),\n",
       " ('softened', 0.41506001353263855),\n",
       " ('trap', 0.40627992153167725),\n",
       " ('returning', 0.4034901261329651)]"
      ]
     },
     "execution_count": 23,
     "metadata": {},
     "output_type": "execute_result"
    }
   ],
   "source": [
    "# Palabras que más se relacionan con:\n",
    "w2v_model.wv.most_similar(positive=[\"stark\"], topn=10)"
   ]
  },
  {
   "cell_type": "code",
   "execution_count": 24,
   "metadata": {},
   "outputs": [
    {
     "data": {
      "text/plain": [
       "[('earth', 0.045335568487644196),\n",
       " ('hit', 0.001996562583371997),\n",
       " ('breaking', -0.0010511691216379404),\n",
       " ('stairs', -0.008528701029717922),\n",
       " ('twice', -0.009982125833630562),\n",
       " ('full', -0.010696690529584885),\n",
       " ('picked', -0.012565676122903824),\n",
       " ('giving', -0.01741938665509224),\n",
       " ('hung', -0.021143773570656776),\n",
       " ('holdfasts', -0.021656589582562447)]"
      ]
     },
     "execution_count": 24,
     "metadata": {},
     "output_type": "execute_result"
    }
   ],
   "source": [
    "# Palabras que menos se relacionan con:\n",
    "w2v_model.wv.most_similar(negative=[\"stark\"], topn=10)"
   ]
  },
  {
   "cell_type": "code",
   "execution_count": 25,
   "metadata": {},
   "outputs": [
    {
     "data": {
      "text/plain": [
       "[('benjen', 0.3977386951446533),\n",
       " ('rickard', 0.39359307289123535),\n",
       " ('miserably', 0.3825131058692932),\n",
       " ('calmly', 0.36828771233558655),\n",
       " ('torrhen', 0.3674190938472748),\n",
       " ('donnel', 0.3663072884082794),\n",
       " ('mollen', 0.3585416376590729),\n",
       " ('companion', 0.3569706082344055),\n",
       " ('reluctantly', 0.3553478419780731),\n",
       " ('stiffly', 0.355343759059906)]"
      ]
     },
     "execution_count": 25,
     "metadata": {},
     "output_type": "execute_result"
    }
   ],
   "source": [
    "# Palabras que más se relacionan con:\n",
    "w2v_model.wv.most_similar(positive=[\"robb\"], topn=10)"
   ]
  },
  {
   "cell_type": "code",
   "execution_count": 26,
   "metadata": {},
   "outputs": [
    {
     "data": {
      "text/plain": [
       "[('filled', 0.07400534301996231),\n",
       " ('gave', 0.033249977976083755),\n",
       " ('within', 0.03164006397128105),\n",
       " ('living', 0.015249951742589474),\n",
       " ('making', 0.013465018011629581),\n",
       " ('hair', 0.008328494615852833),\n",
       " ('line', -0.0005776479956693947),\n",
       " ('inside', -0.0033927022013813257),\n",
       " ('agony', -0.006056083366274834),\n",
       " ('brazier', -0.006268160883337259)]"
      ]
     },
     "execution_count": 26,
     "metadata": {},
     "output_type": "execute_result"
    }
   ],
   "source": [
    "# Palabras que menos se relacionan con:\n",
    "w2v_model.wv.most_similar(negative=[\"robb\"], topn=10)"
   ]
  },
  {
   "cell_type": "markdown",
   "metadata": {},
   "source": [
    "#### Reducción de dimensionalidad\n",
    "\n",
    "Para visualizar cómo se distribuyen y se relacionan las palabras en el espacio vectorial de alta dimensión generado por el modelo Word2Vec, necesitamos reducir la dimensionalidad de estos vectores a un espacio más manejable, típicamente 2D o 3D."
   ]
  },
  {
   "cell_type": "code",
   "execution_count": 27,
   "metadata": {},
   "outputs": [],
   "source": [
    "def reduce_dimensions(model, num_dimensions = 2 ):\n",
    "    \"\"\"\n",
    "    Esta función reduce las dimensiones de los vectores de palabras del modelo Word2Vec \n",
    "    a un número especificado de dimensiones (por defecto, 2) utilizando t-SNE.\n",
    "    \n",
    "    :param model: Modelo Word2Vec del cual obtener los vectores de palabras.\n",
    "    :param num_dimensions: Número de dimensiones a las que se reducirán los vectores (por defecto, 2).\n",
    "    :return: Tupla de (vectors, labels), donde 'vectors' son los vectores de palabras reducidos y 'labels' son las etiquetas (palabras) correspondientes.\n",
    "    \"\"\"\n",
    "    \n",
    "    # Conversión de los vectores de palabras del modelo a un array de NumPy\n",
    "    vectors = np.asarray(model.wv.vectors)\n",
    "    # Extracción de las etiquetas (palabras) del modelo\n",
    "    labels = np.asarray(model.wv.index_to_key)  \n",
    "\n",
    "    # Creación de un objeto t-SNE y configuración de los componentes (dimensiones) objetivo\n",
    "    tsne = TSNE(n_components=num_dimensions, random_state=0)\n",
    "    # Aplicación de t-SNE a los vectores para reducir su dimensionalidad\n",
    "    vectors = tsne.fit_transform(vectors)\n",
    "\n",
    "    return vectors, labels"
   ]
  },
  {
   "cell_type": "markdown",
   "metadata": {},
   "source": [
    "#### Visualización en 2D\n",
    "\n",
    "Una vez que hemos reducido la dimensionalidad de los vectores de palabras de nuestro modelo Word2Vec, el siguiente paso es visualizar estos vectores en un espacio bidimensional para una mejor interpretación y análisis."
   ]
  },
  {
   "cell_type": "code",
   "execution_count": 28,
   "metadata": {},
   "outputs": [
    {
     "data": {
      "application/vnd.plotly.v1+json": {
       "config": {
        "plotlyServerURL": "https://plot.ly"
       },
       "data": [
        {
         "hovertemplate": "x=%{x}<br>y=%{y}<br>text=%{text}<extra></extra>",
         "legendgroup": "",
         "marker": {
          "color": "#636efa",
          "symbol": "circle"
         },
         "mode": "markers+text",
         "name": "",
         "orientation": "v",
         "showlegend": false,
         "text": [
          "the",
          "and",
          "to",
          "a",
          "of",
          "he",
          "his",
          "was",
          "her",
          "you",
          "in",
          "it",
          "had",
          "i",
          "she",
          "as",
          "him",
          "with",
          "that",
          "said",
          "not",
          "for",
          "at",
          "on",
          "but",
          "they",
          "is",
          "my",
          "lord",
          "no",
          "from",
          "them",
          "have",
          "would",
          "were",
          "be",
          "all",
          "your",
          "when",
          "ser",
          "me",
          "if",
          "will",
          "so",
          "could",
          "one",
          "jon",
          "what",
          "their",
          "ned",
          "up",
          "out",
          "there",
          "man",
          "are",
          "this",
          "back",
          "been",
          "do",
          "did",
          "down",
          "like",
          "men",
          "by",
          "we",
          "tyrion",
          "page",
          "hand",
          "eyes",
          "than",
          "now",
          "only",
          "or",
          "king",
          "father",
          "told",
          "see",
          "bran",
          "catelyn",
          "more",
          "who",
          "off",
          "here",
          "even",
          "arya",
          "an",
          "face",
          "over",
          "into",
          "know",
          "old",
          "boy",
          "black",
          "before",
          "looked",
          "never",
          "well",
          "long",
          "time",
          "brother",
          "dany",
          "sansa",
          "then",
          "stark",
          "yet",
          "robb",
          "head",
          "too",
          "away",
          "made",
          "where",
          "through",
          "how",
          "lady",
          "robert",
          "took",
          "come",
          "thought",
          "sword",
          "must",
          "maester",
          "came",
          "lannister",
          "around",
          "still",
          "blood",
          "saw",
          "look",
          "has",
          "way",
          "us",
          "voice",
          "some",
          "take",
          "first",
          "can",
          "go",
          "say",
          "again",
          "behind",
          "two",
          "asked",
          "red",
          "left",
          "other",
          "son",
          "dead",
          "himself",
          "tell",
          "its",
          "want",
          "might",
          "night",
          "about",
          "make",
          "across",
          "after",
          "good",
          "knew",
          "heard",
          "went",
          "horse",
          "gods",
          "day",
          "last",
          "once",
          "great",
          "gave",
          "let",
          "own",
          "little",
          "why",
          "keep",
          "king's",
          "wall",
          "hair",
          "hard",
          "winterfell",
          "should",
          "high",
          "seemed",
          "white",
          "turned",
          "enough",
          "am",
          "years",
          "hands",
          "beside",
          "feet",
          "don't",
          "three",
          "stone",
          "found",
          "called",
          "our",
          "until",
          "against",
          "khal",
          "fingers",
          "think"
         ],
         "type": "scatter",
         "x": [
          -15.53451156616211,
          -22.90654754638672,
          -10.66516399383545,
          -13.681512832641602,
          -17.779865264892578,
          -6.52822732925415,
          0.05611559748649597,
          -21.414775848388672,
          -0.23985621333122253,
          -11.601516723632812,
          6.132884502410889,
          -6.341421127319336,
          1.3143855333328247,
          -12.15843677520752,
          -3.9236629009246826,
          -7.0387163162231445,
          -3.9263646602630615,
          -7.021641731262207,
          -18.576406478881836,
          -16.225357055664062,
          -5.270252227783203,
          -6.7210774421691895,
          -7.403621673583984,
          3.502849817276001,
          -4.271096229553223,
          5.181521415710449,
          0.2982536256313324,
          -12.299729347229004,
          -18.04380226135254,
          -2.7845704555511475,
          6.276098728179932,
          1.8460432291030884,
          -7.2924628257751465,
          -10.20070743560791,
          21.26341438293457,
          -9.150260925292969,
          2.443798780441284,
          -12.732032775878906,
          -6.806134223937988,
          -21.98452377319336,
          -15.312230110168457,
          -3.5114452838897705,
          -9.823454856872559,
          3.8008110523223877,
          0.8494217991828918,
          -7.389493942260742,
          -3.333739995956421,
          -4.794924259185791,
          19.384191513061523,
          -12.341575622558594,
          4.07208251953125,
          1.864933967590332,
          2.8479092121124268,
          -3.1752920150756836,
          -2.306964635848999,
          -3.5407559871673584,
          -4.117283344268799,
          4.93379545211792,
          -9.757842063903809,
          -6.397096633911133,
          10.311075210571289,
          6.888599395751953,
          9.140349388122559,
          4.054286956787109,
          -2.120056629180908,
          -7.319958209991455,
          -4.654047012329102,
          1.3316768407821655,
          1.2104285955429077,
          8.401803970336914,
          3.1806321144104004,
          -1.286415457725525,
          -2.9703876972198486,
          -5.631351947784424,
          -17.838293075561523,
          -14.453291893005371,
          -4.6305718421936035,
          -2.1374082565307617,
          -12.479899406433105,
          7.920314788818359,
          -14.998773574829102,
          -2.4626617431640625,
          -2.9846510887145996,
          1.3620789051055908,
          -5.586124897003174,
          0.645006000995636,
          3.994170904159546,
          6.3153510093688965,
          -2.1652238368988037,
          -7.898672580718994,
          -8.99349594116211,
          -5.220020771026611,
          15.21251106262207,
          4.0683746337890625,
          -8.839851379394531,
          0.46014389395713806,
          -5.656894683837891,
          0.5363144874572754,
          1.186712622642517,
          -11.067312240600586,
          -5.907159328460693,
          -6.607725143432617,
          -8.916821479797363,
          -17.57198715209961,
          6.149886131286621,
          -9.60071086883545,
          6.538330078125,
          -2.99904727935791,
          -2.139880895614624,
          -0.9023292064666748,
          1.6187037229537964,
          11.277109146118164,
          -19.423521041870117,
          -19.902067184448242,
          -11.117940902709961,
          -10.506149291992188,
          -10.039322853088379,
          -0.23015627264976501,
          -8.693567276000977,
          -5.7242865562438965,
          -12.495590209960938,
          -6.988467693328857,
          -10.732699394226074,
          -5.708546161651611,
          6.338052749633789,
          8.608190536499023,
          -4.514224529266357,
          -10.345836639404297,
          -3.467092514038086,
          0.7806651592254639,
          -13.042916297912598,
          -1.393133521080017,
          -1.1168789863586426,
          -10.777661323547363,
          0.4635978043079376,
          -9.749935150146484,
          -10.82115364074707,
          -4.741246223449707,
          -5.8349809646606445,
          10.657000541687012,
          7.182415008544922,
          -14.67102336883545,
          12.477385520935059,
          0.3215675354003906,
          8.360610961914062,
          -15.892951011657715,
          4.884037971496582,
          -3.5405962467193604,
          -9.010612487792969,
          14.432490348815918,
          -9.252659797668457,
          -1.6917991638183594,
          4.453882217407227,
          -0.8146159052848816,
          -7.808714389801025,
          4.318575859069824,
          -8.111279487609863,
          -2.6699891090393066,
          -3.5507946014404297,
          19.301525115966797,
          3.3787105083465576,
          1.3977038860321045,
          -0.29818299412727356,
          6.117002010345459,
          0.5175168514251709,
          -7.441401958465576,
          15.186712265014648,
          -13.890118598937988,
          -15.39708137512207,
          -12.609665870666504,
          0.19582921266555786,
          -8.595303535461426,
          -14.895040512084961,
          -2.8901238441467285,
          5.238907814025879,
          12.00096607208252,
          3.898911476135254,
          3.021467447280884,
          -9.081741333007812,
          8.189663887023926,
          3.3383309841156006,
          13.390636444091797,
          -4.694626808166504,
          2.2376322746276855,
          -17.461938858032227,
          9.137791633605957,
          4.472126483917236,
          -5.062023639678955,
          7.050747394561768,
          -9.679433822631836,
          7.7494120597839355,
          15.09196949005127,
          -3.2262582778930664,
          -7.071584701538086,
          -3.357046604156494,
          1.2439193725585938,
          1.1001774072647095,
          -4.935745716094971,
          5.189804553985596,
          -6.989133834838867
         ],
         "xaxis": "x",
         "y": [
          -16.571014404296875,
          11.396902084350586,
          22.697269439697266,
          -9.808774948120117,
          -15.62985897064209,
          3.0821518898010254,
          -17.250965118408203,
          10.829875946044922,
          -17.81179428100586,
          21.45421600341797,
          1.9563626050949097,
          26.093547821044922,
          21.58865737915039,
          22.115190505981445,
          0.48941895365715027,
          -2.1977648735046387,
          -12.084935188293457,
          -3.1073670387268066,
          18.43775749206543,
          -1.4691615104675293,
          15.983165740966797,
          13.146309852600098,
          -8.085432052612305,
          -17.015724182128906,
          5.8133392333984375,
          8.465049743652344,
          11.56843376159668,
          9.963011741638184,
          4.347822666168213,
          20.104373931884766,
          -4.720303058624268,
          7.605540752410889,
          17.834985733032227,
          21.062152862548828,
          0.1366317868232727,
          11.823641777038574,
          1.1932649612426758,
          11.028399467468262,
          3.2472243309020996,
          -0.852303147315979,
          15.158672332763672,
          15.004003524780273,
          20.584274291992188,
          22.99665641784668,
          24.599821090698242,
          -3.12918758392334,
          -5.002211093902588,
          15.468842506408691,
          0.2999843657016754,
          3.5364580154418945,
          -10.566513061523438,
          -5.830348968505859,
          3.746328830718994,
          5.82147216796875,
          14.352287292480469,
          11.253483772277832,
          -8.995655059814453,
          15.258070945739746,
          14.700685501098633,
          13.550131797790527,
          -4.700243949890137,
          0.49176040291786194,
          7.904107570648193,
          2.2198376655578613,
          9.00034236907959,
          0.7622625827789307,
          6.075084686279297,
          -16.083106994628906,
          -14.042108535766602,
          16.634592056274414,
          14.26895523071289,
          11.415169715881348,
          21.047182083129883,
          7.709582328796387,
          7.573292255401611,
          2.716677188873291,
          19.706239700317383,
          -2.365377426147461,
          4.463588714599609,
          14.133495330810547,
          5.027149677276611,
          -14.835245132446289,
          11.800163269042969,
          11.976958274841309,
          -7.048655986785889,
          2.8344461917877197,
          -14.8289213180542,
          -13.281092643737793,
          -10.37074089050293,
          14.916412353515625,
          5.5507988929748535,
          1.2509645223617554,
          -15.342147827148438,
          6.2191667556762695,
          -15.089738845825195,
          20.625579833984375,
          24.73951530456543,
          -1.9187109470367432,
          4.89065408706665,
          7.780675411224365,
          -4.979116439819336,
          -7.447701930999756,
          -4.315506458282471,
          4.415561199188232,
          21.44127655029297,
          -2.4829788208007812,
          -16.779335021972656,
          14.352983474731445,
          -12.680354118347168,
          5.825558185577393,
          22.234535217285156,
          -6.071976661682129,
          14.778646469116211,
          1.2761845588684082,
          3.650613784790039,
          -17.71190643310547,
          16.243825912475586,
          16.760786056518555,
          -8.361211776733398,
          19.09200668334961,
          -17.225749969482422,
          -17.62350845336914,
          1.6860710382461548,
          -9.331125259399414,
          -2.6995785236358643,
          -18.53390884399414,
          0.9880948662757874,
          -8.825319290161133,
          24.948471069335938,
          -2.982736349105835,
          18.27074432373047,
          -8.003924369812012,
          9.292484283447266,
          16.274045944213867,
          -1.0731818675994873,
          19.069902420043945,
          18.574260711669922,
          13.840609550476074,
          1.6478384733200073,
          1.3792859315872192,
          7.247115135192871,
          2.3214664459228516,
          -7.459178924560547,
          -6.226093292236328,
          4.847163200378418,
          9.982190132141113,
          -4.821496486663818,
          -12.747419357299805,
          15.926371574401855,
          -4.194041728973389,
          17.049114227294922,
          19.060354232788086,
          -1.3693487644195557,
          4.430273056030273,
          18.688465118408203,
          -9.653549194335938,
          2.0603106021881104,
          13.125370979309082,
          16.531997680664062,
          7.428073883056641,
          -9.716743469238281,
          -24.749160766601562,
          8.771438598632812,
          15.843647003173828,
          4.03966760635376,
          3.011357307434082,
          -1.1426396369934082,
          3.5343332290649414,
          14.34862995147705,
          7.971108913421631,
          4.3990607261657715,
          12.62392807006836,
          16.214588165283203,
          2.4230198860168457,
          -4.89935302734375,
          -20.7886905670166,
          -4.636214733123779,
          12.216347694396973,
          19.398958206176758,
          -4.56689453125,
          18.732789993286133,
          -18.91746711730957,
          -15.291685104370117,
          18.955045700073242,
          12.608684539794922,
          9.39632797241211,
          -17.6463623046875,
          -8.41950798034668,
          -4.212793350219727,
          20.94915008544922,
          7.452512741088867,
          -6.810948371887207,
          -2.191340208053589,
          1.979885458946228,
          12.31362247467041,
          2.9508588314056396,
          -14.894983291625977,
          2.703199863433838,
          -17.908031463623047,
          15.684106826782227
         ],
         "yaxis": "y"
        }
       ],
       "layout": {
        "legend": {
         "tracegroupgap": 0
        },
        "margin": {
         "t": 60
        },
        "template": {
         "data": {
          "bar": [
           {
            "error_x": {
             "color": "#2a3f5f"
            },
            "error_y": {
             "color": "#2a3f5f"
            },
            "marker": {
             "line": {
              "color": "#E5ECF6",
              "width": 0.5
             },
             "pattern": {
              "fillmode": "overlay",
              "size": 10,
              "solidity": 0.2
             }
            },
            "type": "bar"
           }
          ],
          "barpolar": [
           {
            "marker": {
             "line": {
              "color": "#E5ECF6",
              "width": 0.5
             },
             "pattern": {
              "fillmode": "overlay",
              "size": 10,
              "solidity": 0.2
             }
            },
            "type": "barpolar"
           }
          ],
          "carpet": [
           {
            "aaxis": {
             "endlinecolor": "#2a3f5f",
             "gridcolor": "white",
             "linecolor": "white",
             "minorgridcolor": "white",
             "startlinecolor": "#2a3f5f"
            },
            "baxis": {
             "endlinecolor": "#2a3f5f",
             "gridcolor": "white",
             "linecolor": "white",
             "minorgridcolor": "white",
             "startlinecolor": "#2a3f5f"
            },
            "type": "carpet"
           }
          ],
          "choropleth": [
           {
            "colorbar": {
             "outlinewidth": 0,
             "ticks": ""
            },
            "type": "choropleth"
           }
          ],
          "contour": [
           {
            "colorbar": {
             "outlinewidth": 0,
             "ticks": ""
            },
            "colorscale": [
             [
              0,
              "#0d0887"
             ],
             [
              0.1111111111111111,
              "#46039f"
             ],
             [
              0.2222222222222222,
              "#7201a8"
             ],
             [
              0.3333333333333333,
              "#9c179e"
             ],
             [
              0.4444444444444444,
              "#bd3786"
             ],
             [
              0.5555555555555556,
              "#d8576b"
             ],
             [
              0.6666666666666666,
              "#ed7953"
             ],
             [
              0.7777777777777778,
              "#fb9f3a"
             ],
             [
              0.8888888888888888,
              "#fdca26"
             ],
             [
              1,
              "#f0f921"
             ]
            ],
            "type": "contour"
           }
          ],
          "contourcarpet": [
           {
            "colorbar": {
             "outlinewidth": 0,
             "ticks": ""
            },
            "type": "contourcarpet"
           }
          ],
          "heatmap": [
           {
            "colorbar": {
             "outlinewidth": 0,
             "ticks": ""
            },
            "colorscale": [
             [
              0,
              "#0d0887"
             ],
             [
              0.1111111111111111,
              "#46039f"
             ],
             [
              0.2222222222222222,
              "#7201a8"
             ],
             [
              0.3333333333333333,
              "#9c179e"
             ],
             [
              0.4444444444444444,
              "#bd3786"
             ],
             [
              0.5555555555555556,
              "#d8576b"
             ],
             [
              0.6666666666666666,
              "#ed7953"
             ],
             [
              0.7777777777777778,
              "#fb9f3a"
             ],
             [
              0.8888888888888888,
              "#fdca26"
             ],
             [
              1,
              "#f0f921"
             ]
            ],
            "type": "heatmap"
           }
          ],
          "heatmapgl": [
           {
            "colorbar": {
             "outlinewidth": 0,
             "ticks": ""
            },
            "colorscale": [
             [
              0,
              "#0d0887"
             ],
             [
              0.1111111111111111,
              "#46039f"
             ],
             [
              0.2222222222222222,
              "#7201a8"
             ],
             [
              0.3333333333333333,
              "#9c179e"
             ],
             [
              0.4444444444444444,
              "#bd3786"
             ],
             [
              0.5555555555555556,
              "#d8576b"
             ],
             [
              0.6666666666666666,
              "#ed7953"
             ],
             [
              0.7777777777777778,
              "#fb9f3a"
             ],
             [
              0.8888888888888888,
              "#fdca26"
             ],
             [
              1,
              "#f0f921"
             ]
            ],
            "type": "heatmapgl"
           }
          ],
          "histogram": [
           {
            "marker": {
             "pattern": {
              "fillmode": "overlay",
              "size": 10,
              "solidity": 0.2
             }
            },
            "type": "histogram"
           }
          ],
          "histogram2d": [
           {
            "colorbar": {
             "outlinewidth": 0,
             "ticks": ""
            },
            "colorscale": [
             [
              0,
              "#0d0887"
             ],
             [
              0.1111111111111111,
              "#46039f"
             ],
             [
              0.2222222222222222,
              "#7201a8"
             ],
             [
              0.3333333333333333,
              "#9c179e"
             ],
             [
              0.4444444444444444,
              "#bd3786"
             ],
             [
              0.5555555555555556,
              "#d8576b"
             ],
             [
              0.6666666666666666,
              "#ed7953"
             ],
             [
              0.7777777777777778,
              "#fb9f3a"
             ],
             [
              0.8888888888888888,
              "#fdca26"
             ],
             [
              1,
              "#f0f921"
             ]
            ],
            "type": "histogram2d"
           }
          ],
          "histogram2dcontour": [
           {
            "colorbar": {
             "outlinewidth": 0,
             "ticks": ""
            },
            "colorscale": [
             [
              0,
              "#0d0887"
             ],
             [
              0.1111111111111111,
              "#46039f"
             ],
             [
              0.2222222222222222,
              "#7201a8"
             ],
             [
              0.3333333333333333,
              "#9c179e"
             ],
             [
              0.4444444444444444,
              "#bd3786"
             ],
             [
              0.5555555555555556,
              "#d8576b"
             ],
             [
              0.6666666666666666,
              "#ed7953"
             ],
             [
              0.7777777777777778,
              "#fb9f3a"
             ],
             [
              0.8888888888888888,
              "#fdca26"
             ],
             [
              1,
              "#f0f921"
             ]
            ],
            "type": "histogram2dcontour"
           }
          ],
          "mesh3d": [
           {
            "colorbar": {
             "outlinewidth": 0,
             "ticks": ""
            },
            "type": "mesh3d"
           }
          ],
          "parcoords": [
           {
            "line": {
             "colorbar": {
              "outlinewidth": 0,
              "ticks": ""
             }
            },
            "type": "parcoords"
           }
          ],
          "pie": [
           {
            "automargin": true,
            "type": "pie"
           }
          ],
          "scatter": [
           {
            "fillpattern": {
             "fillmode": "overlay",
             "size": 10,
             "solidity": 0.2
            },
            "type": "scatter"
           }
          ],
          "scatter3d": [
           {
            "line": {
             "colorbar": {
              "outlinewidth": 0,
              "ticks": ""
             }
            },
            "marker": {
             "colorbar": {
              "outlinewidth": 0,
              "ticks": ""
             }
            },
            "type": "scatter3d"
           }
          ],
          "scattercarpet": [
           {
            "marker": {
             "colorbar": {
              "outlinewidth": 0,
              "ticks": ""
             }
            },
            "type": "scattercarpet"
           }
          ],
          "scattergeo": [
           {
            "marker": {
             "colorbar": {
              "outlinewidth": 0,
              "ticks": ""
             }
            },
            "type": "scattergeo"
           }
          ],
          "scattergl": [
           {
            "marker": {
             "colorbar": {
              "outlinewidth": 0,
              "ticks": ""
             }
            },
            "type": "scattergl"
           }
          ],
          "scattermapbox": [
           {
            "marker": {
             "colorbar": {
              "outlinewidth": 0,
              "ticks": ""
             }
            },
            "type": "scattermapbox"
           }
          ],
          "scatterpolar": [
           {
            "marker": {
             "colorbar": {
              "outlinewidth": 0,
              "ticks": ""
             }
            },
            "type": "scatterpolar"
           }
          ],
          "scatterpolargl": [
           {
            "marker": {
             "colorbar": {
              "outlinewidth": 0,
              "ticks": ""
             }
            },
            "type": "scatterpolargl"
           }
          ],
          "scatterternary": [
           {
            "marker": {
             "colorbar": {
              "outlinewidth": 0,
              "ticks": ""
             }
            },
            "type": "scatterternary"
           }
          ],
          "surface": [
           {
            "colorbar": {
             "outlinewidth": 0,
             "ticks": ""
            },
            "colorscale": [
             [
              0,
              "#0d0887"
             ],
             [
              0.1111111111111111,
              "#46039f"
             ],
             [
              0.2222222222222222,
              "#7201a8"
             ],
             [
              0.3333333333333333,
              "#9c179e"
             ],
             [
              0.4444444444444444,
              "#bd3786"
             ],
             [
              0.5555555555555556,
              "#d8576b"
             ],
             [
              0.6666666666666666,
              "#ed7953"
             ],
             [
              0.7777777777777778,
              "#fb9f3a"
             ],
             [
              0.8888888888888888,
              "#fdca26"
             ],
             [
              1,
              "#f0f921"
             ]
            ],
            "type": "surface"
           }
          ],
          "table": [
           {
            "cells": {
             "fill": {
              "color": "#EBF0F8"
             },
             "line": {
              "color": "white"
             }
            },
            "header": {
             "fill": {
              "color": "#C8D4E3"
             },
             "line": {
              "color": "white"
             }
            },
            "type": "table"
           }
          ]
         },
         "layout": {
          "annotationdefaults": {
           "arrowcolor": "#2a3f5f",
           "arrowhead": 0,
           "arrowwidth": 1
          },
          "autotypenumbers": "strict",
          "coloraxis": {
           "colorbar": {
            "outlinewidth": 0,
            "ticks": ""
           }
          },
          "colorscale": {
           "diverging": [
            [
             0,
             "#8e0152"
            ],
            [
             0.1,
             "#c51b7d"
            ],
            [
             0.2,
             "#de77ae"
            ],
            [
             0.3,
             "#f1b6da"
            ],
            [
             0.4,
             "#fde0ef"
            ],
            [
             0.5,
             "#f7f7f7"
            ],
            [
             0.6,
             "#e6f5d0"
            ],
            [
             0.7,
             "#b8e186"
            ],
            [
             0.8,
             "#7fbc41"
            ],
            [
             0.9,
             "#4d9221"
            ],
            [
             1,
             "#276419"
            ]
           ],
           "sequential": [
            [
             0,
             "#0d0887"
            ],
            [
             0.1111111111111111,
             "#46039f"
            ],
            [
             0.2222222222222222,
             "#7201a8"
            ],
            [
             0.3333333333333333,
             "#9c179e"
            ],
            [
             0.4444444444444444,
             "#bd3786"
            ],
            [
             0.5555555555555556,
             "#d8576b"
            ],
            [
             0.6666666666666666,
             "#ed7953"
            ],
            [
             0.7777777777777778,
             "#fb9f3a"
            ],
            [
             0.8888888888888888,
             "#fdca26"
            ],
            [
             1,
             "#f0f921"
            ]
           ],
           "sequentialminus": [
            [
             0,
             "#0d0887"
            ],
            [
             0.1111111111111111,
             "#46039f"
            ],
            [
             0.2222222222222222,
             "#7201a8"
            ],
            [
             0.3333333333333333,
             "#9c179e"
            ],
            [
             0.4444444444444444,
             "#bd3786"
            ],
            [
             0.5555555555555556,
             "#d8576b"
            ],
            [
             0.6666666666666666,
             "#ed7953"
            ],
            [
             0.7777777777777778,
             "#fb9f3a"
            ],
            [
             0.8888888888888888,
             "#fdca26"
            ],
            [
             1,
             "#f0f921"
            ]
           ]
          },
          "colorway": [
           "#636efa",
           "#EF553B",
           "#00cc96",
           "#ab63fa",
           "#FFA15A",
           "#19d3f3",
           "#FF6692",
           "#B6E880",
           "#FF97FF",
           "#FECB52"
          ],
          "font": {
           "color": "#2a3f5f"
          },
          "geo": {
           "bgcolor": "white",
           "lakecolor": "white",
           "landcolor": "#E5ECF6",
           "showlakes": true,
           "showland": true,
           "subunitcolor": "white"
          },
          "hoverlabel": {
           "align": "left"
          },
          "hovermode": "closest",
          "mapbox": {
           "style": "light"
          },
          "paper_bgcolor": "white",
          "plot_bgcolor": "#E5ECF6",
          "polar": {
           "angularaxis": {
            "gridcolor": "white",
            "linecolor": "white",
            "ticks": ""
           },
           "bgcolor": "#E5ECF6",
           "radialaxis": {
            "gridcolor": "white",
            "linecolor": "white",
            "ticks": ""
           }
          },
          "scene": {
           "xaxis": {
            "backgroundcolor": "#E5ECF6",
            "gridcolor": "white",
            "gridwidth": 2,
            "linecolor": "white",
            "showbackground": true,
            "ticks": "",
            "zerolinecolor": "white"
           },
           "yaxis": {
            "backgroundcolor": "#E5ECF6",
            "gridcolor": "white",
            "gridwidth": 2,
            "linecolor": "white",
            "showbackground": true,
            "ticks": "",
            "zerolinecolor": "white"
           },
           "zaxis": {
            "backgroundcolor": "#E5ECF6",
            "gridcolor": "white",
            "gridwidth": 2,
            "linecolor": "white",
            "showbackground": true,
            "ticks": "",
            "zerolinecolor": "white"
           }
          },
          "shapedefaults": {
           "line": {
            "color": "#2a3f5f"
           }
          },
          "ternary": {
           "aaxis": {
            "gridcolor": "white",
            "linecolor": "white",
            "ticks": ""
           },
           "baxis": {
            "gridcolor": "white",
            "linecolor": "white",
            "ticks": ""
           },
           "bgcolor": "#E5ECF6",
           "caxis": {
            "gridcolor": "white",
            "linecolor": "white",
            "ticks": ""
           }
          },
          "title": {
           "x": 0.05
          },
          "xaxis": {
           "automargin": true,
           "gridcolor": "white",
           "linecolor": "white",
           "ticks": "",
           "title": {
            "standoff": 15
           },
           "zerolinecolor": "white",
           "zerolinewidth": 2
          },
          "yaxis": {
           "automargin": true,
           "gridcolor": "white",
           "linecolor": "white",
           "ticks": "",
           "title": {
            "standoff": 15
           },
           "zerolinecolor": "white",
           "zerolinewidth": 2
          }
         }
        },
        "xaxis": {
         "anchor": "y",
         "domain": [
          0,
          1
         ],
         "title": {
          "text": "x"
         }
        },
        "yaxis": {
         "anchor": "x",
         "domain": [
          0,
          1
         ],
         "title": {
          "text": "y"
         }
        }
       }
      }
     },
     "metadata": {},
     "output_type": "display_data"
    }
   ],
   "source": [
    "# Graficar los embedddings en 2D\n",
    "\n",
    "# Reducción de la dimensionalidad de los vectores de palabras del modelo Word2Vec\n",
    "vecs, labels = reduce_dimensions(w2v_model)\n",
    "\n",
    "# Definición del número máximo de palabras a visualizar\n",
    "MAX_WORDS=200\n",
    "\n",
    "# Creación de una gráfica de dispersión con Plotly Express\n",
    "fig = px.scatter(x=vecs[:MAX_WORDS,0], y=vecs[:MAX_WORDS,1], text=labels[:MAX_WORDS])\n",
    "fig"
   ]
  },
  {
   "cell_type": "code",
   "execution_count": 29,
   "metadata": {},
   "outputs": [],
   "source": [
    "fig.update_layout(autosize=False, width=1600, height=800) \n",
    "fig.write_image(\"./image.png\")"
   ]
  },
  {
   "cell_type": "markdown",
   "metadata": {},
   "source": [
    "!['-'](./image.png)"
   ]
  },
  {
   "cell_type": "markdown",
   "metadata": {},
   "source": [
    "A continuación se mencionan algunas observaciones sobre la visualización:\n",
    "\n",
    "* Agrupaciones de palabras: Las palabras que se agrupan cercanamente podrían usarse en contextos similares dentro del texto. Por ejemplo, \"Ned\" y \"Catelyn\", o \"Jon\", \"Arya\" y \"Sansa\" están cerca, esto puede indicar que aparecen en los mismos pasajes o se mencionan juntos.\n",
    "\n",
    "* Agrupaciones temáticas: Algunas palabras están agrupadas de manera que parece reflejar temas o conceptos, como 'king', 'lord', 'khal', que se relacionan con liderazgo y poder.\n",
    "\n",
    "* Palabras de movimiento o acción: Palabras como 'looked', 'turned', 'came' y 'took' están cercanas entre sí, lo que sugiere que estas palabras de movimiento o acción se usan en contextos similares.\n",
    "\n",
    "* Palabras descriptivas: Palabras como 'hair', 'black', 'red' y 'white' están próximas, indicando que el modelo las asocia con descripciones físicas o visuales.\n",
    "\n",
    "* Aislamiento de palabras comunes: Palabras de alto uso y baja especificidad semántica como 'the', 'and', 'in' y 'of' aparecen dispersas por el gráfico o en los bordes, lo que refleja su uso generalizado en múltiples contextos."
   ]
  },
  {
   "cell_type": "code",
   "execution_count": 30,
   "metadata": {},
   "outputs": [],
   "source": [
    "# Guardar vectores y etiquetas para visualización \n",
    "\n",
    "# Extracción de los vectores y labels del modelo Word2Vec\n",
    "vectors = np.asarray(w2v_model.wv.vectors)  # Convierte los vectores a un array de NumPy\n",
    "labels = list(w2v_model.wv.index_to_key)     # Obtiene la lista de palabras (etiquetas) del vocabulario\n",
    "\n",
    "# Guardar los vectores en un archivo .tsv\n",
    "np.savetxt(\"./vectors.tsv\", vectors, delimiter=\"\\t\")\n",
    "\n",
    "# Guardar las etiquetas en un archivo .tsv\n",
    "# Creamos un archivo TSV para las etiquetas y escribimos cada etiqueta en una nueva línea.\n",
    "with open(\"./labels.tsv\", \"w\") as fp:\n",
    "    for item in labels:\n",
    "        fp.write(\"%s\\n\" % item)"
   ]
  },
  {
   "cell_type": "code",
   "execution_count": 31,
   "metadata": {},
   "outputs": [],
   "source": [
    "# Función para graficar la matriz de similaridad\n",
    "def plot_matrix_distance(words, dist):\n",
    "    fig = plt.figure(figsize=(16,9))\n",
    "    ax = fig.add_subplot()\n",
    "    sns.heatmap(dist, xticklabels=words, yticklabels=words, \n",
    "                annot=True, fmt=\".2f\", cmap=\"YlGnBu\", ax=ax, mask=np.triu(dist))\n",
    "    plt.show()"
   ]
  },
  {
   "cell_type": "code",
   "execution_count": 32,
   "metadata": {},
   "outputs": [
    {
     "data": {
      "image/png": "[encoded data removed]",
      "text/plain": [
       "<Figure size 1600x900 with 2 Axes>"
      ]
     },
     "metadata": {},
     "output_type": "display_data"
    }
   ],
   "source": [
    "# Definición de las palabras para realizar el test de analogía\n",
    "test_words = ['daenerys', 'dragon', 'winterfell']\n",
    "\n",
    "# Inicializamos una lista para almacenar los vectores de embeddings de las palabras seleccionadas\n",
    "test_emb = []\n",
    "for word in test_words:\n",
    "    # Para cada palabra en 'test_words', obtenemos su vector de embedding del modelo Word2Vec\n",
    "    # y lo añadimos a la lista 'test_emb'\n",
    "    test_emb.append(w2v_model.wv.get_vector(word))\n",
    "    \n",
    "# Realizamos una operación de analogía vectorial: \n",
    "# En este caso, es similar a buscar un concepto que se relacione con 'Daenerys' y 'winterfell' \n",
    "# de la misma manera que 'dragon' se relaciona con 'Daenerys'.\n",
    "new_vector = test_emb[0] - test_emb[1] + test_emb[2]\n",
    "\n",
    "# Agregamos el resultado de la operación de analogía a la lista de palabras y vectores para análisis\n",
    "new_words = test_words + ['new_analogy']\n",
    "new_emb = np.append(test_emb, new_vector.reshape(1, -1), axis=0)\n",
    "\n",
    "# Calculamos la similaridad del coseno entre todos los pares de vectores en 'new_emb'\n",
    "dist = pairwise.cosine_similarity(new_emb, new_emb)\n",
    "\n",
    "# Utilizamos la función 'plot_matrix_distance' para graficar la matriz de similaridad\n",
    "# Esta visualización nos ayudará a entender cómo se relacionan estas palabras y la analogía resultante en el espacio semántico.\n",
    "plot_matrix_distance(new_words, dist)"
   ]
  },
  {
   "cell_type": "markdown",
   "metadata": {},
   "source": [
    "La matriz de similaridad muestra las relaciones semánticas entre varias palabras y un vector de analogía (\"new_analogy\") calculado a partir de ellas.\n",
    "\n",
    "Los valores de similaridad representados en la matriz se pueden interpretar de la siguiente manera:\n",
    "\n",
    "* Daenerys y Dragon (0.39): Este valor indica una similaridad moderada entre 'Daenerys' y 'dragon'. Esto tiene sentido narrativo ya que Daenerys es conocida como la \"Madre de Dragones\".\n",
    "\n",
    "* Daenerys y Winterfell (0.21): La similaridad entre 'Daenerys' y 'Winterfell' es menos fuerte que con 'dragon'. Esto podría reflejar que, en el universo narrativo, Daenerys tiene una conexión menos directa con Winterfell.\n",
    "\n",
    "* Dragon y Winterfell (0.19): Un valor similar al anterior, indicando que 'dragon' y 'Winterfell' también tienen una conexión semántica más débil. Esto es lógico, ya que los dragones están más asociados con Daenerys y la cultura Targaryen que con Winterfell.\n",
    "\n",
    "New_analogy:\n",
    "\n",
    "* Con Daenerys (0.49): Este es el valor más alto de similaridad en la matriz, indicando que el vector resultante de la analogía guarda una fuerte relación con 'Daenerys'. Esto sugiere que el vector \"new_analogy\" conserva gran parte de la semántica asociada con Daenerys.\n",
    "\n",
    "* Con Dragon (-0.33): El valor negativo implica que la operación de analogía ha producido un vector que se aleja semánticamente del concepto de 'dragon'. Esto puede ser el resultado de restar el vector 'dragon' en la operación de analogía.\n",
    "\n",
    "* Con Winterfell (0.67): Este valor indica que el vector \"new_analogy\" tiene una fuerte similaridad con 'Winterfell', incluso más que con 'Daenerys'. Esto podría sugerir que el vector captura un concepto que es significativamente relevante para Winterfell o que tiene una fuerte asociación con él en el texto."
   ]
  },
  {
   "cell_type": "markdown",
   "metadata": {},
   "source": [
    "Para identificar palabras que tienen una alta similaridad con un concepto representado por new_vector, realizamos lo siguiente:"
   ]
  },
  {
   "cell_type": "code",
   "execution_count": 33,
   "metadata": {},
   "outputs": [
    {
     "name": "stdout",
     "output_type": "stream",
     "text": [
      "winterfell: 0.6749593615531921\n",
      "daenerys: 0.4932481050491333\n",
      "winterfell's: 0.37625861167907715\n",
      "joff: 0.36644798517227173\n",
      "amusing: 0.34291619062423706\n",
      "foster: 0.34277063608169556\n",
      "married: 0.3396090865135193\n",
      "bannerman: 0.3370216190814972\n",
      "escape: 0.3332144320011139\n",
      "eldest: 0.3322758376598358\n"
     ]
    }
   ],
   "source": [
    "# Calculamos la similaridad del coseno entre cada vector de palabra en el modelo Word2Vec y el 'new_vector'\n",
    "similarities = np.squeeze(pairwise.cosine_similarity(w2v_model.wv.vectors,np.array([new_vector])))\n",
    "\n",
    "# Ordenamos los índices de las similaridades de mayor a menor y seleccionamos los 10 índices principales.\n",
    "args_sorted = np.argsort(similarities)[::-1][:10]\n",
    "\n",
    "# Imprimimos las palabras correspondientes a los 10 índices principales y sus valores de similaridad.\n",
    "for arg in args_sorted:\n",
    "  print(f'{w2v_model.wv.index_to_key[arg]}: {similarities[arg]}')"
   ]
  },
  {
   "cell_type": "markdown",
   "metadata": {},
   "source": [
    "Los resultados muestran las palabras del vocabulario del modelo que están más \"cerca\" semánticamente del new_vector. Las palabras con valores de similaridad más altos pueden tener una conexión temática o contextual fuerte con el concepto que new_vector representa."
   ]
  }
 ],
 "metadata": {
  "kernelspec": {
   "display_name": "Python 3",
   "language": "python",
   "name": "python3"
  },
  "language_info": {
   "codemirror_mode": {
    "name": "ipython",
    "version": 3
   },
   "file_extension": ".py",
   "mimetype": "text/x-python",
   "name": "python",
   "nbconvert_exporter": "python",
   "pygments_lexer": "ipython3",
   "version": "3.11.3"
  }
 },
 "nbformat": 4,
 "nbformat_minor": 2
}
