{
 "cells": [
  {
   "cell_type": "markdown",
   "metadata": {},
   "source": [
    "## Ejercicio 3\n",
    "\n",
    "- Crear sus propios vectores con Gensim basado en lo visto en clase con otro dataset.\n",
    "- Probar términos de interés y explicar similitudes en el espacio de embeddings (sacar conclusiones entre palabras similitudes y diferencias).\n",
    "- Graficarlos.\n",
    "- Obtener conclusiones."
   ]
  },
  {
   "cell_type": "markdown",
   "metadata": {},
   "source": [
    "### Introducción\n",
    "\n",
    "En este ejercicio, se explora el uso de técnicas de NLP para analizar el primer libro de la serie \"Game of Thrones\". Se utilizan diferentes métodos de tokenización para procesar el texto y se comparan sus resultados para entender mejor cómo cada enfoque maneja los datos. Este análisis nos permite preparar el texto para modelar embeddings de palabras, lo que nos proporcionará una comprensión más profunda de las relaciones semánticas en el texto."
   ]
  },
  {
   "cell_type": "code",
   "execution_count": 49,
   "metadata": {},
   "outputs": [
    {
     "name": "stderr",
     "output_type": "stream",
     "text": [
      "[nltk_data] Downloading package punkt to\n",
      "[nltk_data]     C:\\Users\\karen\\AppData\\Roaming\\nltk_data...\n",
      "[nltk_data]   Package punkt is already up-to-date!\n",
      "[nltk_data] Downloading package wordnet to\n",
      "[nltk_data]     C:\\Users\\karen\\AppData\\Roaming\\nltk_data...\n",
      "[nltk_data]   Package wordnet is already up-to-date!\n",
      "[nltk_data] Downloading package omw-1.4 to\n",
      "[nltk_data]     C:\\Users\\karen\\AppData\\Roaming\\nltk_data...\n",
      "[nltk_data]   Package omw-1.4 is already up-to-date!\n"
     ]
    },
    {
     "data": {
      "text/plain": [
       "True"
      ]
     },
     "execution_count": 49,
     "metadata": {},
     "output_type": "execute_result"
    }
   ],
   "source": [
    "import pandas as pd\n",
    "import matplotlib.pyplot as plt\n",
    "import seaborn as sns\n",
    "\n",
    "import multiprocessing\n",
    "from gensim.models import Word2Vec\n",
    "from gensim.models.callbacks import CallbackAny2Vec\n",
    "import os\n",
    "import re\n",
    "\n",
    "from keras.preprocessing.text import text_to_word_sequence\n",
    "\n",
    "import nltk\n",
    "\n",
    "# Descargar diccionario\n",
    "nltk.download(\"punkt\")\n",
    "nltk.download(\"wordnet\")\n",
    "nltk.download('omw-1.4')"
   ]
  },
  {
   "cell_type": "markdown",
   "metadata": {},
   "source": [
    "### Datos"
   ]
  },
  {
   "cell_type": "markdown",
   "metadata": {},
   "source": [
    "Cargamos el dataset que se encuentra en un archivo de texto, y lo leemos como un DataFrame de pandas."
   ]
  },
  {
   "cell_type": "code",
   "execution_count": 60,
   "metadata": {},
   "outputs": [
    {
     "name": "stderr",
     "output_type": "stream",
     "text": [
      "C:\\Users\\karen\\AppData\\Local\\Temp\\ipykernel_8644\\3002682383.py:1: ParserWarning:\n",
      "\n",
      "Falling back to the 'python' engine because the 'c' engine does not support regex separators (separators > 1 char and different from '\\s+' are interpreted as regex); you can avoid this warning by specifying engine='python'.\n",
      "\n"
     ]
    },
    {
     "data": {
      "text/html": [
       "<div>\n",
       "<style scoped>\n",
       "    .dataframe tbody tr th:only-of-type {\n",
       "        vertical-align: middle;\n",
       "    }\n",
       "\n",
       "    .dataframe tbody tr th {\n",
       "        vertical-align: top;\n",
       "    }\n",
       "\n",
       "    .dataframe thead th {\n",
       "        text-align: right;\n",
       "    }\n",
       "</style>\n",
       "<table border=\"1\" class=\"dataframe\">\n",
       "  <thead>\n",
       "    <tr style=\"text-align: right;\">\n",
       "      <th></th>\n",
       "      <th>0</th>\n",
       "    </tr>\n",
       "  </thead>\n",
       "  <tbody>\n",
       "    <tr>\n",
       "      <th>0</th>\n",
       "      <td>A Game Of Thrones</td>\n",
       "    </tr>\n",
       "    <tr>\n",
       "      <th>1</th>\n",
       "      <td>Book One of A Song of Ice and Fire</td>\n",
       "    </tr>\n",
       "    <tr>\n",
       "      <th>2</th>\n",
       "      <td>By George R. R. Martin</td>\n",
       "    </tr>\n",
       "    <tr>\n",
       "      <th>3</th>\n",
       "      <td>PROLOGUE</td>\n",
       "    </tr>\n",
       "    <tr>\n",
       "      <th>4</th>\n",
       "      <td>\"We should start back,\" Gared urged as the woo...</td>\n",
       "    </tr>\n",
       "  </tbody>\n",
       "</table>\n",
       "</div>"
      ],
      "text/plain": [
       "                                                   0\n",
       "0                                  A Game Of Thrones\n",
       "1                 Book One of A Song of Ice and Fire\n",
       "2                             By George R. R. Martin\n",
       "3                                           PROLOGUE\n",
       "4  \"We should start back,\" Gared urged as the woo..."
      ]
     },
     "execution_count": 60,
     "metadata": {},
     "output_type": "execute_result"
    }
   ],
   "source": [
    "df = pd.read_csv('./GOT/001ssb.txt', sep='/n', header=None, encoding='latin-1')\n",
    "df.head()"
   ]
  },
  {
   "cell_type": "code",
   "execution_count": 61,
   "metadata": {},
   "outputs": [
    {
     "name": "stdout",
     "output_type": "stream",
     "text": [
      "Cantidad de documentos: 19598\n"
     ]
    }
   ],
   "source": [
    "# Cantidad de filas en los datos\n",
    "print(\"Cantidad de documentos:\", df.shape[0])"
   ]
  },
  {
   "cell_type": "markdown",
   "metadata": {},
   "source": [
    "Se usa la función text_to_word_sequence de Keras para tokenizar el texto del libro. Esta función nos proporciona una forma sencilla de dividir el texto en palabras individuales."
   ]
  },
  {
   "cell_type": "code",
   "execution_count": 47,
   "metadata": {},
   "outputs": [
    {
     "data": {
      "text/plain": [
       "[['a', 'game', 'of', 'thrones'],\n",
       " ['book', 'one', 'of', 'a', 'song', 'of', 'ice', 'and', 'fire'],\n",
       " ['by', 'george', 'r', 'r', 'martin'],\n",
       " ['prologue'],\n",
       " ['we',\n",
       "  'should',\n",
       "  'start',\n",
       "  'back',\n",
       "  'gared',\n",
       "  'urged',\n",
       "  'as',\n",
       "  'the',\n",
       "  'woods',\n",
       "  'began',\n",
       "  'to',\n",
       "  'grow',\n",
       "  'dark',\n",
       "  'around',\n",
       "  'them',\n",
       "  'the',\n",
       "  'wildlings',\n",
       "  'are']]"
      ]
     },
     "execution_count": 47,
     "metadata": {},
     "output_type": "execute_result"
    }
   ],
   "source": [
    "sentence_tokens = []\n",
    "\n",
    "# Transformar las oraciones en una secuencia de palabras \n",
    "for _, row in df[:None].iterrows():\n",
    "    sentence_tokens.append(text_to_word_sequence(row[0]))\n",
    "\n",
    "# Ver los primeros 5 elementos\n",
    "sentence_tokens[:5]"
   ]
  },
  {
   "cell_type": "code",
   "execution_count": 62,
   "metadata": {},
   "outputs": [
    {
     "name": "stdout",
     "output_type": "stream",
     "text": [
      "Número de tokens generados por el primer método:  19598\n"
     ]
    }
   ],
   "source": [
    "print(\"Número de tokens generados por el primer método: \", len(sentence_tokens))"
   ]
  },
  {
   "cell_type": "markdown",
   "metadata": {},
   "source": [
    "A continuación, se aplica un enfoque más detallado para la tokenización, utilizando NLTK junto con expresiones regulares. Esto nos permite limpiar el texto de caracteres no deseados y realizar una tokenización más precisa."
   ]
  },
  {
   "cell_type": "code",
   "execution_count": 55,
   "metadata": {},
   "outputs": [
    {
     "name": "stdout",
     "output_type": "stream",
     "text": [
      "[['a', 'game', 'of', 'thrones'], ['book', 'one', 'of', 'a', 'song', 'of', 'ice', 'and', 'fire'], ['by', 'george', 'r', 'r', 'martin'], ['prologue'], ['``', 'we', 'should', 'start', 'back', '``', 'gared', 'urged', 'as', 'the', 'woods', 'began', 'to', 'grow', 'dark', 'around', 'them', '``', 'the', 'wildlings', 'are']]\n"
     ]
    }
   ],
   "source": [
    "sentence_tokens_NLTK = []\n",
    "pattern = r'[^a-zA-z0-9/\\'\\\"s]'\n",
    "\n",
    "for _, row in df.iterrows():  \n",
    "    words = re.sub(pattern, ' ', row[0])  # Reemplazar caracteres no deseados con espacios\n",
    "    words = re.sub(r'[_]', ' ', words)  # Reemplazar guiones bajos con espacios\n",
    "    words = words.lower()  # Convertir el texto a minúsculas para estandarizar\n",
    "    sentence_tokens_NLTK.append(nltk.word_tokenize(words))  # Tokenizar el texto y agregar a la lista\n",
    "\n",
    "# Ver los primeros 5 elementos\n",
    "print(sentence_tokens_NLTK[:5])"
   ]
  },
  {
   "cell_type": "code",
   "execution_count": 63,
   "metadata": {},
   "outputs": [
    {
     "name": "stdout",
     "output_type": "stream",
     "text": [
      "Número de tokens generados por el método NLTK:  19598\n"
     ]
    }
   ],
   "source": [
    "print(\"Número de tokens generados por el método NLTK: \", len(sentence_tokens_NLTK))"
   ]
  },
  {
   "cell_type": "markdown",
   "metadata": {},
   "source": [
    "Comparamos los tokens generados por los dos métodos anteriores. Este análisis nos permite identificar discrepancias y comprender cómo cada enfoque procesa el texto de manera diferente."
   ]
  },
  {
   "cell_type": "code",
   "execution_count": 58,
   "metadata": {},
   "outputs": [
    {
     "name": "stdout",
     "output_type": "stream",
     "text": [
      "Total de diferencias encontradas: 11\n"
     ]
    }
   ],
   "source": [
    "# Verificar las diferencias en el procesamiento de las palabras \n",
    "dif_words = [] \n",
    "q_dif_words = 0  \n",
    "\n",
    "# Iterar sobre los tokens generados por ambos métodos\n",
    "for i, j in zip(sentence_tokens, sentence_tokens_NLTK):\n",
    "    if i != j:\n",
    "        # Si los tokens de la misma posición son diferentes, compara palabra por palabra\n",
    "        for l, k in zip(i, j):\n",
    "            if l != k:\n",
    "                dif_words.append([l, k])  # Añadir el par de palabras diferentes a la lista\n",
    "                q_dif_words += 1  # Incrementar el contador de diferencias\n",
    "\n",
    "            # Si se encontraron más de 10 diferencias, salir del bucle interno\n",
    "            if q_dif_words > 10:\n",
    "                break\n",
    "\n",
    "    # Si se encontraron más de 10 diferencias, salir del bucle externo\n",
    "    if q_dif_words > 10:\n",
    "        break    \n",
    "\n",
    "# Imprimir la cantidad total de pares de palabras diferentes encontradas\n",
    "print(\"Total de diferencias encontradas:\", len(dif_words))"
   ]
  },
  {
   "cell_type": "code",
   "execution_count": 64,
   "metadata": {},
   "outputs": [
    {
     "data": {
      "text/plain": [
       "[['we', '``'],\n",
       " ['should', 'we'],\n",
       " ['start', 'should'],\n",
       " ['back', 'start'],\n",
       " ['gared', 'back'],\n",
       " ['urged', '``'],\n",
       " ['as', 'gared'],\n",
       " ['the', 'urged'],\n",
       " ['woods', 'as'],\n",
       " ['began', 'the'],\n",
       " ['to', 'woods']]"
      ]
     },
     "execution_count": 64,
     "metadata": {},
     "output_type": "execute_result"
    }
   ],
   "source": [
    "dif_words"
   ]
  },
  {
   "cell_type": "markdown",
   "metadata": {},
   "source": [
    "Analizando los pares de palabras en dif_words, parece que hay una diferencia significativa en cómo cada método de tokenización está manejando el texto. Por ejemplo:\n",
    "\n",
    "* En varios casos, una palabra en el primer token corresponde a la palabra siguiente en el segundo token, como en ['we', '``'], ['should', 'we'], ['start', 'should']. Esto sugiere que uno de los métodos de tokenización está desfasado en una palabra respecto al otro.\n",
    "\n",
    "* Las diferencias en la tokenización pueden deberse a cómo cada método trata los caracteres especiales, las comillas, y la puntuación. Por ejemplo, el par ['we', '``'] sugiere que un método está capturando las comillas dobles como un token separado, mientras que el otro no."
   ]
  },
  {
   "cell_type": "markdown",
   "metadata": {},
   "source": [
    "### Word2Vec con Gensim\n",
    "\n",
    "Construimos y entrenamos un modelo Word2Vec utilizando la biblioteca Gensim. Word2Vec es un grupo de modelos relacionados que se utilizan para producir word embeddings, es decir, representaciones vectoriales de palabras. Estos modelos son redes neuronales de dos capas entrenadas para reconstruir contextos lingüísticos de palabras."
   ]
  },
  {
   "cell_type": "code",
   "execution_count": 68,
   "metadata": {},
   "outputs": [],
   "source": [
    "# Definición de la clase callback para monitorear la pérdida durante el entrenamiento\n",
    "class callback(CallbackAny2Vec):\n",
    "    \"\"\"\n",
    "    Clase callback para imprimir la pérdida ('loss') después de cada época de entrenamiento.\n",
    "    Esta clase se utiliza para obtener información detallada sobre el proceso de aprendizaje\n",
    "    del modelo y ajustar parámetros si es necesario.\n",
    "    \"\"\"\n",
    "    def __init__(self):\n",
    "        self.epoch = 0  # Inicializa el contador de épocas\n",
    "        self.loss_previous_step = 0  # Inicializa la pérdida en el paso anterior\n",
    "\n",
    "    def on_epoch_end(self, model):\n",
    "        # Método llamado al final de cada época\n",
    "        loss = model.get_latest_training_loss()  # Obtiene la pérdida más reciente del modelo\n",
    "        if self.epoch == 0:\n",
    "            print(f'Loss after epoch {self.epoch}: {loss}')\n",
    "        else:\n",
    "            # Calcula la pérdida desde la última época\n",
    "            print(f'Loss after epoch {self.epoch}: {loss - self.loss_previous_step}')\n",
    "        self.epoch += 1  # Incrementa el contador de épocas\n",
    "        self.loss_previous_step = loss  # Actualiza la pérdida anterior para la próxima comparación"
   ]
  },
  {
   "cell_type": "markdown",
   "metadata": {},
   "source": [
    "Para nuestro modelo, elegimos la estructura Skipgram de Word2Vec. A diferencia del modelo CBOW (Continuous Bag of Words), Skipgram predice las palabras de contexto a partir de una palabra objetivo, lo que suele ser más efectivo para conjuntos de datos más grandes y con palabras menos frecuentes."
   ]
  },
  {
   "cell_type": "code",
   "execution_count": 69,
   "metadata": {},
   "outputs": [],
   "source": [
    "# Creación del modelo Word2Vec utilizando la estructura de modelo Skipgram\n",
    "w2v_model = Word2Vec(\n",
    "    min_count=5,    # Frecuencia mínima de palabra para ser incluida en el vocabulario\n",
    "    window=2,       # Cantidad de palabras antes y después de la palabra objetivo para considerar en el contexto\n",
    "    vector_size=300, # Dimensionalidad de los vectores de palabras\n",
    "    negative=20,    # Cantidad de \"negative samples\" (muestra de palabras no relacionadas); 0 significa que no se usa\n",
    "    workers=1,      # Cantidad de hilos de procesamiento para entrenar el modelo (ajustar según la máquina)\n",
    "    sg=1)            # Define el algoritmo de entrenamiento: 0 para CBOW, 1 para Skipgram"
   ]
  },
  {
   "cell_type": "code",
   "execution_count": 70,
   "metadata": {},
   "outputs": [],
   "source": [
    "# Obtener el vocabulario con los tokens\n",
    "w2v_model.build_vocab(sentence_tokens)\n",
    "#w2v_model.build_vocab(sentence_tokens_NLTK)"
   ]
  },
  {
   "cell_type": "code",
   "execution_count": 71,
   "metadata": {},
   "outputs": [
    {
     "name": "stdout",
     "output_type": "stream",
     "text": [
      "Cantidad de docs en el corpus: 19598\n"
     ]
    }
   ],
   "source": [
    "# Cantidad de filas/docs encontradas en el corpus\n",
    "print(\"Cantidad de docs en el corpus:\", w2v_model.corpus_count)"
   ]
  },
  {
   "cell_type": "code",
   "execution_count": 72,
   "metadata": {},
   "outputs": [
    {
     "name": "stdout",
     "output_type": "stream",
     "text": [
      "Cantidad de words distintas en el corpus: 4271\n"
     ]
    }
   ],
   "source": [
    "# Cantidad de words encontradas en el corpus\n",
    "print(\"Cantidad de words distintas en el corpus:\", len(w2v_model.wv.index_to_key))"
   ]
  },
  {
   "cell_type": "markdown",
   "metadata": {},
   "source": [
    "Entrenar embeddings"
   ]
  },
  {
   "cell_type": "code",
   "execution_count": 73,
   "metadata": {},
   "outputs": [
    {
     "name": "stdout",
     "output_type": "stream",
     "text": [
      "Loss after epoch 0: 2333840.75\n",
      "Loss after epoch 1: 1640345.25\n",
      "Loss after epoch 2: 1536630.0\n",
      "Loss after epoch 3: 1507944.5\n",
      "Loss after epoch 4: 1484651.5\n",
      "Loss after epoch 5: 1419345.0\n",
      "Loss after epoch 6: 1402366.0\n",
      "Loss after epoch 7: 1384269.0\n",
      "Loss after epoch 8: 1368241.0\n",
      "Loss after epoch 9: 1355779.0\n",
      "Loss after epoch 10: 1342403.0\n",
      "Loss after epoch 11: 1284843.0\n",
      "Loss after epoch 12: 1273010.0\n",
      "Loss after epoch 13: 1257160.0\n",
      "Loss after epoch 14: 1247398.0\n",
      "Loss after epoch 15: 1234776.0\n",
      "Loss after epoch 16: 1221948.0\n",
      "Loss after epoch 17: 1213638.0\n",
      "Loss after epoch 18: 1205520.0\n",
      "Loss after epoch 19: 1194448.0\n",
      "Loss after epoch 20: 1184344.0\n",
      "Loss after epoch 21: 1177638.0\n",
      "Loss after epoch 22: 1170482.0\n",
      "Loss after epoch 23: 1166128.0\n",
      "Loss after epoch 24: 1152328.0\n",
      "Loss after epoch 25: 1126688.0\n",
      "Loss after epoch 26: 1114760.0\n",
      "Loss after epoch 27: 1116904.0\n",
      "Loss after epoch 28: 1109456.0\n",
      "Loss after epoch 29: 1101404.0\n"
     ]
    },
    {
     "data": {
      "text/plain": [
       "(6179997, 8833650)"
      ]
     },
     "execution_count": 73,
     "metadata": {},
     "output_type": "execute_result"
    }
   ],
   "source": [
    "# Entrenamos el modelo generador de vectores\n",
    "# Utilizamos nuestro callback\n",
    "w2v_model.train(sentence_tokens,\n",
    "                 total_examples=w2v_model.corpus_count,\n",
    "                 epochs=30,\n",
    "                 compute_loss = True,\n",
    "                 callbacks=[callback()]\n",
    "                 )"
   ]
  },
  {
   "cell_type": "markdown",
   "metadata": {},
   "source": [
    "Ensayar"
   ]
  },
  {
   "cell_type": "code",
   "execution_count": 74,
   "metadata": {},
   "outputs": [
    {
     "data": {
      "text/plain": [
       "['dany',\n",
       " 'sansa',\n",
       " 'then',\n",
       " 'stark',\n",
       " 'yet',\n",
       " 'robb',\n",
       " 'head',\n",
       " 'too',\n",
       " 'away',\n",
       " 'made',\n",
       " 'where',\n",
       " 'through',\n",
       " 'how',\n",
       " 'lady',\n",
       " 'robert',\n",
       " 'took',\n",
       " 'come',\n",
       " 'thought',\n",
       " 'sword',\n",
       " 'must']"
      ]
     },
     "execution_count": 74,
     "metadata": {},
     "output_type": "execute_result"
    }
   ],
   "source": [
    "w2v_model.wv.index_to_key[100:120]"
   ]
  },
  {
   "cell_type": "code",
   "execution_count": 75,
   "metadata": {},
   "outputs": [
    {
     "data": {
      "text/plain": [
       "[('jeyne', 0.3923870623111725),\n",
       " ('arya', 0.373152494430542),\n",
       " ('shave', 0.3679894506931305),\n",
       " ('blinking', 0.3674989938735962),\n",
       " ('chewing', 0.36326882243156433),\n",
       " ('whimpered', 0.3568113446235657),\n",
       " ('torrhen', 0.3554721772670746),\n",
       " ('mordane', 0.3525380790233612),\n",
       " (\"sansa's\", 0.3509036600589752),\n",
       " ('miserably', 0.35044562816619873)]"
      ]
     },
     "execution_count": 75,
     "metadata": {},
     "output_type": "execute_result"
    }
   ],
   "source": [
    "# Palabras que MÁS se relacionan con...:\n",
    "w2v_model.wv.most_similar(positive=[\"sansa\"], topn=10)"
   ]
  },
  {
   "cell_type": "code",
   "execution_count": 76,
   "metadata": {},
   "outputs": [
    {
     "data": {
      "text/plain": [
       "[('earth', 0.02474198490381241),\n",
       " ('remain', 0.012754547409713268),\n",
       " ('hundred', 0.008418884128332138),\n",
       " ('cell', 0.008270381018519402),\n",
       " ('battle', 0.007254032883793116),\n",
       " ('urged', 0.0029458212666213512),\n",
       " ('led', 0.0016865921206772327),\n",
       " ('spread', -0.0003114058345090598),\n",
       " ('spotted', -0.0021455748938024044),\n",
       " ('remained', -0.012433255091309547)]"
      ]
     },
     "execution_count": 76,
     "metadata": {},
     "output_type": "execute_result"
    }
   ],
   "source": [
    "# Palabras que MENOS se relacionan con...:\n",
    "w2v_model.wv.most_similar(negative=[\"sansa\"], topn=10)"
   ]
  },
  {
   "cell_type": "code",
   "execution_count": 77,
   "metadata": {},
   "outputs": [
    {
     "name": "stdout",
     "output_type": "stream",
     "text": [
      "[-2.73328960e-01  2.65352190e-01  1.15855537e-01 -2.82472204e-02\n",
      "  8.91635418e-02 -6.19090982e-02 -7.83740729e-02  2.04023600e-01\n",
      " -5.78460097e-02 -4.48846281e-01  3.20527673e-01 -2.70255823e-02\n",
      " -2.71470577e-01  9.29924287e-03  1.50349233e-02 -2.81877607e-01\n",
      "  9.16409045e-02  9.03073549e-02  1.28863990e-01  1.20107353e-01\n",
      "  9.40671563e-02  2.07038790e-01 -1.97467968e-01 -1.47694394e-01\n",
      "  6.79049492e-01 -2.14309305e-01  1.20615013e-01  9.59969535e-02\n",
      " -4.09818798e-01  1.18843868e-01  8.57853368e-02 -2.83157565e-02\n",
      "  1.47599310e-01  3.26120526e-01  2.96091698e-02 -5.19577339e-02\n",
      "  2.37894937e-01 -2.13020965e-01  5.33839092e-02 -5.53691015e-02\n",
      " -2.03870744e-01 -1.40628576e-01  2.36041948e-01 -6.72216490e-02\n",
      "  1.47836983e-01  5.35787903e-02 -1.46687567e-01  7.22649470e-02\n",
      " -3.58034909e-01  2.44407445e-01  1.80935010e-01 -2.25633949e-01\n",
      " -2.24750116e-01  4.86307383e-01 -4.46492851e-01  1.21609561e-01\n",
      "  2.60825418e-02 -1.93176836e-01  4.89647277e-02  4.06266451e-02\n",
      "  1.10695697e-01  3.65469813e-01 -1.29320472e-01 -2.27144346e-01\n",
      "  2.34756157e-01 -1.50840618e-02  2.37269938e-01 -2.48060986e-01\n",
      " -6.75191656e-02 -3.69797170e-01 -2.28067145e-01  1.74597442e-01\n",
      " -3.41368578e-02 -1.45730764e-01  3.13444614e-01 -1.11845337e-01\n",
      "  2.44914889e-01 -1.41841412e-01 -2.97184866e-02  4.96224731e-01\n",
      " -3.86463106e-01 -5.65881580e-02 -9.09991970e-04  5.43251693e-01\n",
      "  1.35491192e-01  1.05304450e-01  2.73105979e-04  1.25550479e-01\n",
      "  6.34214655e-02  1.54904544e-01 -1.73962951e-01 -3.37135494e-01\n",
      "  2.78905511e-01  8.07926282e-02  3.18946317e-02  5.22508472e-02\n",
      " -1.56134918e-01 -4.93333302e-02 -2.89218605e-01  4.41103518e-01\n",
      " -3.26787047e-02 -2.78207988e-01  8.73024836e-02  2.20378205e-01\n",
      "  2.50231415e-01 -2.28360340e-01 -2.21121088e-01 -4.62200772e-03\n",
      " -2.28991210e-02  2.61818558e-01 -2.83676069e-02 -3.10295284e-01\n",
      "  9.72032920e-02 -1.12490013e-01  1.28216103e-01 -1.26893306e-02\n",
      "  1.68049023e-01  6.11387491e-02  2.59651661e-01  1.23617962e-01\n",
      "  7.90324137e-02  2.11924791e-01 -1.08947912e-02  1.16935164e-01\n",
      " -5.30679850e-03 -1.16035536e-01  1.70849100e-01 -3.21396410e-01\n",
      "  1.95676818e-01  1.45789506e-02 -1.75558001e-01 -1.77610457e-01\n",
      "  9.62514356e-02  1.92141935e-01  4.93751377e-01 -2.25864388e-02\n",
      "  1.28900066e-01 -3.27982396e-01  2.94921339e-01 -6.19066805e-02\n",
      " -2.29548141e-02 -3.73751074e-01 -2.03543231e-01 -2.07124576e-01\n",
      "  3.96389246e-01 -1.00941405e-01 -3.74456465e-01  1.06898747e-01\n",
      " -5.07370457e-02 -2.88849324e-01  2.09210720e-02 -3.74612212e-02\n",
      " -3.25121045e-01 -3.69891748e-02  1.65389270e-01 -8.43402222e-02\n",
      "  1.34025544e-01  1.00189984e-01 -1.75128728e-01 -1.12648085e-01\n",
      "  7.41304085e-03  1.55148720e-02 -3.81462634e-01  4.16808762e-02\n",
      "  1.18636318e-01 -5.92506677e-02 -3.32350023e-02  7.92132244e-02\n",
      "  2.15633854e-01  1.21261245e-02  1.67571008e-01  1.47494480e-01\n",
      "  4.90761288e-02 -2.58655474e-02  1.10982424e-02  2.56818056e-01\n",
      "  1.17178224e-01  9.00557637e-02 -1.25290796e-01  2.00352326e-01\n",
      " -3.52738649e-02  6.68397695e-02 -1.59077272e-01 -2.69754231e-01\n",
      " -1.81767449e-01  8.65964741e-02 -3.55868548e-01  4.09279838e-02\n",
      " -5.51076680e-02  3.97934802e-02  8.00224915e-02 -2.01048866e-01\n",
      " -1.33000284e-01  2.08657309e-01  1.31209521e-03 -9.28446949e-02\n",
      " -5.79317734e-02 -2.24060938e-01  3.74085397e-01 -1.12702176e-01\n",
      " -2.67094791e-01  1.42402470e-01 -2.50067681e-01  8.04287270e-02\n",
      " -1.45606488e-01 -6.94149286e-02 -3.33559096e-01  4.15196538e-01\n",
      " -4.42467630e-02  5.27313426e-02 -6.27449229e-02 -2.23224416e-01\n",
      " -3.75745803e-01 -2.30816100e-02  1.77571535e-01 -9.90810469e-02\n",
      " -3.18674058e-01 -6.23260252e-02 -4.62881297e-01 -3.48835401e-02\n",
      "  1.78907275e-01 -6.04231477e-01  1.82295769e-01 -3.58038425e-01\n",
      " -2.61300821e-02  5.53029180e-02 -3.92350227e-01  2.62308747e-01\n",
      "  1.23188555e-01  1.38699953e-02  2.64463097e-01 -1.48508409e-02\n",
      " -6.55501476e-03 -3.17050554e-02 -8.17824006e-02  9.38034356e-02\n",
      "  1.58839285e-01  1.26256898e-01  9.33772027e-02 -3.16747099e-01\n",
      " -4.62107986e-01 -1.52276948e-01 -1.31623209e-01 -1.32314086e-01\n",
      "  1.58136830e-01  1.18247524e-01  2.76029557e-01 -1.01402149e-01\n",
      "  1.10425450e-01  1.27701804e-01  1.32415891e-01  1.35356352e-01\n",
      " -4.42695804e-02  3.96940917e-01 -4.20617700e-01  2.45858748e-02\n",
      "  5.43841183e-01  9.14603025e-02 -1.41323820e-01 -1.59197196e-01\n",
      "  4.60885912e-01  5.76723158e-01 -8.91042203e-02  6.71480373e-02\n",
      "  3.36356699e-01  1.15854423e-02 -9.71225053e-02  1.51278064e-01\n",
      " -2.76882648e-01 -3.18753242e-01 -3.47199172e-01  4.30896163e-01\n",
      "  9.38259736e-02 -9.60211828e-03  1.10182604e-02  2.53504645e-02\n",
      " -5.19910865e-02  6.31072298e-02  3.05569749e-02  1.88432887e-01\n",
      "  3.13528419e-01 -1.66713819e-01  7.65723661e-02  2.23742411e-01\n",
      "  4.59250920e-02 -9.26282350e-03 -7.92491511e-02  1.03974812e-01\n",
      " -9.35256258e-02  1.47860115e-02 -3.74110222e-01  2.59193867e-01\n",
      "  5.27640283e-02 -2.42000803e-01  1.95559725e-01  2.46615157e-01\n",
      " -8.59797671e-02 -1.93370402e-01  2.57632822e-01 -7.62480125e-02]\n"
     ]
    }
   ],
   "source": [
    "# el método `get_vector` permite obtener los vectores:\n",
    "vector_ring = w2v_model.wv.get_vector(\"ring\")\n",
    "print(vector_ring)"
   ]
  },
  {
   "cell_type": "code",
   "execution_count": 78,
   "metadata": {},
   "outputs": [
    {
     "data": {
      "text/plain": [
       "[('ring', 1.0),\n",
       " ('clangor', 0.6129792928695679),\n",
       " ('swordplay', 0.581631064414978),\n",
       " ('spell', 0.5815053582191467),\n",
       " ('banded', 0.5746070146560669),\n",
       " ('parchment', 0.5742110013961792),\n",
       " ('clang', 0.5594696402549744),\n",
       " ('clack', 0.5588715672492981),\n",
       " ('lobstered', 0.5529549717903137),\n",
       " ('bark', 0.5485979914665222)]"
      ]
     },
     "execution_count": 78,
     "metadata": {},
     "output_type": "execute_result"
    }
   ],
   "source": [
    "# el método `most_similar` también permite comparar a partir de vectores\n",
    "w2v_model.wv.most_similar(vector_ring)"
   ]
  },
  {
   "cell_type": "code",
   "execution_count": 79,
   "metadata": {},
   "outputs": [
    {
     "data": {
      "text/plain": [
       "[('clangor', 0.6129792928695679),\n",
       " ('swordplay', 0.5816310048103333),\n",
       " ('spell', 0.5815053582191467),\n",
       " ('banded', 0.5746070742607117),\n",
       " ('parchment', 0.5742110013961792),\n",
       " ('clang', 0.5594696402549744),\n",
       " ('clack', 0.5588715672492981),\n",
       " ('lobstered', 0.5529549717903137),\n",
       " ('bark', 0.5485979914665222),\n",
       " ('tipped', 0.5396092534065247)]"
      ]
     },
     "execution_count": 79,
     "metadata": {},
     "output_type": "execute_result"
    }
   ],
   "source": [
    "# Palabras que MÁS se relacionan con...:\n",
    "w2v_model.wv.most_similar(positive=[\"ring\"], topn=10)"
   ]
  },
  {
   "cell_type": "markdown",
   "metadata": {},
   "source": [
    "Visualizar agrupación de vectores"
   ]
  },
  {
   "cell_type": "code",
   "execution_count": 80,
   "metadata": {},
   "outputs": [],
   "source": [
    "from sklearn.decomposition import IncrementalPCA    \n",
    "from sklearn.manifold import TSNE                   \n",
    "import numpy as np                                  \n",
    "\n",
    "def reduce_dimensions(model, num_dimensions = 2 ):\n",
    "     \n",
    "    vectors = np.asarray(model.wv.vectors)\n",
    "    labels = np.asarray(model.wv.index_to_key)  \n",
    "\n",
    "    tsne = TSNE(n_components=num_dimensions, random_state=0)\n",
    "    vectors = tsne.fit_transform(vectors)\n",
    "\n",
    "    return vectors, labels"
   ]
  },
  {
   "cell_type": "code",
   "execution_count": 81,
   "metadata": {},
   "outputs": [
    {
     "data": {
      "application/vnd.plotly.v1+json": {
       "config": {
        "plotlyServerURL": "https://plot.ly"
       },
       "data": [
        {
         "hovertemplate": "x=%{x}<br>y=%{y}<br>text=%{text}<extra></extra>",
         "legendgroup": "",
         "marker": {
          "color": "#636efa",
          "symbol": "circle"
         },
         "mode": "markers+text",
         "name": "",
         "orientation": "v",
         "showlegend": false,
         "text": [
          "the",
          "and",
          "to",
          "a",
          "of",
          "he",
          "his",
          "was",
          "her",
          "you",
          "in",
          "it",
          "had",
          "i",
          "she",
          "as",
          "him",
          "with",
          "that",
          "said",
          "not",
          "for",
          "at",
          "on",
          "but",
          "they",
          "is",
          "my",
          "lord",
          "no",
          "from",
          "them",
          "have",
          "would",
          "were",
          "be",
          "all",
          "your",
          "when",
          "ser",
          "me",
          "if",
          "will",
          "so",
          "could",
          "one",
          "jon",
          "what",
          "their",
          "ned",
          "up",
          "out",
          "there",
          "man",
          "are",
          "this",
          "back",
          "been",
          "do",
          "did",
          "down",
          "like",
          "men",
          "by",
          "we",
          "tyrion",
          "page",
          "hand",
          "eyes",
          "than",
          "now",
          "only",
          "or",
          "king",
          "father",
          "told",
          "see",
          "bran",
          "catelyn",
          "more",
          "who",
          "off",
          "here",
          "even",
          "arya",
          "an",
          "face",
          "over",
          "into",
          "know",
          "old",
          "boy",
          "black",
          "before",
          "looked",
          "never",
          "well",
          "long",
          "time",
          "brother"
         ],
         "type": "scatter",
         "x": [
          -15.53451156616211,
          -22.90654754638672,
          -10.66516399383545,
          -13.681512832641602,
          -17.779865264892578,
          -6.52822732925415,
          0.05611559748649597,
          -21.414775848388672,
          -0.23985621333122253,
          -11.601516723632812,
          6.132884502410889,
          -6.341421127319336,
          1.3143855333328247,
          -12.15843677520752,
          -3.9236629009246826,
          -7.0387163162231445,
          -3.9263646602630615,
          -7.021641731262207,
          -18.576406478881836,
          -16.225357055664062,
          -5.270252227783203,
          -6.7210774421691895,
          -7.403621673583984,
          3.502849817276001,
          -4.271096229553223,
          5.181521415710449,
          0.2982536256313324,
          -12.299729347229004,
          -18.04380226135254,
          -2.7845704555511475,
          6.276098728179932,
          1.8460432291030884,
          -7.2924628257751465,
          -10.20070743560791,
          21.26341438293457,
          -9.150260925292969,
          2.443798780441284,
          -12.732032775878906,
          -6.806134223937988,
          -21.98452377319336,
          -15.312230110168457,
          -3.5114452838897705,
          -9.823454856872559,
          3.8008110523223877,
          0.8494217991828918,
          -7.389493942260742,
          -3.333739995956421,
          -4.794924259185791,
          19.384191513061523,
          -12.341575622558594,
          4.07208251953125,
          1.864933967590332,
          2.8479092121124268,
          -3.1752920150756836,
          -2.306964635848999,
          -3.5407559871673584,
          -4.117283344268799,
          4.93379545211792,
          -9.757842063903809,
          -6.397096633911133,
          10.311075210571289,
          6.888599395751953,
          9.140349388122559,
          4.054286956787109,
          -2.120056629180908,
          -7.319958209991455,
          -4.654047012329102,
          1.3316768407821655,
          1.2104285955429077,
          8.401803970336914,
          3.1806321144104004,
          -1.286415457725525,
          -2.9703876972198486,
          -5.631351947784424,
          -17.838293075561523,
          -14.453291893005371,
          -4.6305718421936035,
          -2.1374082565307617,
          -12.479899406433105,
          7.920314788818359,
          -14.998773574829102,
          -2.4626617431640625,
          -2.9846510887145996,
          1.3620789051055908,
          -5.586124897003174,
          0.645006000995636,
          3.994170904159546,
          6.3153510093688965,
          -2.1652238368988037,
          -7.898672580718994,
          -8.99349594116211,
          -5.220020771026611,
          15.21251106262207,
          4.0683746337890625,
          -8.839851379394531,
          0.46014389395713806,
          -5.656894683837891,
          0.5363144874572754,
          1.186712622642517,
          -11.067312240600586
         ],
         "xaxis": "x",
         "y": [
          -16.571014404296875,
          11.396902084350586,
          22.697269439697266,
          -9.808774948120117,
          -15.62985897064209,
          3.0821518898010254,
          -17.250965118408203,
          10.829875946044922,
          -17.81179428100586,
          21.45421600341797,
          1.9563626050949097,
          26.093547821044922,
          21.58865737915039,
          22.115190505981445,
          0.48941895365715027,
          -2.1977648735046387,
          -12.084935188293457,
          -3.1073670387268066,
          18.43775749206543,
          -1.4691615104675293,
          15.983165740966797,
          13.146309852600098,
          -8.085432052612305,
          -17.015724182128906,
          5.8133392333984375,
          8.465049743652344,
          11.56843376159668,
          9.963011741638184,
          4.347822666168213,
          20.104373931884766,
          -4.720303058624268,
          7.605540752410889,
          17.834985733032227,
          21.062152862548828,
          0.1366317868232727,
          11.823641777038574,
          1.1932649612426758,
          11.028399467468262,
          3.2472243309020996,
          -0.852303147315979,
          15.158672332763672,
          15.004003524780273,
          20.584274291992188,
          22.99665641784668,
          24.599821090698242,
          -3.12918758392334,
          -5.002211093902588,
          15.468842506408691,
          0.2999843657016754,
          3.5364580154418945,
          -10.566513061523438,
          -5.830348968505859,
          3.746328830718994,
          5.82147216796875,
          14.352287292480469,
          11.253483772277832,
          -8.995655059814453,
          15.258070945739746,
          14.700685501098633,
          13.550131797790527,
          -4.700243949890137,
          0.49176040291786194,
          7.904107570648193,
          2.2198376655578613,
          9.00034236907959,
          0.7622625827789307,
          6.075084686279297,
          -16.083106994628906,
          -14.042108535766602,
          16.634592056274414,
          14.26895523071289,
          11.415169715881348,
          21.047182083129883,
          7.709582328796387,
          7.573292255401611,
          2.716677188873291,
          19.706239700317383,
          -2.365377426147461,
          4.463588714599609,
          14.133495330810547,
          5.027149677276611,
          -14.835245132446289,
          11.800163269042969,
          11.976958274841309,
          -7.048655986785889,
          2.8344461917877197,
          -14.8289213180542,
          -13.281092643737793,
          -10.37074089050293,
          14.916412353515625,
          5.5507988929748535,
          1.2509645223617554,
          -15.342147827148438,
          6.2191667556762695,
          -15.089738845825195,
          20.625579833984375,
          24.73951530456543,
          -1.9187109470367432,
          4.89065408706665,
          7.780675411224365
         ],
         "yaxis": "y"
        }
       ],
       "layout": {
        "legend": {
         "tracegroupgap": 0
        },
        "margin": {
         "t": 60
        },
        "template": {
         "data": {
          "bar": [
           {
            "error_x": {
             "color": "#2a3f5f"
            },
            "error_y": {
             "color": "#2a3f5f"
            },
            "marker": {
             "line": {
              "color": "#E5ECF6",
              "width": 0.5
             },
             "pattern": {
              "fillmode": "overlay",
              "size": 10,
              "solidity": 0.2
             }
            },
            "type": "bar"
           }
          ],
          "barpolar": [
           {
            "marker": {
             "line": {
              "color": "#E5ECF6",
              "width": 0.5
             },
             "pattern": {
              "fillmode": "overlay",
              "size": 10,
              "solidity": 0.2
             }
            },
            "type": "barpolar"
           }
          ],
          "carpet": [
           {
            "aaxis": {
             "endlinecolor": "#2a3f5f",
             "gridcolor": "white",
             "linecolor": "white",
             "minorgridcolor": "white",
             "startlinecolor": "#2a3f5f"
            },
            "baxis": {
             "endlinecolor": "#2a3f5f",
             "gridcolor": "white",
             "linecolor": "white",
             "minorgridcolor": "white",
             "startlinecolor": "#2a3f5f"
            },
            "type": "carpet"
           }
          ],
          "choropleth": [
           {
            "colorbar": {
             "outlinewidth": 0,
             "ticks": ""
            },
            "type": "choropleth"
           }
          ],
          "contour": [
           {
            "colorbar": {
             "outlinewidth": 0,
             "ticks": ""
            },
            "colorscale": [
             [
              0,
              "#0d0887"
             ],
             [
              0.1111111111111111,
              "#46039f"
             ],
             [
              0.2222222222222222,
              "#7201a8"
             ],
             [
              0.3333333333333333,
              "#9c179e"
             ],
             [
              0.4444444444444444,
              "#bd3786"
             ],
             [
              0.5555555555555556,
              "#d8576b"
             ],
             [
              0.6666666666666666,
              "#ed7953"
             ],
             [
              0.7777777777777778,
              "#fb9f3a"
             ],
             [
              0.8888888888888888,
              "#fdca26"
             ],
             [
              1,
              "#f0f921"
             ]
            ],
            "type": "contour"
           }
          ],
          "contourcarpet": [
           {
            "colorbar": {
             "outlinewidth": 0,
             "ticks": ""
            },
            "type": "contourcarpet"
           }
          ],
          "heatmap": [
           {
            "colorbar": {
             "outlinewidth": 0,
             "ticks": ""
            },
            "colorscale": [
             [
              0,
              "#0d0887"
             ],
             [
              0.1111111111111111,
              "#46039f"
             ],
             [
              0.2222222222222222,
              "#7201a8"
             ],
             [
              0.3333333333333333,
              "#9c179e"
             ],
             [
              0.4444444444444444,
              "#bd3786"
             ],
             [
              0.5555555555555556,
              "#d8576b"
             ],
             [
              0.6666666666666666,
              "#ed7953"
             ],
             [
              0.7777777777777778,
              "#fb9f3a"
             ],
             [
              0.8888888888888888,
              "#fdca26"
             ],
             [
              1,
              "#f0f921"
             ]
            ],
            "type": "heatmap"
           }
          ],
          "heatmapgl": [
           {
            "colorbar": {
             "outlinewidth": 0,
             "ticks": ""
            },
            "colorscale": [
             [
              0,
              "#0d0887"
             ],
             [
              0.1111111111111111,
              "#46039f"
             ],
             [
              0.2222222222222222,
              "#7201a8"
             ],
             [
              0.3333333333333333,
              "#9c179e"
             ],
             [
              0.4444444444444444,
              "#bd3786"
             ],
             [
              0.5555555555555556,
              "#d8576b"
             ],
             [
              0.6666666666666666,
              "#ed7953"
             ],
             [
              0.7777777777777778,
              "#fb9f3a"
             ],
             [
              0.8888888888888888,
              "#fdca26"
             ],
             [
              1,
              "#f0f921"
             ]
            ],
            "type": "heatmapgl"
           }
          ],
          "histogram": [
           {
            "marker": {
             "pattern": {
              "fillmode": "overlay",
              "size": 10,
              "solidity": 0.2
             }
            },
            "type": "histogram"
           }
          ],
          "histogram2d": [
           {
            "colorbar": {
             "outlinewidth": 0,
             "ticks": ""
            },
            "colorscale": [
             [
              0,
              "#0d0887"
             ],
             [
              0.1111111111111111,
              "#46039f"
             ],
             [
              0.2222222222222222,
              "#7201a8"
             ],
             [
              0.3333333333333333,
              "#9c179e"
             ],
             [
              0.4444444444444444,
              "#bd3786"
             ],
             [
              0.5555555555555556,
              "#d8576b"
             ],
             [
              0.6666666666666666,
              "#ed7953"
             ],
             [
              0.7777777777777778,
              "#fb9f3a"
             ],
             [
              0.8888888888888888,
              "#fdca26"
             ],
             [
              1,
              "#f0f921"
             ]
            ],
            "type": "histogram2d"
           }
          ],
          "histogram2dcontour": [
           {
            "colorbar": {
             "outlinewidth": 0,
             "ticks": ""
            },
            "colorscale": [
             [
              0,
              "#0d0887"
             ],
             [
              0.1111111111111111,
              "#46039f"
             ],
             [
              0.2222222222222222,
              "#7201a8"
             ],
             [
              0.3333333333333333,
              "#9c179e"
             ],
             [
              0.4444444444444444,
              "#bd3786"
             ],
             [
              0.5555555555555556,
              "#d8576b"
             ],
             [
              0.6666666666666666,
              "#ed7953"
             ],
             [
              0.7777777777777778,
              "#fb9f3a"
             ],
             [
              0.8888888888888888,
              "#fdca26"
             ],
             [
              1,
              "#f0f921"
             ]
            ],
            "type": "histogram2dcontour"
           }
          ],
          "mesh3d": [
           {
            "colorbar": {
             "outlinewidth": 0,
             "ticks": ""
            },
            "type": "mesh3d"
           }
          ],
          "parcoords": [
           {
            "line": {
             "colorbar": {
              "outlinewidth": 0,
              "ticks": ""
             }
            },
            "type": "parcoords"
           }
          ],
          "pie": [
           {
            "automargin": true,
            "type": "pie"
           }
          ],
          "scatter": [
           {
            "fillpattern": {
             "fillmode": "overlay",
             "size": 10,
             "solidity": 0.2
            },
            "type": "scatter"
           }
          ],
          "scatter3d": [
           {
            "line": {
             "colorbar": {
              "outlinewidth": 0,
              "ticks": ""
             }
            },
            "marker": {
             "colorbar": {
              "outlinewidth": 0,
              "ticks": ""
             }
            },
            "type": "scatter3d"
           }
          ],
          "scattercarpet": [
           {
            "marker": {
             "colorbar": {
              "outlinewidth": 0,
              "ticks": ""
             }
            },
            "type": "scattercarpet"
           }
          ],
          "scattergeo": [
           {
            "marker": {
             "colorbar": {
              "outlinewidth": 0,
              "ticks": ""
             }
            },
            "type": "scattergeo"
           }
          ],
          "scattergl": [
           {
            "marker": {
             "colorbar": {
              "outlinewidth": 0,
              "ticks": ""
             }
            },
            "type": "scattergl"
           }
          ],
          "scattermapbox": [
           {
            "marker": {
             "colorbar": {
              "outlinewidth": 0,
              "ticks": ""
             }
            },
            "type": "scattermapbox"
           }
          ],
          "scatterpolar": [
           {
            "marker": {
             "colorbar": {
              "outlinewidth": 0,
              "ticks": ""
             }
            },
            "type": "scatterpolar"
           }
          ],
          "scatterpolargl": [
           {
            "marker": {
             "colorbar": {
              "outlinewidth": 0,
              "ticks": ""
             }
            },
            "type": "scatterpolargl"
           }
          ],
          "scatterternary": [
           {
            "marker": {
             "colorbar": {
              "outlinewidth": 0,
              "ticks": ""
             }
            },
            "type": "scatterternary"
           }
          ],
          "surface": [
           {
            "colorbar": {
             "outlinewidth": 0,
             "ticks": ""
            },
            "colorscale": [
             [
              0,
              "#0d0887"
             ],
             [
              0.1111111111111111,
              "#46039f"
             ],
             [
              0.2222222222222222,
              "#7201a8"
             ],
             [
              0.3333333333333333,
              "#9c179e"
             ],
             [
              0.4444444444444444,
              "#bd3786"
             ],
             [
              0.5555555555555556,
              "#d8576b"
             ],
             [
              0.6666666666666666,
              "#ed7953"
             ],
             [
              0.7777777777777778,
              "#fb9f3a"
             ],
             [
              0.8888888888888888,
              "#fdca26"
             ],
             [
              1,
              "#f0f921"
             ]
            ],
            "type": "surface"
           }
          ],
          "table": [
           {
            "cells": {
             "fill": {
              "color": "#EBF0F8"
             },
             "line": {
              "color": "white"
             }
            },
            "header": {
             "fill": {
              "color": "#C8D4E3"
             },
             "line": {
              "color": "white"
             }
            },
            "type": "table"
           }
          ]
         },
         "layout": {
          "annotationdefaults": {
           "arrowcolor": "#2a3f5f",
           "arrowhead": 0,
           "arrowwidth": 1
          },
          "autotypenumbers": "strict",
          "coloraxis": {
           "colorbar": {
            "outlinewidth": 0,
            "ticks": ""
           }
          },
          "colorscale": {
           "diverging": [
            [
             0,
             "#8e0152"
            ],
            [
             0.1,
             "#c51b7d"
            ],
            [
             0.2,
             "#de77ae"
            ],
            [
             0.3,
             "#f1b6da"
            ],
            [
             0.4,
             "#fde0ef"
            ],
            [
             0.5,
             "#f7f7f7"
            ],
            [
             0.6,
             "#e6f5d0"
            ],
            [
             0.7,
             "#b8e186"
            ],
            [
             0.8,
             "#7fbc41"
            ],
            [
             0.9,
             "#4d9221"
            ],
            [
             1,
             "#276419"
            ]
           ],
           "sequential": [
            [
             0,
             "#0d0887"
            ],
            [
             0.1111111111111111,
             "#46039f"
            ],
            [
             0.2222222222222222,
             "#7201a8"
            ],
            [
             0.3333333333333333,
             "#9c179e"
            ],
            [
             0.4444444444444444,
             "#bd3786"
            ],
            [
             0.5555555555555556,
             "#d8576b"
            ],
            [
             0.6666666666666666,
             "#ed7953"
            ],
            [
             0.7777777777777778,
             "#fb9f3a"
            ],
            [
             0.8888888888888888,
             "#fdca26"
            ],
            [
             1,
             "#f0f921"
            ]
           ],
           "sequentialminus": [
            [
             0,
             "#0d0887"
            ],
            [
             0.1111111111111111,
             "#46039f"
            ],
            [
             0.2222222222222222,
             "#7201a8"
            ],
            [
             0.3333333333333333,
             "#9c179e"
            ],
            [
             0.4444444444444444,
             "#bd3786"
            ],
            [
             0.5555555555555556,
             "#d8576b"
            ],
            [
             0.6666666666666666,
             "#ed7953"
            ],
            [
             0.7777777777777778,
             "#fb9f3a"
            ],
            [
             0.8888888888888888,
             "#fdca26"
            ],
            [
             1,
             "#f0f921"
            ]
           ]
          },
          "colorway": [
           "#636efa",
           "#EF553B",
           "#00cc96",
           "#ab63fa",
           "#FFA15A",
           "#19d3f3",
           "#FF6692",
           "#B6E880",
           "#FF97FF",
           "#FECB52"
          ],
          "font": {
           "color": "#2a3f5f"
          },
          "geo": {
           "bgcolor": "white",
           "lakecolor": "white",
           "landcolor": "#E5ECF6",
           "showlakes": true,
           "showland": true,
           "subunitcolor": "white"
          },
          "hoverlabel": {
           "align": "left"
          },
          "hovermode": "closest",
          "mapbox": {
           "style": "light"
          },
          "paper_bgcolor": "white",
          "plot_bgcolor": "#E5ECF6",
          "polar": {
           "angularaxis": {
            "gridcolor": "white",
            "linecolor": "white",
            "ticks": ""
           },
           "bgcolor": "#E5ECF6",
           "radialaxis": {
            "gridcolor": "white",
            "linecolor": "white",
            "ticks": ""
           }
          },
          "scene": {
           "xaxis": {
            "backgroundcolor": "#E5ECF6",
            "gridcolor": "white",
            "gridwidth": 2,
            "linecolor": "white",
            "showbackground": true,
            "ticks": "",
            "zerolinecolor": "white"
           },
           "yaxis": {
            "backgroundcolor": "#E5ECF6",
            "gridcolor": "white",
            "gridwidth": 2,
            "linecolor": "white",
            "showbackground": true,
            "ticks": "",
            "zerolinecolor": "white"
           },
           "zaxis": {
            "backgroundcolor": "#E5ECF6",
            "gridcolor": "white",
            "gridwidth": 2,
            "linecolor": "white",
            "showbackground": true,
            "ticks": "",
            "zerolinecolor": "white"
           }
          },
          "shapedefaults": {
           "line": {
            "color": "#2a3f5f"
           }
          },
          "ternary": {
           "aaxis": {
            "gridcolor": "white",
            "linecolor": "white",
            "ticks": ""
           },
           "baxis": {
            "gridcolor": "white",
            "linecolor": "white",
            "ticks": ""
           },
           "bgcolor": "#E5ECF6",
           "caxis": {
            "gridcolor": "white",
            "linecolor": "white",
            "ticks": ""
           }
          },
          "title": {
           "x": 0.05
          },
          "xaxis": {
           "automargin": true,
           "gridcolor": "white",
           "linecolor": "white",
           "ticks": "",
           "title": {
            "standoff": 15
           },
           "zerolinecolor": "white",
           "zerolinewidth": 2
          },
          "yaxis": {
           "automargin": true,
           "gridcolor": "white",
           "linecolor": "white",
           "ticks": "",
           "title": {
            "standoff": 15
           },
           "zerolinecolor": "white",
           "zerolinewidth": 2
          }
         }
        },
        "xaxis": {
         "anchor": "y",
         "domain": [
          0,
          1
         ],
         "title": {
          "text": "x"
         }
        },
        "yaxis": {
         "anchor": "x",
         "domain": [
          0,
          1
         ],
         "title": {
          "text": "y"
         }
        }
       }
      }
     },
     "metadata": {},
     "output_type": "display_data"
    }
   ],
   "source": [
    "# Graficar los embedddings en 2D\n",
    "import plotly.graph_objects as go\n",
    "import plotly.express as px\n",
    "\n",
    "vecs, labels = reduce_dimensions(w2v_model)\n",
    "\n",
    "MAX_WORDS=100\n",
    "fig = px.scatter(x=vecs[:MAX_WORDS,0], y=vecs[:MAX_WORDS,1], text=labels[:MAX_WORDS])\n",
    "fig\n",
    "#fig.show(renderer=\"colab\") # esto para plotly en colab"
   ]
  },
  {
   "cell_type": "code",
   "execution_count": 82,
   "metadata": {},
   "outputs": [],
   "source": [
    "# También se pueden guardar los vectores y labels como tsv para graficar en\n",
    "# http://projector.tensorflow.org/\n",
    "\n",
    "vectors = np.asarray(w2v_model.wv.vectors)\n",
    "labels = list(w2v_model.wv.index_to_key)\n",
    "\n",
    "np.savetxt(\"./vectors.tsv\", vectors, delimiter=\"\\t\")\n",
    "\n",
    "with open(\"./labels.tsv\", \"w\") as fp:\n",
    "    for item in labels:\n",
    "        fp.write(\"%s\\n\" % item)"
   ]
  },
  {
   "cell_type": "code",
   "execution_count": 83,
   "metadata": {},
   "outputs": [],
   "source": [
    "# Armamos una función para graficar la matriz de similaridad\n",
    "def plot_matrix_distance(words, dist):\n",
    "    fig = plt.figure(figsize=(16,9))\n",
    "    ax = fig.add_subplot()\n",
    "    sns.heatmap(dist, xticklabels=words, yticklabels=words, \n",
    "                annot=True, fmt=\".2f\", cmap=\"YlGnBu\", ax=ax, mask=np.triu(dist))\n",
    "    plt.show()"
   ]
  },
  {
   "cell_type": "code",
   "execution_count": 88,
   "metadata": {},
   "outputs": [
    {
     "data": {
      "image/png": "[encoded data removed]",
      "text/plain": [
       "<Figure size 1600x900 with 2 Axes>"
      ]
     },
     "metadata": {},
     "output_type": "display_data"
    }
   ],
   "source": [
    "from sklearn.metrics import pairwise\n",
    "# probamos un test de analogía\n",
    "test_words = ['sansa', 'ring', 'fire', 'throne']\n",
    "\n",
    "test_emb = []\n",
    "for word in test_words:\n",
    "    test_emb.append(w2v_model.wv.get_vector(word))\n",
    "    \n",
    "# legolas - elves + frodo\n",
    "new_hobbit = test_emb[0] - test_emb[1] + test_emb[2]\n",
    "\n",
    "new_words = test_words + ['dragon']\n",
    "new_emb = np.append(test_emb, new_hobbit.reshape(1, -1), axis=0)\n",
    "\n",
    "dist = pairwise.cosine_similarity(new_emb, new_emb)\n",
    "\n",
    "plot_matrix_distance(new_words, dist)"
   ]
  },
  {
   "cell_type": "code",
   "execution_count": 89,
   "metadata": {},
   "outputs": [],
   "source": [
    "# calculamos la similaridad de 'new_hobbit' contra todos los vectores\n",
    "# puede tardar unos segundos\n",
    "similarities = np.squeeze(pairwise.cosine_similarity(w2v_model.wv.vectors,np.array([new_hobbit])))"
   ]
  },
  {
   "cell_type": "code",
   "execution_count": 90,
   "metadata": {},
   "outputs": [
    {
     "name": "stdout",
     "output_type": "stream",
     "text": [
      "sansa: 0.6733781099319458\n",
      "fire: 0.6117540001869202\n",
      "wouldn't: 0.3649292290210724\n",
      "shuddered: 0.3395819664001465\n",
      "lyanna: 0.33492380380630493\n",
      "': 0.32705873250961304\n",
      "blinking: 0.32105347514152527\n",
      "miserably: 0.32021862268447876\n",
      "animals: 0.3186982572078705\n",
      "mordane: 0.31674614548683167\n"
     ]
    }
   ],
   "source": [
    "# vemos cuáles son los 10 vectores más similares\n",
    "args_sorted = np.argsort(similarities)[::-1][:10]\n",
    "for arg in args_sorted:\n",
    "  print(f'{labels[arg]}: {similarities[arg]}')"
   ]
  }
 ],
 "metadata": {
  "kernelspec": {
   "display_name": "Python 3",
   "language": "python",
   "name": "python3"
  },
  "language_info": {
   "codemirror_mode": {
    "name": "ipython",
    "version": 3
   },
   "file_extension": ".py",
   "mimetype": "text/x-python",
   "name": "python",
   "nbconvert_exporter": "python",
   "pygments_lexer": "ipython3",
   "version": "3.11.3"
  }
 },
 "nbformat": 4,
 "nbformat_minor": 2
}
